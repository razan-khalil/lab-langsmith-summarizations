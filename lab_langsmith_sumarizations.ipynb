{
  "cells": [
    {
      "cell_type": "markdown",
      "id": "52bb9c6d-7a1c-480a-93c9-acf847773163",
      "metadata": {
        "id": "52bb9c6d-7a1c-480a-93c9-acf847773163"
      },
      "source": [
        "# Lab | Summarization evaluation using LangSmith\n",
        "Let's revisit your capstone project 2? Well, sort of. Pick diffierent sets of data and re-run this notebook. Maybe parts of the dataset you used in your last project week. The point is for you to understand all steps involve and the many different ways one can and should evaluate LLM applications using LangSmith.\n",
        "\n",
        "What did you learn? - Let's discuss that in class"
      ]
    },
    {
      "cell_type": "markdown",
      "id": "00830bb4-eb0f-4439-9ceb-c5956d28a8a9",
      "metadata": {
        "id": "00830bb4-eb0f-4439-9ceb-c5956d28a8a9"
      },
      "source": [
        "## LangSmith - LangChain evaluation"
      ]
    },
    {
      "cell_type": "code",
      "source": [
        "!pip install -q python-dotenv"
      ],
      "metadata": {
        "id": "8ieet_341Cnl"
      },
      "id": "8ieet_341Cnl",
      "execution_count": 2,
      "outputs": []
    },
    {
      "cell_type": "code",
      "execution_count": 3,
      "id": "6db4887a-a214-49bc-9bb6-0ae59c1092ec",
      "metadata": {
        "id": "6db4887a-a214-49bc-9bb6-0ae59c1092ec",
        "tags": []
      },
      "outputs": [],
      "source": [
        "from dotenv import load_dotenv, find_dotenv\n",
        "import os\n",
        "_ = load_dotenv(find_dotenv())\n"
      ]
    },
    {
      "cell_type": "code",
      "execution_count": 4,
      "id": "5f4adff9-1169-4173-a72b-c983dcb6160d",
      "metadata": {
        "id": "5f4adff9-1169-4173-a72b-c983dcb6160d",
        "tags": []
      },
      "outputs": [],
      "source": [
        "os.environ[\"LANGCHAIN_TRACING_V2\"] = \"true\"\n",
        "os.environ[\"LANGCHAIN_ENDPOINT\"]=\"https://api.smith.langchain.com\"\n",
        "os.environ[\"LANGCHAIN_PROJECT\"]=\"langsmith_max-test\""
      ]
    },
    {
      "cell_type": "code",
      "execution_count": 5,
      "id": "0189af0e-8145-407b-a32d-2f21ac0ca5ff",
      "metadata": {
        "id": "0189af0e-8145-407b-a32d-2f21ac0ca5ff",
        "tags": []
      },
      "outputs": [],
      "source": [
        "#Importing Client from Langsmith\n",
        "from langsmith import Client\n",
        "client = Client(api_key=LANGCHAIN_API_KEY)"
      ]
    },
    {
      "cell_type": "markdown",
      "id": "4e7c4be2-fdae-42cf-b1b2-9aef89081ad2",
      "metadata": {
        "id": "4e7c4be2-fdae-42cf-b1b2-9aef89081ad2"
      },
      "source": [
        "### Create Dataset\n"
      ]
    },
    {
      "cell_type": "code",
      "source": [
        "!pip install -q datasets"
      ],
      "metadata": {
        "colab": {
          "base_uri": "https://localhost:8080/"
        },
        "id": "ZzCO0yd11NjX",
        "outputId": "56683294-fd96-4ce8-ef4c-f4caedbc3f75"
      },
      "id": "ZzCO0yd11NjX",
      "execution_count": 7,
      "outputs": [
        {
          "output_type": "stream",
          "name": "stdout",
          "text": [
            "\u001b[?25l   \u001b[90m━━━━━━━━━━━━━━━━━━━━━━━━━━━━━━━━━━━━━━━━\u001b[0m \u001b[32m0.0/491.2 kB\u001b[0m \u001b[31m?\u001b[0m eta \u001b[36m-:--:--\u001b[0m\r\u001b[2K   \u001b[90m━━━━━━━━━━━━━━━━━━━━━━━━━━━━━━━━━━━━━━━━\u001b[0m \u001b[32m491.2/491.2 kB\u001b[0m \u001b[31m17.8 MB/s\u001b[0m eta \u001b[36m0:00:00\u001b[0m\n",
            "\u001b[?25h\u001b[?25l   \u001b[90m━━━━━━━━━━━━━━━━━━━━━━━━━━━━━━━━━━━━━━━━\u001b[0m \u001b[32m0.0/116.3 kB\u001b[0m \u001b[31m?\u001b[0m eta \u001b[36m-:--:--\u001b[0m\r\u001b[2K   \u001b[90m━━━━━━━━━━━━━━━━━━━━━━━━━━━━━━━━━━━━━━━━\u001b[0m \u001b[32m116.3/116.3 kB\u001b[0m \u001b[31m12.0 MB/s\u001b[0m eta \u001b[36m0:00:00\u001b[0m\n",
            "\u001b[?25h\u001b[?25l   \u001b[90m━━━━━━━━━━━━━━━━━━━━━━━━━━━━━━━━━━━━━━━━\u001b[0m \u001b[32m0.0/183.9 kB\u001b[0m \u001b[31m?\u001b[0m eta \u001b[36m-:--:--\u001b[0m\r\u001b[2K   \u001b[90m━━━━━━━━━━━━━━━━━━━━━━━━━━━━━━━━━━━━━━━━\u001b[0m \u001b[32m183.9/183.9 kB\u001b[0m \u001b[31m20.0 MB/s\u001b[0m eta \u001b[36m0:00:00\u001b[0m\n",
            "\u001b[?25h\u001b[?25l   \u001b[90m━━━━━━━━━━━━━━━━━━━━━━━━━━━━━━━━━━━━━━━━\u001b[0m \u001b[32m0.0/143.5 kB\u001b[0m \u001b[31m?\u001b[0m eta \u001b[36m-:--:--\u001b[0m\r\u001b[2K   \u001b[90m━━━━━━━━━━━━━━━━━━━━━━━━━━━━━━━━━━━━━━━━\u001b[0m \u001b[32m143.5/143.5 kB\u001b[0m \u001b[31m15.5 MB/s\u001b[0m eta \u001b[36m0:00:00\u001b[0m\n",
            "\u001b[?25h\u001b[?25l   \u001b[90m━━━━━━━━━━━━━━━━━━━━━━━━━━━━━━━━━━━━━━━━\u001b[0m \u001b[32m0.0/194.8 kB\u001b[0m \u001b[31m?\u001b[0m eta \u001b[36m-:--:--\u001b[0m\r\u001b[2K   \u001b[90m━━━━━━━━━━━━━━━━━━━━━━━━━━━━━━━━━━━━━━━━\u001b[0m \u001b[32m194.8/194.8 kB\u001b[0m \u001b[31m20.8 MB/s\u001b[0m eta \u001b[36m0:00:00\u001b[0m\n",
            "\u001b[?25h\u001b[31mERROR: pip's dependency resolver does not currently take into account all the packages that are installed. This behaviour is the source of the following dependency conflicts.\n",
            "gcsfs 2025.3.2 requires fsspec==2025.3.2, but you have fsspec 2024.12.0 which is incompatible.\n",
            "torch 2.6.0+cu124 requires nvidia-cublas-cu12==12.4.5.8; platform_system == \"Linux\" and platform_machine == \"x86_64\", but you have nvidia-cublas-cu12 12.5.3.2 which is incompatible.\n",
            "torch 2.6.0+cu124 requires nvidia-cuda-cupti-cu12==12.4.127; platform_system == \"Linux\" and platform_machine == \"x86_64\", but you have nvidia-cuda-cupti-cu12 12.5.82 which is incompatible.\n",
            "torch 2.6.0+cu124 requires nvidia-cuda-nvrtc-cu12==12.4.127; platform_system == \"Linux\" and platform_machine == \"x86_64\", but you have nvidia-cuda-nvrtc-cu12 12.5.82 which is incompatible.\n",
            "torch 2.6.0+cu124 requires nvidia-cuda-runtime-cu12==12.4.127; platform_system == \"Linux\" and platform_machine == \"x86_64\", but you have nvidia-cuda-runtime-cu12 12.5.82 which is incompatible.\n",
            "torch 2.6.0+cu124 requires nvidia-cudnn-cu12==9.1.0.70; platform_system == \"Linux\" and platform_machine == \"x86_64\", but you have nvidia-cudnn-cu12 9.3.0.75 which is incompatible.\n",
            "torch 2.6.0+cu124 requires nvidia-cufft-cu12==11.2.1.3; platform_system == \"Linux\" and platform_machine == \"x86_64\", but you have nvidia-cufft-cu12 11.2.3.61 which is incompatible.\n",
            "torch 2.6.0+cu124 requires nvidia-curand-cu12==10.3.5.147; platform_system == \"Linux\" and platform_machine == \"x86_64\", but you have nvidia-curand-cu12 10.3.6.82 which is incompatible.\n",
            "torch 2.6.0+cu124 requires nvidia-cusolver-cu12==11.6.1.9; platform_system == \"Linux\" and platform_machine == \"x86_64\", but you have nvidia-cusolver-cu12 11.6.3.83 which is incompatible.\n",
            "torch 2.6.0+cu124 requires nvidia-cusparse-cu12==12.3.1.170; platform_system == \"Linux\" and platform_machine == \"x86_64\", but you have nvidia-cusparse-cu12 12.5.1.3 which is incompatible.\n",
            "torch 2.6.0+cu124 requires nvidia-nvjitlink-cu12==12.4.127; platform_system == \"Linux\" and platform_machine == \"x86_64\", but you have nvidia-nvjitlink-cu12 12.5.82 which is incompatible.\u001b[0m\u001b[31m\n",
            "\u001b[0m"
          ]
        }
      ]
    },
    {
      "cell_type": "code",
      "execution_count": 8,
      "id": "dbc219ae-1760-4f3d-92e6-aaeb6fb7ee9f",
      "metadata": {
        "colab": {
          "base_uri": "https://localhost:8080/",
          "height": 461,
          "referenced_widgets": [
            "6d118e6cc25446b98d7ddf6d29a91db9",
            "0d13e64db94a47e2928159497944b3a1",
            "854e431662c34ee6aed9988292200756",
            "c8fb1ec07c254be187e8357366d7c6c4",
            "1b8a45198e9f4fbdb25439dd89525a60",
            "bf2d8b1ebfb14a3b971714729c24563b",
            "6f049864a65e45689333843d939ba1f4",
            "2e3f336ef49b4906a2e5c332ae68870e",
            "2047ac6c93a8459f9722d8f206c75539",
            "85977e96def44a9eb6b124f88fc3d686",
            "b84827f068834e28829cd2ea32c0d8d8",
            "9595ad2dab464af0b98a8dba08cdd05e",
            "68593a06e41a40d1b0ef9135d75fb7c3",
            "dfadaf515e784571a354ed7efb919b60",
            "fb6f636586864904ab12ecb09eb8cec9",
            "cce3d4f094e4418b8b6d476ad22d53ca",
            "0986f76d4ffb4c98bfaabf460c98c648",
            "8cc833d27ec34f778ea7b8611df9014f",
            "d3c2c91b5e44451581a1bc67ace129de",
            "0d0f5348fad8461883c5c2b6d9c13faa",
            "b7f426bcf52845b0b6af72787849710e",
            "7ac050b553864a0ca93211f1b5278ba2",
            "3f586fd609b74a2b909e0bc52b2e5eb7",
            "775dd92da3f34417b71bade6973c737b",
            "c972ce6f97004707b0b12e79005c9076",
            "138798971e75449cafa55a095308c71a",
            "37832c4059ba4e61be7247ec6e0f97ee",
            "3e018caab3a141eea063c649dde9bbf0",
            "3cb78537cae648da88395eaeb673102d",
            "258228a57d6248aca8f27b41e5c139e2",
            "5355c120419a4cf59b542303ca3bbfc7",
            "f4f31c389da64d91acceff1fd95005dc",
            "7274943873e941569dac37f8fa11fbe8",
            "e2abcca13c89404bbc2f451ae4feab97",
            "12002400493e44329ec608ab15406e38",
            "9b7764fd755a4fc9854eacb3304104ad",
            "e48509a15f5f40228be07fcad12049d4",
            "e1f01cd5eef34142910603d6ff7bc220",
            "7ffb746faeda4cacb95eb1035da440a4",
            "19e8ec368e244535a1814b9042b7a77c",
            "cd113438e2e34ec28833e1bfc19355dc",
            "650afeb82b004aa5912d97d29053899f",
            "3ca34067528a452fbb8536a99c4b6602",
            "52ca75b56004412e99fe4a25647ecca7",
            "1800fe2f13e54941b9fb69a9d54e0088",
            "764d032319bd402e8c4b7f9d3f158385",
            "700e252d061e4a5bb022d3102f7a657c",
            "5a21b2f78248475182a7df88abe84b8c",
            "ccb71b458c254e40844e9a9188b78b14",
            "99a60778f50e452998ad80ba8d814c2b",
            "5e0a6ae526054390aff81f88f48f47a5",
            "e9facef93cd6405c9317992e42234b29",
            "1566e04187ea49febd9eb200b5e8fb9d",
            "903a37982a1a4d60bb0c09e3eb2b05b4",
            "0098500fc3c94434b9e2b09e0140ff27",
            "afc34bf7c477401da49c257ba088e62d",
            "8d8559d44a41415fa2dc0abed45d130a",
            "9f7c5c803c4543f08a362e9def781d08",
            "42a7e1c1f6ba48b7983e5800ecf2feb9",
            "e9ad545c97314bf3a7da28c6ba977a83",
            "57c3150aa49647229b6e5143f37ab10b",
            "1c433bbffb5e48fb9c0e406467292aef",
            "77f34f8a880641d99adb038edff07945",
            "d56fab91848444529c61f6ee49eda4fc",
            "973e71b0cdf443d3aa90aae92a079531",
            "e6ef957b09484f668960958ffaeba81b",
            "c76c045426dd4cee8642192d7ab8716a",
            "4b8bafd131be42d0a42337865060bede",
            "f95b40733a394410ad0e2af4222da661",
            "a853585cdb9743b6a397a09a23b58d31",
            "7787d27c32654c1d8b691ee707776430",
            "068593a4852343458ac0ec17cd96757c",
            "931df97479eb4ddebb15ba485896ddea",
            "9d3ec8b6150f4fb19a4954be9c476743",
            "b21d96cbc2ba43a8a59d39d21adeaaf5",
            "75fbab0855274118bdce8764bfe1dc27",
            "3dffb9c48a9043f181112fe66d76c35e",
            "c67f47db7e704570b522f677439a2a93",
            "4333678965a447b490be3ba8a21a244c",
            "a2252ad9d9d24e18af8e67e604b04515",
            "e2c45a5d92e44f90a749c18e848b241f",
            "33e8c7be2e964d0f886324c83a9a2826",
            "520b4a3a7cb04c8e81e35d4b2d00f1c8",
            "c1ee91962b454fc1ab4d6bd2d93e6dda",
            "876c8fe8b19346129a76378693d569af",
            "c43a9beefd4b4f988d8ea136aa97fe05",
            "b65b9467d627402396a8f8e108533d06",
            "fe790e7e8d4a4c828e58023e5ed813af",
            "f5a75f8f84c148bdb55dbdf24b74852e",
            "fbcddf227bb04c79960c0dbf1790e6cc",
            "6ec454a19c5441fe8c1bd05772ce54d5",
            "94d6a648482f4dbe8342fa082dca57a2",
            "60c58a738c644f38b98b0df1fe23d2f2",
            "f551277d572047b0aa4c4efb4c6dd2a7",
            "73469842a27145babef4061996892f0d",
            "a124f9efb7204ca48e6b367947728d36",
            "8bf28b1a234b43fbaff7f4f431c671a5",
            "40c32eabdcef4b6cb46a2ad3c4fc216d",
            "4197131ce4f94b3dbf5ce1dcbcc01307",
            "d7e5ca3243c74bb8a5091b9c96137a49",
            "3ab572cb9ecb435ba2e5bf437481bee2",
            "5e57e791a9a64bc39df3b908ff4358e1",
            "09b4be1a37b84ab491af93e97f70890d",
            "d6f607d6b24f4f2ebccaac4a2e5fe1e2",
            "4a9c742bde1349c7a1a1d5a4b16dd107",
            "5e7e2f3f8f404e899fe2b42b69ddbac4",
            "e706509314e0401c832ae381362705dc",
            "7e7dcb6f628c4b85865e04658e7942f8",
            "12f13f91709f446e89d6441dcb4041a4",
            "660c3fa9697549c696c28cf6d737703c"
          ]
        },
        "id": "dbc219ae-1760-4f3d-92e6-aaeb6fb7ee9f",
        "outputId": "d5f95f72-8973-4d8c-ca8b-b9bb30c677b6",
        "tags": []
      },
      "outputs": [
        {
          "output_type": "stream",
          "name": "stderr",
          "text": [
            "/usr/local/lib/python3.11/dist-packages/huggingface_hub/utils/_auth.py:94: UserWarning: \n",
            "The secret `HF_TOKEN` does not exist in your Colab secrets.\n",
            "To authenticate with the Hugging Face Hub, create a token in your settings tab (https://huggingface.co/settings/tokens), set it as secret in your Google Colab and restart your session.\n",
            "You will be able to reuse this secret in all of your notebooks.\n",
            "Please note that authentication is recommended but still optional to access public models or datasets.\n",
            "  warnings.warn(\n"
          ]
        },
        {
          "output_type": "display_data",
          "data": {
            "text/plain": [
              "README.md:   0%|          | 0.00/13.9k [00:00<?, ?B/s]"
            ],
            "application/vnd.jupyter.widget-view+json": {
              "version_major": 2,
              "version_minor": 0,
              "model_id": "6d118e6cc25446b98d7ddf6d29a91db9"
            }
          },
          "metadata": {}
        },
        {
          "output_type": "display_data",
          "data": {
            "text/plain": [
              "cnn_dailymail.py:   0%|          | 0.00/9.27k [00:00<?, ?B/s]"
            ],
            "application/vnd.jupyter.widget-view+json": {
              "version_major": 2,
              "version_minor": 0,
              "model_id": "9595ad2dab464af0b98a8dba08cdd05e"
            }
          },
          "metadata": {}
        },
        {
          "output_type": "display_data",
          "data": {
            "text/plain": [
              "cnn_stories.tgz:   0%|          | 0.00/159M [00:00<?, ?B/s]"
            ],
            "application/vnd.jupyter.widget-view+json": {
              "version_major": 2,
              "version_minor": 0,
              "model_id": "3f586fd609b74a2b909e0bc52b2e5eb7"
            }
          },
          "metadata": {}
        },
        {
          "output_type": "display_data",
          "data": {
            "text/plain": [
              "dailymail_stories.tgz:   0%|          | 0.00/376M [00:00<?, ?B/s]"
            ],
            "application/vnd.jupyter.widget-view+json": {
              "version_major": 2,
              "version_minor": 0,
              "model_id": "e2abcca13c89404bbc2f451ae4feab97"
            }
          },
          "metadata": {}
        },
        {
          "output_type": "display_data",
          "data": {
            "text/plain": [
              "Downloading data:   0%|          | 0.00/2.11M [00:00<?, ?B/s]"
            ],
            "application/vnd.jupyter.widget-view+json": {
              "version_major": 2,
              "version_minor": 0,
              "model_id": "1800fe2f13e54941b9fb69a9d54e0088"
            }
          },
          "metadata": {}
        },
        {
          "output_type": "display_data",
          "data": {
            "text/plain": [
              "Downloading data:   0%|          | 0.00/46.4M [00:00<?, ?B/s]"
            ],
            "application/vnd.jupyter.widget-view+json": {
              "version_major": 2,
              "version_minor": 0,
              "model_id": "afc34bf7c477401da49c257ba088e62d"
            }
          },
          "metadata": {}
        },
        {
          "output_type": "display_data",
          "data": {
            "text/plain": [
              "Downloading data:   0%|          | 0.00/2.43M [00:00<?, ?B/s]"
            ],
            "application/vnd.jupyter.widget-view+json": {
              "version_major": 2,
              "version_minor": 0,
              "model_id": "c76c045426dd4cee8642192d7ab8716a"
            }
          },
          "metadata": {}
        },
        {
          "output_type": "display_data",
          "data": {
            "text/plain": [
              "Generating train split: 0 examples [00:00, ? examples/s]"
            ],
            "application/vnd.jupyter.widget-view+json": {
              "version_major": 2,
              "version_minor": 0,
              "model_id": "c67f47db7e704570b522f677439a2a93"
            }
          },
          "metadata": {}
        },
        {
          "output_type": "display_data",
          "data": {
            "text/plain": [
              "Generating validation split: 0 examples [00:00, ? examples/s]"
            ],
            "application/vnd.jupyter.widget-view+json": {
              "version_major": 2,
              "version_minor": 0,
              "model_id": "f5a75f8f84c148bdb55dbdf24b74852e"
            }
          },
          "metadata": {}
        },
        {
          "output_type": "display_data",
          "data": {
            "text/plain": [
              "Generating test split: 0 examples [00:00, ? examples/s]"
            ],
            "application/vnd.jupyter.widget-view+json": {
              "version_major": 2,
              "version_minor": 0,
              "model_id": "d7e5ca3243c74bb8a5091b9c96137a49"
            }
          },
          "metadata": {}
        }
      ],
      "source": [
        "from datasets import load_dataset\n",
        "cnn_dataset = load_dataset(\n",
        "    \"ccdv/cnn_dailymail\", version\n",
        "    =\"3.0.0\",\n",
        "    trust_remote_code=True\n",
        ")"
      ]
    },
    {
      "cell_type": "code",
      "execution_count": 9,
      "id": "7684f9ef-f665-42c1-ac89-f2726f7ae0da",
      "metadata": {
        "id": "7684f9ef-f665-42c1-ac89-f2726f7ae0da",
        "tags": []
      },
      "outputs": [],
      "source": [
        "def add_prefix(example):\n",
        "    return {\n",
        "        **example,\n",
        "        \"article\": f\"Summarize this news:\\n{example['article']}\"\n",
        "    }\n",
        "\n",
        "#cnn_dataset = cnn_dataset.map(add_prefix)"
      ]
    },
    {
      "cell_type": "code",
      "execution_count": 10,
      "id": "3b54b146-e870-4721-a0ae-03401d52d8ac",
      "metadata": {
        "tags": [],
        "colab": {
          "base_uri": "https://localhost:8080/"
        },
        "id": "3b54b146-e870-4721-a0ae-03401d52d8ac",
        "outputId": "9f1d3727-d8ac-4a1c-d31d-d713028c6cb7"
      },
      "outputs": [
        {
          "output_type": "execute_result",
          "data": {
            "text/plain": [
              "DatasetDict({\n",
              "    train: Dataset({\n",
              "        features: ['article', 'highlights', 'id'],\n",
              "        num_rows: 287113\n",
              "    })\n",
              "    validation: Dataset({\n",
              "        features: ['article', 'highlights', 'id'],\n",
              "        num_rows: 13368\n",
              "    })\n",
              "    test: Dataset({\n",
              "        features: ['article', 'highlights', 'id'],\n",
              "        num_rows: 11490\n",
              "    })\n",
              "})"
            ]
          },
          "metadata": {},
          "execution_count": 10
        }
      ],
      "source": [
        "cnn_dataset"
      ]
    },
    {
      "cell_type": "code",
      "execution_count": 11,
      "id": "4925ad37-55f3-44b1-9c46-3adcc8c58942",
      "metadata": {
        "tags": [],
        "colab": {
          "base_uri": "https://localhost:8080/"
        },
        "id": "4925ad37-55f3-44b1-9c46-3adcc8c58942",
        "outputId": "0b58ef6f-bd56-4026-e409-64f098e5c5a9"
      },
      "outputs": [
        {
          "output_type": "execute_result",
          "data": {
            "text/plain": [
              "{'article': 'It\\'s official: U.S. President Barack Obama wants lawmakers to weigh in on whether to use military force in Syria. Obama sent a letter to the heads of the House and Senate on Saturday night, hours after announcing that he believes military action against Syrian targets is the right step to take over the alleged use of chemical weapons. The proposed legislation from Obama asks Congress to approve the use of military force \"to deter, disrupt, prevent and degrade the potential for future uses of chemical weapons or other weapons of mass destruction.\" It\\'s a step that is set to turn an international crisis into a fierce domestic political battle. There are key questions looming over the debate: What did U.N. weapons inspectors find in Syria? What happens if Congress votes no? And how will the Syrian government react? In a televised address from the White House Rose Garden earlier Saturday, the president said he would take his case to Congress, not because he has to -- but because he wants to. \"While I believe I have the authority to carry out this military action without specific congressional authorization, I know that the country will be stronger if we take this course, and our actions will be even more effective,\" he said. \"We should have this debate, because the issues are too big for business as usual.\" Obama said top congressional leaders had agreed to schedule a debate when the body returns to Washington on September 9. The Senate Foreign Relations Committee will hold a hearing over the matter on Tuesday, Sen. Robert Menendez said. Transcript: Read Obama\\'s full remarks . Syrian crisis: Latest developments . U.N. inspectors leave Syria . Obama\\'s remarks came shortly after U.N. inspectors left Syria, carrying evidence that will determine whether chemical weapons were used in an attack early last week in a Damascus suburb. \"The aim of the game here, the mandate, is very clear -- and that is to ascertain whether chemical weapons were used -- and not by whom,\" U.N. spokesman Martin Nesirky told reporters on Saturday. But who used the weapons in the reported toxic gas attack in a Damascus suburb on August 21 has been a key point of global debate over the Syrian crisis. Top U.S. officials have said there\\'s no doubt that the Syrian government was behind it, while Syrian officials have denied responsibility and blamed jihadists fighting with the rebels. British and U.S. intelligence reports say the attack involved chemical weapons, but U.N. officials have stressed the importance of waiting for an official report from inspectors. The inspectors will share their findings with U.N. Secretary-General Ban Ki-moon Ban, who has said he wants to wait until the U.N. team\\'s final report is completed before presenting it to the U.N. Security Council. The Organization for the Prohibition of Chemical Weapons, which nine of the inspectors belong to, said Saturday that it could take up to three weeks to analyze the evidence they collected. \"It needs time to be able to analyze the information and the samples,\" Nesirky said. He noted that Ban has repeatedly said there is no alternative to a political solution to the crisis in Syria, and that \"a military solution is not an option.\" Bergen:  Syria is a problem from hell for the U.S. Obama: \\'This menace must be confronted\\' Obama\\'s senior advisers have debated the next steps to take, and the president\\'s comments Saturday came amid mounting political pressure over the situation in Syria. Some U.S. lawmakers have called for immediate action while others warn of stepping into what could become a quagmire. Some global leaders have expressed support, but the British Parliament\\'s vote against military action earlier this week was a blow to Obama\\'s hopes of getting strong backing from key NATO allies. On Saturday, Obama proposed what he said would be a limited military action against Syrian President Bashar al-Assad. Any military attack would not be open-ended or include U.S. ground forces, he said. Syria\\'s alleged use of chemical weapons earlier this month \"is an assault on human dignity,\" the president said. A failure to respond with force, Obama argued,  \"could lead to escalating use of chemical weapons or their proliferation to terrorist groups who would do our people harm. In a world with many dangers, this menace must be confronted.\" Syria missile strike: What would happen next? Map: U.S. and allied assets around Syria . Obama decision came Friday night . On Friday night, the president made a last-minute decision to consult lawmakers. What will happen if they vote no? It\\'s unclear. A senior administration official told CNN that Obama has the authority to act without Congress -- even if Congress rejects his request for authorization to use force. Obama on Saturday continued to shore up support for a strike on the al-Assad government. He spoke by phone with French President Francois Hollande before his Rose Garden speech. \"The two leaders agreed that the international community must deliver a resolute message to the Assad regime -- and others who would consider using chemical weapons -- that these crimes are unacceptable and those who violate this international norm will be held accountable by the world,\" the White House said. Meanwhile, as uncertainty loomed over how Congress would weigh in, U.S. military officials said they remained at the ready. 5 key assertions: U.S. intelligence report on Syria . Syria: Who wants what after chemical weapons horror . Reactions mixed to Obama\\'s speech . A spokesman for the Syrian National Coalition said that the opposition group was disappointed by Obama\\'s announcement. \"Our fear now is that the lack of action could embolden the regime and they repeat his attacks in a more serious way,\" said spokesman Louay Safi. \"So we are quite concerned.\" Some members of Congress applauded Obama\\'s decision. House Speaker John Boehner, Majority Leader Eric Cantor, Majority Whip Kevin McCarthy and Conference Chair Cathy McMorris Rodgers issued a statement Saturday praising the president. \"Under the Constitution, the responsibility to declare war lies with Congress,\" the Republican lawmakers said. \"We are glad the president is seeking authorization for any military action in Syria in response to serious, substantive questions being raised.\" More than 160 legislators, including 63 of Obama\\'s fellow Democrats, had signed letters calling for either a vote or at least a \"full debate\" before any U.S. action. British Prime Minister David Cameron, whose own attempt to get lawmakers in his country to support military action in Syria failed earlier this week, responded to Obama\\'s speech in a Twitter post Saturday. \"I understand and support Barack Obama\\'s position on Syria,\" Cameron said. An influential lawmaker in Russia -- which has stood by Syria and criticized the United States -- had his own theory. \"The main reason Obama is turning to the Congress:  the military operation did not get enough support either in the world, among allies of the US or in the United States itself,\" Alexei Pushkov, chairman of the international-affairs committee of the Russian State Duma, said in a Twitter post. In the United States, scattered groups of anti-war protesters around the country took to the streets Saturday. \"Like many other Americans...we\\'re just tired of the United States getting involved and invading and bombing other countries,\" said Robin Rosecrans, who was among hundreds at a Los Angeles demonstration. What do Syria\\'s neighbors think? Why Russia, China, Iran stand by Assad . Syria\\'s government unfazed . After Obama\\'s speech, a military and political analyst on Syrian state TV said Obama is \"embarrassed\" that Russia opposes military action against Syria, is \"crying for help\" for someone to come to his rescue and is facing two defeats -- on the political and military levels. Syria\\'s prime minister appeared unfazed by the saber-rattling. \"The Syrian Army\\'s status is on maximum readiness and fingers are on the trigger to confront all challenges,\" Wael Nader al-Halqi said during a meeting with a delegation of Syrian expatriates from Italy, according to a banner on Syria State TV that was broadcast prior to Obama\\'s address. An anchor on Syrian state television said Obama \"appeared to be preparing for an aggression on Syria based on repeated lies.\" A top Syrian diplomat told the state television network that Obama was facing pressure to take military action from Israel, Turkey, some Arabs and right-wing extremists in the United States. \"I think he has done well by doing what Cameron did in terms of taking the issue to Parliament,\" said Bashar Jaafari, Syria\\'s ambassador to the United Nations. Both Obama and Cameron, he said, \"climbed to the top of the tree and don\\'t know how to get down.\" The Syrian government has denied that it used chemical weapons in the August 21 attack, saying that jihadists fighting with the rebels used them in an effort to turn global sentiments against it. British intelligence had put the number of people killed in the attack at more than 350. On Saturday, Obama said \"all told, well over 1,000 people were murdered.\" U.S. Secretary of State John Kerry on Friday cited a death toll of 1,429, more than 400 of them children. No explanation was offered for the discrepancy. Iran: U.S. military action in Syria would spark \\'disaster\\' Opinion: Why strikes in Syria are a bad idea .',\n",
              " 'highlights': 'Syrian official: Obama climbed to the top of the tree, \"doesn\\'t know how to get down\"\\nObama sends a letter to the heads of the House and Senate .\\nObama to seek congressional approval on military action against Syria .\\nAim is to determine whether CW were used, not by whom, says U.N. spokesman .',\n",
              " 'id': '0001d1afc246a7964130f43ae940af6bc6c57f01'}"
            ]
          },
          "metadata": {},
          "execution_count": 11
        }
      ],
      "source": [
        "cnn_dataset['train'][0]"
      ]
    },
    {
      "cell_type": "code",
      "execution_count": 12,
      "id": "3fc26871-68d9-4ab1-a9c9-b6caf241d636",
      "metadata": {
        "colab": {
          "base_uri": "https://localhost:8080/",
          "height": 118,
          "referenced_widgets": [
            "1fcf7a80d89e473f8d3601310e4bd4f9",
            "a6136730a16b414d9a150eec8e64f01d",
            "7fc6eb373be54f4cb63cc61641e27d98",
            "ae7f53d09c8343f98e7e98900425cda7",
            "6ca3801ab75a4697922c6bbcc3acee16",
            "332cb8e0251144aab282cc969b821e09",
            "f60b4e55e53c4ce3a52b8f80d4d281e5",
            "9b1635c77a4d4df8808a796091b2e2be",
            "5e44050f897c4f54947dbd882f3241e8",
            "02a9950e4ca440528917fd0a95d352de",
            "535b630bc25b47b7bdafbb4742ab3376"
          ]
        },
        "id": "3fc26871-68d9-4ab1-a9c9-b6caf241d636",
        "outputId": "97bb40cd-da2c-41ba-d466-efecbe0eaa48",
        "tags": []
      },
      "outputs": [
        {
          "output_type": "display_data",
          "data": {
            "text/plain": [
              "Map:   0%|          | 0/10 [00:00<?, ? examples/s]"
            ],
            "application/vnd.jupyter.widget-view+json": {
              "version_major": 2,
              "version_minor": 0,
              "model_id": "1fcf7a80d89e473f8d3601310e4bd4f9"
            }
          },
          "metadata": {}
        },
        {
          "output_type": "execute_result",
          "data": {
            "text/plain": [
              "Dataset({\n",
              "    features: ['article', 'highlights', 'id'],\n",
              "    num_rows: 10\n",
              "})"
            ]
          },
          "metadata": {},
          "execution_count": 12
        }
      ],
      "source": [
        "#Get just a few news to test\n",
        "MAX_NEWS=10\n",
        "sample_cnn = cnn_dataset[\"test\"].select(range(MAX_NEWS)).map(add_prefix)\n",
        "\n",
        "sample_cnn"
      ]
    },
    {
      "cell_type": "markdown",
      "id": "bc0ef576-ea25-446d-a99b-354678a274ba",
      "metadata": {
        "id": "bc0ef576-ea25-446d-a99b-354678a274ba"
      },
      "source": [
        "The dataset contains three columns: article, highlights, and id. To use LangSmith, we need to create a dataset in LangSmith format.\n",
        "\n",
        "LangSmith expects a prompt and a result. To achieve this, we will transform the article into a prompt by adding the prefix: \"Summarize this news.\" As a result, we will use the content of highlights, which represents the summaries created by humans."
      ]
    },
    {
      "cell_type": "code",
      "execution_count": 13,
      "id": "4e3cea3a-fde5-4e52-90f9-d1db4fd30bc2",
      "metadata": {
        "colab": {
          "base_uri": "https://localhost:8080/"
        },
        "id": "4e3cea3a-fde5-4e52-90f9-d1db4fd30bc2",
        "outputId": "b0c7627b-92fb-4b35-fd23-f0cdd2e6fed1",
        "tags": []
      },
      "outputs": [
        {
          "output_type": "stream",
          "name": "stdout",
          "text": [
            "{'article': 'Summarize this news:\\n(CNN)James Best, best known for his portrayal of bumbling sheriff Rosco P. Coltrane on TV\\'s \"The Dukes of Hazzard,\" died Monday after a brief illness. He was 88. Best died in hospice in Hickory, North Carolina, of complications from pneumonia, said Steve Latshaw, a longtime friend and Hollywood colleague. Although he\\'d been a busy actor for decades in theater and in Hollywood, Best didn\\'t become famous until 1979, when \"The Dukes of Hazzard\\'s\" cornpone charms began beaming into millions of American homes almost every Friday night. For seven seasons, Best\\'s Rosco P. Coltrane chased the moonshine-running Duke boys back and forth across the back roads of fictitious Hazzard County, Georgia, although his \"hot pursuit\" usually ended with him crashing his patrol car. Although Rosco was slow-witted and corrupt, Best gave him a childlike enthusiasm that got laughs and made him endearing. His character became known for his distinctive \"kew-kew-kew\" chuckle and for goofy catchphrases such as \"cuff \\'em and stuff \\'em!\" upon making an arrest. Among the most popular shows on TV in the early \\'80s, \"The Dukes of Hazzard\" ran until 1985 and spawned TV movies, an animated series and video games. Several of Best\\'s \"Hazzard\" co-stars paid tribute to the late actor on social media. \"I laughed and learned more from Jimmie in one hour than from anyone else in a whole year,\" co-star John Schneider, who played Bo Duke, said on Twitter. \"Give Uncle Jesse my love when you see him dear friend.\" \"Jimmy Best was the most constantly creative person I have ever known,\" said Ben Jones, who played mechanic Cooter on the show, in a Facebook post. \"Every minute of his long life was spent acting, writing, producing, painting, teaching, fishing, or involved in another of his life\\'s many passions.\" Born Jewel Guy on July 26, 1926, in Powderly, Kentucky, Best was orphaned at 3 and adopted by Armen and Essa Best, who renamed him James and raised him in rural Indiana. Best served in the Army during World War II before launching his acting career. In the 1950s and 1960s, he accumulated scores of credits, playing a range of colorful supporting characters in such TV shows as \"The Twilight Zone,\" \"Bonanza,\" \"The Andy Griffith Show\" and \"Gunsmoke.\" He later appeared in a handful of Burt Reynolds\\' movies, including \"Hooper\" and \"The End.\" But Best will always be best known for his \"Hazzard\" role, which lives on in reruns. \"Jimmie was my teacher, mentor, close friend and collaborator for 26 years,\" Latshaw said. \"I directed two of his feature films, including the recent \\'Return of the Killer Shrews,\\' a sequel he co-wrote and was quite proud of as he had made the first one more than 50 years earlier.\" People we\\'ve lost in 2015 . CNN\\'s Stella Chan contributed to this story.', 'highlights': 'James Best, who played the sheriff on \"The Dukes of Hazzard,\" died Monday at 88 .\\n\"Hazzard\" ran from 1979 to 1985 and was among the most popular shows on TV .', 'id': '00200e794fa41d3f7ce92cbf43e9fd4cd652bb09'}\n"
          ]
        }
      ],
      "source": [
        "print(sample_cnn[0])"
      ]
    },
    {
      "cell_type": "markdown",
      "id": "1051e780-8871-4fd4-9e18-68ad8bc837f8",
      "metadata": {
        "id": "1051e780-8871-4fd4-9e18-68ad8bc837f8"
      },
      "source": [
        "Now We have the Dataset with the prompt and the Reference Summary, it is time to create a Dataset in LangSmith with this information.\n",
        "### Create the Dataset in Langsmith\n",
        "\n",
        "The dataset in LangSmith is composed of an input, which is the prompt passed to the model for evaluation, and an output, which should contain what we expect the model to return."
      ]
    },
    {
      "cell_type": "code",
      "execution_count": 14,
      "id": "ed9c00f6-f9ad-423f-8a8f-86fdfd30bfe0",
      "metadata": {
        "id": "ed9c00f6-f9ad-423f-8a8f-86fdfd30bfe0",
        "tags": []
      },
      "outputs": [],
      "source": [
        "import datetime"
      ]
    },
    {
      "cell_type": "code",
      "execution_count": 15,
      "id": "221d8e92-c2f1-499c-9e68-3abb752722c4",
      "metadata": {
        "id": "221d8e92-c2f1-499c-9e68-3abb752722c4",
        "tags": []
      },
      "outputs": [],
      "source": [
        "import uuid\n",
        "input_key=['article']\n",
        "output_key=['highlights']\n",
        "\n",
        "NAME_DATASET=f\"Summarize_dataset_{datetime.datetime.now().strftime('%Y-%m-%d %H:%M:%S')}\""
      ]
    },
    {
      "cell_type": "code",
      "execution_count": 16,
      "id": "dcf23c41-e15d-4f63-bd27-233d6599e305",
      "metadata": {
        "colab": {
          "base_uri": "https://localhost:8080/",
          "height": 49,
          "referenced_widgets": [
            "442baa085196495d9b34d52d44d652ed",
            "22bdc87da0db4516a058668f1c86d581",
            "5d90929f540c451ca70e59e12f86f806",
            "ce72b69e7d8c4874855581c3c2998c63",
            "99295325e570452195ba580ea1e3dcf6",
            "0e9e236c4fe24901b6cbeeb89a34acf0",
            "9ba098c5dd4845e09996aeead02d3208",
            "e7a90af8f6104d68a750fe4aae172af0",
            "550e4bba0b0c4b6793fa4aa42f64479c",
            "8dbed2801e8046da87b3d4b4c191dad4",
            "6290cb35b89c40c0b0d2b2503934f134"
          ]
        },
        "id": "dcf23c41-e15d-4f63-bd27-233d6599e305",
        "outputId": "8b894c53-3d2a-4d0b-b4c7-8d002808607c",
        "scrolled": true,
        "tags": []
      },
      "outputs": [
        {
          "output_type": "display_data",
          "data": {
            "text/plain": [
              "Creating CSV from Arrow format:   0%|          | 0/1 [00:00<?, ?ba/s]"
            ],
            "application/vnd.jupyter.widget-view+json": {
              "version_major": 2,
              "version_minor": 0,
              "model_id": "442baa085196495d9b34d52d44d652ed"
            }
          },
          "metadata": {}
        }
      ],
      "source": [
        "#This creates the dataset in LangSmith with the content in sample_cnn - If you run this more than once you will get POST errors\n",
        "dataset = client.upload_dataframe(\n",
        "    df=sample_cnn,\n",
        "    input_keys=input_key,\n",
        "    output_keys=output_key,\n",
        "    name=NAME_DATASET,\n",
        "    description=\"Test Embedding distance between model summarizations\",\n",
        "    data_type=\"kv\"\n",
        ")"
      ]
    },
    {
      "cell_type": "markdown",
      "id": "ada2bd55-b6bc-467c-b481-48d46ad50441",
      "metadata": {
        "id": "ada2bd55-b6bc-467c-b481-48d46ad50441"
      },
      "source": [
        "In this image, we can see an example from the dataset once it's been registered in LangSmith.\n",
        "\n",
        "In the Input column, there is the prompt to be sent, while in the Output column, the expected output is stored.\n",
        "\n",
        "When performing the comparison, the model will be given the prompt, and the Cosine distance between its response and the one stored in the sample dataset will be calculated.\n",
        "<img src=\"https://github.com/peremartra/Large-Language-Model-Notebooks-Course/blob/main/img/Martra_Figure_4_2SDL_Dataset.jpg?raw=true\">"
      ]
    },
    {
      "cell_type": "markdown",
      "id": "8278f53f-1a94-407c-846d-05c926737704",
      "metadata": {
        "id": "8278f53f-1a94-407c-846d-05c926737704"
      },
      "source": [
        "### Recovering Models From Hugging Face\n",
        "Let's retrieve both models from HuggingFace. A base T5 model and a model that has been fine-tuned using the training portion of this same dataset to generate summaries."
      ]
    },
    {
      "cell_type": "code",
      "source": [
        "!pip install -q langchain-community"
      ],
      "metadata": {
        "colab": {
          "base_uri": "https://localhost:8080/"
        },
        "id": "3-oSxMBf2EXP",
        "outputId": "8d93ccc5-a26c-4185-aa3b-fc332d85367b"
      },
      "id": "3-oSxMBf2EXP",
      "execution_count": 18,
      "outputs": [
        {
          "output_type": "stream",
          "name": "stdout",
          "text": [
            "\u001b[2K   \u001b[90m━━━━━━━━━━━━━━━━━━━━━━━━━━━━━━━━━━━━━━━━\u001b[0m \u001b[32m2.5/2.5 MB\u001b[0m \u001b[31m55.6 MB/s\u001b[0m eta \u001b[36m0:00:00\u001b[0m\n",
            "\u001b[2K   \u001b[90m━━━━━━━━━━━━━━━━━━━━━━━━━━━━━━━━━━━━━━━━\u001b[0m \u001b[32m1.0/1.0 MB\u001b[0m \u001b[31m66.8 MB/s\u001b[0m eta \u001b[36m0:00:00\u001b[0m\n",
            "\u001b[2K   \u001b[90m━━━━━━━━━━━━━━━━━━━━━━━━━━━━━━━━━━━━━━━━\u001b[0m \u001b[32m434.1/434.1 kB\u001b[0m \u001b[31m39.8 MB/s\u001b[0m eta \u001b[36m0:00:00\u001b[0m\n",
            "\u001b[2K   \u001b[90m━━━━━━━━━━━━━━━━━━━━━━━━━━━━━━━━━━━━━━━━\u001b[0m \u001b[32m44.4/44.4 kB\u001b[0m \u001b[31m4.8 MB/s\u001b[0m eta \u001b[36m0:00:00\u001b[0m\n",
            "\u001b[2K   \u001b[90m━━━━━━━━━━━━━━━━━━━━━━━━━━━━━━━━━━━━━━━━\u001b[0m \u001b[32m50.9/50.9 kB\u001b[0m \u001b[31m5.3 MB/s\u001b[0m eta \u001b[36m0:00:00\u001b[0m\n",
            "\u001b[?25h"
          ]
        }
      ]
    },
    {
      "cell_type": "code",
      "execution_count": 19,
      "id": "0f1afd20-0bbe-473b-9ad9-ebceb3519421",
      "metadata": {
        "id": "0f1afd20-0bbe-473b-9ad9-ebceb3519421",
        "tags": []
      },
      "outputs": [],
      "source": [
        "from langchain import HuggingFaceHub"
      ]
    },
    {
      "cell_type": "code",
      "execution_count": null,
      "id": "12339bcc-ce70-4fae-9dcb-f2f273429ed8",
      "metadata": {
        "id": "12339bcc-ce70-4fae-9dcb-f2f273429ed8",
        "tags": [],
        "outputId": "549d5ec9-13e5-4fae-e4f3-caa45bd28444"
      },
      "outputs": [
        {
          "name": "stderr",
          "output_type": "stream",
          "text": [
            "/opt/anaconda3/lib/python3.11/site-packages/langchain_core/_api/deprecation.py:139: LangChainDeprecationWarning: The class `HuggingFaceHub` was deprecated in LangChain 0.0.21 and will be removed in 0.3.0. An updated version of the class exists in the langchain-huggingface package and should be used instead. To use it run `pip install -U langchain-huggingface` and import as `from langchain_huggingface import HuggingFaceEndpoint`.\n",
            "  warn_deprecated(\n"
          ]
        }
      ],
      "source": [
        "summarizer_base = HuggingFaceHub(\n",
        "    repo_id=\"t5-base\",\n",
        "    model_kwargs={\"temperature\":0, \"max_length\":180},\n",
        "    huggingfacehub_api_token=HUGGINGFACEHUB_API_TOKEN\n",
        ")"
      ]
    },
    {
      "cell_type": "code",
      "execution_count": 20,
      "id": "f317d1cc-95f0-4f71-9c7f-205e42afc5df",
      "metadata": {
        "id": "f317d1cc-95f0-4f71-9c7f-205e42afc5df",
        "tags": [],
        "colab": {
          "base_uri": "https://localhost:8080/"
        },
        "outputId": "7fd18771-c168-4682-bc26-49dacea2b809"
      },
      "outputs": [
        {
          "output_type": "stream",
          "name": "stderr",
          "text": [
            "<ipython-input-20-e2d415d30130>:1: LangChainDeprecationWarning: The class `HuggingFaceHub` was deprecated in LangChain 0.0.21 and will be removed in 1.0. An updated version of the class exists in the :class:`~langchain-huggingface package and should be used instead. To use it run `pip install -U :class:`~langchain-huggingface` and import as `from :class:`~langchain_huggingface import HuggingFaceEndpoint``.\n",
            "  summarizer_finetuned = HuggingFaceHub(\n"
          ]
        }
      ],
      "source": [
        "summarizer_finetuned = HuggingFaceHub(\n",
        "    repo_id=\"flax-community/t5-base-cnn-dm\",\n",
        "    model_kwargs={\"temperature\":0, \"max_length\":180},\n",
        "    huggingfacehub_api_token=HUGGINGFACEHUB_API_TOKEN\n",
        ")"
      ]
    },
    {
      "cell_type": "markdown",
      "id": "dc859325-3e92-4f2b-85cc-247dd84d9cf6",
      "metadata": {
        "id": "dc859325-3e92-4f2b-85cc-247dd84d9cf6"
      },
      "source": [
        "## Defining Evaluator\n",
        "The first step is to define an evaluator, where we specify the variables we want to evaluate. In our case, I have chosen to measure only the \"embedding_distance.\"\n",
        "\n",
        "I've left the \"string_distance\" as a comment in case you want to conduct a test with two evaluations instead of one.\n"
      ]
    },
    {
      "cell_type": "code",
      "execution_count": 21,
      "id": "d506d770-2c30-41a6-acde-283ad1b27ea9",
      "metadata": {
        "id": "d506d770-2c30-41a6-acde-283ad1b27ea9",
        "tags": []
      },
      "outputs": [],
      "source": [
        "from langchain.smith import run_on_dataset, RunEvalConfig\n",
        "# !pip install -q rapidfuzz==3.6.1"
      ]
    },
    {
      "cell_type": "code",
      "execution_count": 22,
      "id": "15e8accd-d7e1-44f8-b5d0-0215ceedb88d",
      "metadata": {
        "id": "15e8accd-d7e1-44f8-b5d0-0215ceedb88d",
        "tags": []
      },
      "outputs": [],
      "source": [
        "#We are using just one of the multiple evaluator avaiable on LangSmith.\n",
        "\n",
        "evaluation_config = RunEvalConfig(\n",
        "    evaluators=[\n",
        "        \"embedding_distance\",\n",
        "        #\"string_distance\"\n",
        "    ],\n",
        ")\n",
        "\n"
      ]
    },
    {
      "cell_type": "markdown",
      "id": "ee666c30-d958-45b1-802c-7034dd13b42b",
      "metadata": {
        "id": "ee666c30-d958-45b1-802c-7034dd13b42b"
      },
      "source": [
        "### Running Evaluator\n",
        "With the same configuration, we can launch two evaluations on the same dataset. One for each of the chosen models."
      ]
    },
    {
      "cell_type": "code",
      "source": [
        "!pip install tiktoken"
      ],
      "metadata": {
        "colab": {
          "base_uri": "https://localhost:8080/"
        },
        "id": "WH_MoW1s3Ql3",
        "outputId": "18b2d525-47d9-40e3-d7ae-88705b2385f3"
      },
      "id": "WH_MoW1s3Ql3",
      "execution_count": 26,
      "outputs": [
        {
          "output_type": "stream",
          "name": "stdout",
          "text": [
            "Collecting tiktoken\n",
            "  Downloading tiktoken-0.9.0-cp311-cp311-manylinux_2_17_x86_64.manylinux2014_x86_64.whl.metadata (6.7 kB)\n",
            "Requirement already satisfied: regex>=2022.1.18 in /usr/local/lib/python3.11/dist-packages (from tiktoken) (2024.11.6)\n",
            "Requirement already satisfied: requests>=2.26.0 in /usr/local/lib/python3.11/dist-packages (from tiktoken) (2.32.3)\n",
            "Requirement already satisfied: charset-normalizer<4,>=2 in /usr/local/lib/python3.11/dist-packages (from requests>=2.26.0->tiktoken) (3.4.1)\n",
            "Requirement already satisfied: idna<4,>=2.5 in /usr/local/lib/python3.11/dist-packages (from requests>=2.26.0->tiktoken) (3.10)\n",
            "Requirement already satisfied: urllib3<3,>=1.21.1 in /usr/local/lib/python3.11/dist-packages (from requests>=2.26.0->tiktoken) (2.3.0)\n",
            "Requirement already satisfied: certifi>=2017.4.17 in /usr/local/lib/python3.11/dist-packages (from requests>=2.26.0->tiktoken) (2025.1.31)\n",
            "Downloading tiktoken-0.9.0-cp311-cp311-manylinux_2_17_x86_64.manylinux2014_x86_64.whl (1.2 MB)\n",
            "\u001b[?25l   \u001b[90m━━━━━━━━━━━━━━━━━━━━━━━━━━━━━━━━━━━━━━━━\u001b[0m \u001b[32m0.0/1.2 MB\u001b[0m \u001b[31m?\u001b[0m eta \u001b[36m-:--:--\u001b[0m\r\u001b[2K   \u001b[91m━━━━━━━━━━━━━━━━━━━━\u001b[0m\u001b[91m╸\u001b[0m\u001b[90m━━━━━━━━━━━━━━━━━━━\u001b[0m \u001b[32m0.6/1.2 MB\u001b[0m \u001b[31m19.2 MB/s\u001b[0m eta \u001b[36m0:00:01\u001b[0m\r\u001b[2K   \u001b[90m━━━━━━━━━━━━━━━━━━━━━━━━━━━━━━━━━━━━━━━━\u001b[0m \u001b[32m1.2/1.2 MB\u001b[0m \u001b[31m23.4 MB/s\u001b[0m eta \u001b[36m0:00:00\u001b[0m\n",
            "\u001b[?25hInstalling collected packages: tiktoken\n",
            "Successfully installed tiktoken-0.9.0\n"
          ]
        }
      ]
    },
    {
      "cell_type": "code",
      "source": [
        "from langchain import HuggingFaceHub\n",
        "\n",
        "# Previous initialization should be in the same cell or executed before\n",
        "summarizer_base = HuggingFaceHub(\n",
        "    repo_id=\"t5-base\",\n",
        "    model_kwargs={\"temperature\": 0, \"max_length\": 180},\n",
        "    huggingfacehub_api_token=HUGGINGFACEHUB_API_TOKEN,  # Assuming this is defined elsewhere\n",
        ")"
      ],
      "metadata": {
        "id": "yaKcDhEm3Ghp"
      },
      "id": "yaKcDhEm3Ghp",
      "execution_count": 27,
      "outputs": []
    },
    {
      "cell_type": "code",
      "execution_count": 28,
      "id": "67c75c07-8351-465f-af15-a1abe17968f9",
      "metadata": {
        "colab": {
          "base_uri": "https://localhost:8080/"
        },
        "id": "67c75c07-8351-465f-af15-a1abe17968f9",
        "outputId": "20983224-d9bf-4e49-8870-aa6d78e60917",
        "scrolled": true,
        "tags": []
      },
      "outputs": [
        {
          "output_type": "stream",
          "name": "stdout",
          "text": [
            "View the evaluation results for project 'T5-BASE 2025-04-22 18:57:55' at:\n",
            "https://smith.langchain.com/o/fbfc24ed-eae6-4741-87aa-6896a453212f/datasets/2c0250e4-4046-4c6b-a7f7-4af4c7f39399/compare?selectedSessions=c741cd46-af1d-43ba-9dd9-849bd7ae623d\n",
            "\n",
            "View all tests for Dataset Summarize_dataset_2025-04-22 18:51:59 at:\n",
            "https://smith.langchain.com/o/fbfc24ed-eae6-4741-87aa-6896a453212f/datasets/2c0250e4-4046-4c6b-a7f7-4af4c7f39399\n",
            "[>                                                 ] 0/10"
          ]
        },
        {
          "output_type": "stream",
          "name": "stderr",
          "text": [
            "/usr/local/lib/python3.11/dist-packages/huggingface_hub/utils/_deprecation.py:131: FutureWarning: 'post' (from 'huggingface_hub.inference._client') is deprecated and will be removed from version '0.31.0'. Making direct POST requests to the inference server is not supported anymore. Please use task methods instead (e.g. `InferenceClient.chat_completion`). If your use case is not supported, please open an issue in https://github.com/huggingface/huggingface_hub.\n",
            "  warnings.warn(warning_message, FutureWarning)\n",
            "/usr/local/lib/python3.11/dist-packages/huggingface_hub/utils/_deprecation.py:131: FutureWarning: 'post' (from 'huggingface_hub.inference._client') is deprecated and will be removed from version '0.31.0'. Making direct POST requests to the inference server is not supported anymore. Please use task methods instead (e.g. `InferenceClient.chat_completion`). If your use case is not supported, please open an issue in https://github.com/huggingface/huggingface_hub.\n",
            "  warnings.warn(warning_message, FutureWarning)\n",
            "/usr/local/lib/python3.11/dist-packages/huggingface_hub/utils/_deprecation.py:131: FutureWarning: 'post' (from 'huggingface_hub.inference._client') is deprecated and will be removed from version '0.31.0'. Making direct POST requests to the inference server is not supported anymore. Please use task methods instead (e.g. `InferenceClient.chat_completion`). If your use case is not supported, please open an issue in https://github.com/huggingface/huggingface_hub.\n",
            "  warnings.warn(warning_message, FutureWarning)\n",
            "/usr/local/lib/python3.11/dist-packages/huggingface_hub/utils/_deprecation.py:131: FutureWarning: 'post' (from 'huggingface_hub.inference._client') is deprecated and will be removed from version '0.31.0'. Making direct POST requests to the inference server is not supported anymore. Please use task methods instead (e.g. `InferenceClient.chat_completion`). If your use case is not supported, please open an issue in https://github.com/huggingface/huggingface_hub.\n",
            "  warnings.warn(warning_message, FutureWarning)\n",
            "WARNING:langchain.smith.evaluation.runner_utils:LLM failed for example 63bd41ad-345a-4d0d-be42-ee09b6757eea with inputs {'article': 'Summarize this news:\\n(CNN)Wanted: film director, must be eager to shoot footage of golden lassos and invisible jets. CNN confirms that Michelle MacLaren is leaving the upcoming \"Wonder Woman\" movie (The Hollywood Reporter first broke the story). MacLaren was announced as director of the movie in November. CNN obtained a statement from Warner Bros. Pictures that says, \"Given creative differences, Warner Bros. and Michelle MacLaren have decided not to move forward with plans to develop and direct \\'Wonder Woman\\' together.\" (CNN and Warner Bros. Pictures are both owned by Time Warner.) The movie, starring Gal Gadot in the title role of the Amazon princess, is still set for release on June 23, 2017. It\\'s the first theatrical movie centering around the most popular female superhero. Gadot will appear beforehand in \"Batman v. Superman: Dawn of Justice,\" due out March 25, 2016. In the meantime, Warner will need to find someone new for the director\\'s chair.'}\n",
            "Error Type: HfHubHTTPError, Message: 503 Server Error: Service Temporarily Unavailable for url: https://router.huggingface.co/hf-inference/models/t5-base\n",
            "/usr/local/lib/python3.11/dist-packages/huggingface_hub/utils/_deprecation.py:131: FutureWarning: 'post' (from 'huggingface_hub.inference._client') is deprecated and will be removed from version '0.31.0'. Making direct POST requests to the inference server is not supported anymore. Please use task methods instead (e.g. `InferenceClient.chat_completion`). If your use case is not supported, please open an issue in https://github.com/huggingface/huggingface_hub.\n",
            "  warnings.warn(warning_message, FutureWarning)\n",
            "WARNING:langchain.smith.evaluation.runner_utils:LLM failed for example 392b7ecb-bb72-465c-9d34-c9c0ccf62fe8 with inputs {'article': 'Summarize this news:\\n(CNN)President Barack Obama took part in a roundtable discussion this week on climate change, refocusing on the issue from a public health vantage point. After the event at Washington\\'s Howard University on Tuesday, Obama sat down with me for a one-on-one interview. I asked him about the science behind climate change and public health and the message he wants the average American to take away, as well as how enforceable his action plan is. Here are five things I learned: . The President enrolled at Occidental College in Los Angeles in 1979 (he transferred to Columbia University his junior year). While in L.A., he said, the air was so bad that it prevented him from running outside. He remembers the air quality alerts and how people with respiratory problems had to stay inside. He credits the Clean Air Act with making Americans \"a lot\" healthier, in addition to being able to \"see the mountains in the background because they aren\\'t covered in smog.\" Obama also said the instances of asthma and other respiratory diseases went down after these measures were taken. Peer-reviewed Environmental Protection Agency studies say that the Clean Air Act and subsequent amendments have reduced early deaths associated with exposure to ambient fine particle pollution and ozone, and reduced illnesses such as chronic bronchitis and acute myocardial infarction. The EPA estimates that, between 1970 and 2010, the act and its amendments prevented 365,000 early deaths from particulate matter alone. \"No challenge poses more of a public threat than climate change,\" the President told me. When I asked about the strength of the science supporting the direct relationship between climate change and public health, he said, \"We know as temperatures rise, insect-borne diseases potentially start shifting up. We know, in a very straight-forward fashion, that heatstroke and other heat-related illnesses and deaths potentially increase, and so what we\\'re doing here is to make sure that in addition to public awareness around the potential for big storms like Hurricane Sandy or big wildfires or droughts, that people recognize there\\'s a very personal, potential impact in climate change, and the good news is we can do something about it.\" In many ways, Obama is attempting to reframe the discussion around climate change as a public health issue that affects all of us, while conceding that we don\\'t fully understand the magnitude of the correlation between rising temperatures and impact on human health. When asked what the average American can do about all this, the President encouraged ordinary citizens, doctors and nurses to start putting some pressure on elected officials \"to try and make something happen to reduce the impacts of climate change.\" He also issued a presidential proclamation declaring April 6-12 as National Public Health Week \"to better understand, communicate and reduce the health impacts of climate change on our communities.\" The average American can also do their part to reduce their own carbon footprint, including: . • Change your incandescent light bulbs to compact fluorescent lights. One CFL can reduce up to 1,300 pounds of carbon dioxide pollution during its lifetime. If every house in the U.S. switched its bulbs, we could reduce the electricity spent on lighting by half. • Unplug your gadgets and chargers when not in use. According to the U.S. Department of Energy, this practice can save $100 a year on your energy bill. • Use a laptop instead of a desktop. Laptops are designed to be energy-efficient, because battery life is a major factor in their design. According to Energy Star, a laptop can be up to 80% more energy-efficient than a desktop. • Filter your own water. Beyond the environmental toll of plastic waste, consider just how far your water was transported before you bought it at the grocery store. • Adjust your curtains and thermostats. If you keep your house 2 degrees warmer in the summer and 2 degrees colder in the winter, you can save big bucks on your energy bill. The Department of Energy estimates you can save up to 15% on your bill by turning off your thermostat when you\\'re not at home. Obama did not appear particularly concerned about the current Supreme Court challenge to the Affordable Care Act. He  said he believes the statute is \"clear and straightforward.\" He said, \"I am not anticipating the Supreme Court would make such a bad decision.\" At issue is the 32 states that did not set up their own health care exchanges and left it to the federal government to do so. The plaintiffs in the lawsuit contend that the language of the Affordable Care Act does not allow for tax subsidies in those states (without state-based exchanges), possibly creating a situation, for example, in which people in Massachusetts would receive a tax credit, but people living in Texas would not. Obama did tell me that if the Supreme Court challenge is upheld, however, there is no Plan B. \"Millions of people would lose their health insurance. They would no longer be able to afford the health insurance that\\'s being provided out there.\" Obama went on to say, \"I think this is the last gasp of folks who have been fighting against [the Affordable Care Act] for ideological reasons.\" He told me that he \"gets letters every day from people who say, \\'you know what, the Affordable Care Act saved my life or saved my kid\\'s life because I got insurance.\\' \\'I thought I was healthy; turns out I had a tumor, but because I went and got a checkup, it was removed in time, and I\\'m now cancer-free.\\' \" He added, \"I think stories like that will be factored in when the Supreme Court takes a look at this case.\" CNN\\'s Ben Tinker contributed to this report.'}\n",
            "Error Type: HfHubHTTPError, Message: 503 Server Error: Service Temporarily Unavailable for url: https://router.huggingface.co/hf-inference/models/t5-base\n",
            "/usr/local/lib/python3.11/dist-packages/huggingface_hub/utils/_deprecation.py:131: FutureWarning: 'post' (from 'huggingface_hub.inference._client') is deprecated and will be removed from version '0.31.0'. Making direct POST requests to the inference server is not supported anymore. Please use task methods instead (e.g. `InferenceClient.chat_completion`). If your use case is not supported, please open an issue in https://github.com/huggingface/huggingface_hub.\n",
            "  warnings.warn(warning_message, FutureWarning)\n",
            "WARNING:langchain.smith.evaluation.runner_utils:LLM failed for example 0ee5df86-3cfe-435b-9f32-860c815a9cc8 with inputs {'article': 'Summarize this news:\\n(CNN)James Best, best known for his portrayal of bumbling sheriff Rosco P. Coltrane on TV\\'s \"The Dukes of Hazzard,\" died Monday after a brief illness. He was 88. Best died in hospice in Hickory, North Carolina, of complications from pneumonia, said Steve Latshaw, a longtime friend and Hollywood colleague. Although he\\'d been a busy actor for decades in theater and in Hollywood, Best didn\\'t become famous until 1979, when \"The Dukes of Hazzard\\'s\" cornpone charms began beaming into millions of American homes almost every Friday night. For seven seasons, Best\\'s Rosco P. Coltrane chased the moonshine-running Duke boys back and forth across the back roads of fictitious Hazzard County, Georgia, although his \"hot pursuit\" usually ended with him crashing his patrol car. Although Rosco was slow-witted and corrupt, Best gave him a childlike enthusiasm that got laughs and made him endearing. His character became known for his distinctive \"kew-kew-kew\" chuckle and for goofy catchphrases such as \"cuff \\'em and stuff \\'em!\" upon making an arrest. Among the most popular shows on TV in the early \\'80s, \"The Dukes of Hazzard\" ran until 1985 and spawned TV movies, an animated series and video games. Several of Best\\'s \"Hazzard\" co-stars paid tribute to the late actor on social media. \"I laughed and learned more from Jimmie in one hour than from anyone else in a whole year,\" co-star John Schneider, who played Bo Duke, said on Twitter. \"Give Uncle Jesse my love when you see him dear friend.\" \"Jimmy Best was the most constantly creative person I have ever known,\" said Ben Jones, who played mechanic Cooter on the show, in a Facebook post. \"Every minute of his long life was spent acting, writing, producing, painting, teaching, fishing, or involved in another of his life\\'s many passions.\" Born Jewel Guy on July 26, 1926, in Powderly, Kentucky, Best was orphaned at 3 and adopted by Armen and Essa Best, who renamed him James and raised him in rural Indiana. Best served in the Army during World War II before launching his acting career. In the 1950s and 1960s, he accumulated scores of credits, playing a range of colorful supporting characters in such TV shows as \"The Twilight Zone,\" \"Bonanza,\" \"The Andy Griffith Show\" and \"Gunsmoke.\" He later appeared in a handful of Burt Reynolds\\' movies, including \"Hooper\" and \"The End.\" But Best will always be best known for his \"Hazzard\" role, which lives on in reruns. \"Jimmie was my teacher, mentor, close friend and collaborator for 26 years,\" Latshaw said. \"I directed two of his feature films, including the recent \\'Return of the Killer Shrews,\\' a sequel he co-wrote and was quite proud of as he had made the first one more than 50 years earlier.\" People we\\'ve lost in 2015 . CNN\\'s Stella Chan contributed to this story.'}\n",
            "Error Type: HfHubHTTPError, Message: 503 Server Error: Service Temporarily Unavailable for url: https://router.huggingface.co/hf-inference/models/t5-base\n"
          ]
        },
        {
          "output_type": "stream",
          "name": "stdout",
          "text": [
            "\r[---->                                             ] 1/10\r[--------->                                        ] 2/10\r[-------------->                                   ] 3/10"
          ]
        },
        {
          "output_type": "stream",
          "name": "stderr",
          "text": [
            "/usr/local/lib/python3.11/dist-packages/huggingface_hub/utils/_deprecation.py:131: FutureWarning: 'post' (from 'huggingface_hub.inference._client') is deprecated and will be removed from version '0.31.0'. Making direct POST requests to the inference server is not supported anymore. Please use task methods instead (e.g. `InferenceClient.chat_completion`). If your use case is not supported, please open an issue in https://github.com/huggingface/huggingface_hub.\n",
            "  warnings.warn(warning_message, FutureWarning)\n",
            "WARNING:langchain.smith.evaluation.runner_utils:LLM failed for example b53d1b4e-a18f-4fd3-a868-cdb63565053c with inputs {'article': 'Summarize this news:\\n(CNN)Mullah Mohammed Omar is \"still the leader\" of the Taliban\\'s self-declared Islamic Emirate of Afghanistan. That appears to be the primary message of a biography, just published by the Taliban, of the reclusive militant who is credited with founding the group in the early 1990s. The Taliban\\'s \"Cultural Commission\" released the 11-page document in several different translations on the movement\\'s website, ostensibly to commemorate the 19th anniversary of an April 4, 1996, meeting in Afghanistan\\'s Kandahar province when an assembly of Afghans swore allegiance to Omar. Several Afghan observers say the biography is aimed at dispelling rumors of Omar\\'s demise. \"There have been a lot of rumors lately about him. Some people are saying that he is not alive,\" said Sayyed Muhammad Akbar Agha, a former Taliban insider who has written an autobiography about his days with the movement. \"I think the Taliban thought it was an important time to release his biography to give assurances that he is alive and present,\" Agha told CNN in a telephone interview. Bergen: Why U.S. must stay in Afghanistan past 2016 . The biography also appears to be an attempt to remind the world of the Afghan\\'s jihadi leadership credentials, at a time when ISIS leader Abu Bakr al-Baghdadi has declared himself \"caliph\" of the world\\'s Muslims. \"The Taliban has a huge leadership problem at a critical political moment,\" said Graeme Smith, a Kabul-based analyst for the International Crisis Group. \"Another caliph has announced himself to the world, and the Taliban has been silent. And that is getting noticed by militants across South Asia.\" Omar was famously camera-shy during the Taliban\\'s six-year rule over most of Afghanistan. To this day, there are only a handful of photographs of the one-eyed leader. \"He never was actively involved in any of these propaganda campaigns. No publicity. No interviews. He never used the Internet,\" said Rahimullah Yusufzai, a Pakistani journalist and expert on Afghanistan who once interviewed Osama bin Laden. Omar then all but disappeared after a U.S.-led bombing campaign routed the Taliban from Kabul in 2001. Washington has offered a $10 million reward for his capture. The Taliban have released written statements purportedly made by the leader-in-hiding. But years without any video or audio recordings of the fugitive have led to growing speculation that Omar may have died. The biography challenges rumors of Omar\\'s death by offering a description of his daily work schedule, which begins with prayers, study of the Quran, and then delivering \"orders in a specific way to his Jihadi commanders.\" The publication also seeks to fill in some of the gaps about the militant\\'s early years, including the detail that his \"preferred weapon of choice\" was the RPG-7, a rocket-propelled grenade. According to the biography, Omar was born in 1960 in a village called Chah-i-Himmat in Afghanistan\\'s Kandahar province. His father, a \"well-known and respected erudite and social figure,\" died only five years later, apparently of natural causes. Omar studied at a religious school, or madrassa, run by his uncle. The rise of the Communist Party in Afghanistan, and the subsequent 1979 Soviet invasion, interrupted the young man\\'s studies and propelled him into the arms of the armed Afghan opposition known as the mujahedeen. For the next decade, Omar commanded rebel groups \"against the invading Russians and their internal communist puppets,\" according to the biography. Along the way, he was wounded a number of times and was blinded in his right eye. In one battle, the biography claims, Omar and a fighter named Mullah Biradar Akhund destroyed four Soviet tanks, even though they were armed with only four RPG rounds. The Taliban biography makes no mention of the fact that the U.S., allied with Saudi Arabia and Pakistan, helped arm and bankroll the mujahedeen until the Soviet army withdrew in defeat in 1989. Afghan historians have documented the rapid rise of the Taliban in the chaotic years after the communist government in Kabul collapsed in 1992. The movement of warriors who identified themselves as religious scholars emerged to bring order to a country being ripped apart by rival mujahedeen warlords who battled one another for power. The Taliban biography says that Omar and his compatriots \"launched their struggle and fight against corruption and anarchy\" after an initial meeting in Kandahar in June 1994. Two years later, the Taliban captured Kabul and began imposing its austere interpretation of Islamic law on the rest of the country. While the document denounces the Taliban\\'s post-9/11 overthrow at the hands of a U.S.-backed coalition of rival Afghan fighters, it makes no mention of the Taliban\\'s alliance with bin Laden and al Qaeda. During a decade in exile, the Saudi-born bin Laden continued to release periodic video and audio statements until he was killed by U.S. raid on his hideout in the Pakistani city of Abbottabad in 2011. Though Taliban militants have continued to battle the U.S.-backed government across Afghanistan, Omar has not been seen or heard from in years. The movement claims he continues to oversee a Taliban leadership council, judiciary and nine executive commissions, as well as military commanders who operate in all 34 provinces of Afghanistan. Exclusive: ISIS \\'recruits Afghans\\' in chilling video . CNN\\'s Masoud Popalzai contributed to this report from Kabul, Afghanistan.'}\n",
            "Error Type: HfHubHTTPError, Message: 503 Server Error: Service Temporarily Unavailable for url: https://router.huggingface.co/hf-inference/models/t5-base\n",
            "/usr/local/lib/python3.11/dist-packages/huggingface_hub/utils/_deprecation.py:131: FutureWarning: 'post' (from 'huggingface_hub.inference._client') is deprecated and will be removed from version '0.31.0'. Making direct POST requests to the inference server is not supported anymore. Please use task methods instead (e.g. `InferenceClient.chat_completion`). If your use case is not supported, please open an issue in https://github.com/huggingface/huggingface_hub.\n",
            "  warnings.warn(warning_message, FutureWarning)\n",
            "WARNING:langchain.smith.evaluation.runner_utils:LLM failed for example 77c01246-98e5-41bb-a6b7-108c04755446 with inputs {'article': 'Summarize this news:\\n(CNN)The attorney for a suburban New York cardiologist charged in what authorities say was a failed scheme to have another physician hurt or killed is calling the allegations against his client \"completely unsubstantiated.\" Appearing Saturday morning on CNN\\'s \"New Day,\" Randy Zelin defended his client, Dr. Anthony Moschetto, who faces criminal solicitation, conspiracy, burglary, arson, criminal prescription sale and weapons charges in connection to what prosecutors called a plot to take out a rival doctor on Long Island. \"None of anything in this case has any evidentiary value,\" Zelin told CNN\\'s Christi Paul.  \"It doesn\\'t matter what anyone says, he is presumed to be innocent.\" Moschetto,54, pleaded not guilty to all charges Wednesday.  He was released after posting $2 million bond and surrendering his passport. Zelin said that his next move is to get Dr. Moshetto back to work. \"He\\'s got patients to see. This man, while he was in a detention cell, the only thing that he cared about were his patients. And amazingly, his patients were flooding the office with calls, making sure that he was OK,\" Zelin said. Two other men -- identified as James Chmela, 43, and James Kalamaras, 41 -- were named as accomplices, according to prosecutors. They pleaded not guilty in Nassau County District Court, according to authorities. Both were released on bail. A requests for comment from an attorney representing Chmela was not returned. It\\'s unclear whether Kalamaras has retained an attorney. Police officers allegedly discovered approximately 100 weapons at Moschetto\\'s home, including hand grenades, high-capacity magazines and knives. Many of the weapons were found in a hidden room behind a switch-activated bookshelf, according to prosecutors. The investigation began back in December, when undercover officers began buying heroin and oxycodone pills from Moschetto in what was initially a routine investigation into the sale of prescription drugs, officials said. During the course of the undercover operation, however, Moschetto also sold the officers two semiautomatic assault weapons as well as ammunition, prosecutors said. Moschetto allegedly told officers during one buy that he needed dynamite to \"blow up a building.\" He later said he no longer needed the dynamite because a friend was setting fire to the building instead. Kalamaras and Chmela are believed to have taken part in the arson, according to prosecutors. \"The fire damaged but did not destroy the office of another cardiologist whose relationship with Dr. Moschetto had soured due to a professional dispute,\" according to the statement from the district attorney\\'s office. Moschetto allegedly gave an informant and undercover detective blank prescriptions and cash for the assault and killing of the fellow cardiologist, according to prosecutors. He also requested that the rival\\'s wife be assaulted if she happened to be present, authorities said. \"He was willing to pay $5,000 to have him beaten and put in a hospital for a few months, and then he said he would pay $20,000 to have him killed,\" said Assistant District Attorney Anne Donnelly, according to CNN affiliate WCBS.'}\n",
            "Error Type: HfHubHTTPError, Message: 503 Server Error: Service Temporarily Unavailable for url: https://router.huggingface.co/hf-inference/models/t5-base\n"
          ]
        },
        {
          "output_type": "stream",
          "name": "stdout",
          "text": [
            "\r[------------------->                              ] 4/10\r[------------------------>                         ] 5/10\r[----------------------------->                    ] 6/10"
          ]
        },
        {
          "output_type": "stream",
          "name": "stderr",
          "text": [
            "/usr/local/lib/python3.11/dist-packages/huggingface_hub/utils/_deprecation.py:131: FutureWarning: 'post' (from 'huggingface_hub.inference._client') is deprecated and will be removed from version '0.31.0'. Making direct POST requests to the inference server is not supported anymore. Please use task methods instead (e.g. `InferenceClient.chat_completion`). If your use case is not supported, please open an issue in https://github.com/huggingface/huggingface_hub.\n",
            "  warnings.warn(warning_message, FutureWarning)\n",
            "WARNING:langchain.smith.evaluation.runner_utils:LLM failed for example a8e7e635-a942-41ae-a4df-fc46d52a21e2 with inputs {'article': 'Summarize this news:\\n(CNN)SPOILER ALERT! It\\'s not just women getting cloned. That was the big twist at the end of \"Orphan Black\\'s\" second season. The kickoff to the new season leads the list of six things to watch in the week ahead. 1. \"Orphan Black,\" 9 p.m. ET, Saturday, April 18, BBC America . The cloning cult sci-fi series remains one of the most critically acclaimed shows on TV, thanks in large part to the performance of Tatiana Maslany, who has taken on at least six roles on the show so far, including a newly introduced transgender clone. Maslany told reporters this week that we can expect even more impressive scenes with multiple clones. \"We like to push the boundaries of what we\\'re able to do and the limits of those clone scenes,\" she said. \"So, yes, you\\'ll definitely see more complex clone work this season and that\\'s just because we\\'re getting more comfortable with the technology and we\\'re excited by getting to sort of further complicate things.\" And the introduction of a group of male clones will certainly increase the suspense. \"There definitely is a shift towards the Castor clones that we get to explore them a little bit more,\" she said. The fans of the show, dubbed the \"Clone Club\" have a lot to look forward to when the show premieres on Saturday the 18th, and Maslany is blown away by the response to the series so far. \"We\\'ve always been really humbled and really inspired by our fans and by their dedication to the show and their knowledge of the show, and  just how it changes their own lives. It\\'s incredible.\" 2. \"Turn: Washington\\'s Spies,\" 9 p.m. ET, Monday, AMC . The series about spies in the early days of the Revolutionary War returns with a new subtitle, \"Washington\\'s Spies,\" and a new Monday night time slot. Series star Jamie Bell told CNN what we can expect in the second season. \"This year we have a lot more battles; we have the journey of [George] Washington and we\\'re getting under his skin a little bit as well. We also introduce new characters like Benedict Arnold, a very infamous character in American history.\" Bell hopes the series might bring more recognition to the Culper spy ring and everything it did. \"I think there should be a monument to all of the Culper ring somewhere. I was amazed that there is nothing [in Washington] about these people who did something extraordinary.\" 3. \"Game of Thrones,\" 9 p.m. ET, Sunday, HBO . The world of Westeros returns for a fifth season in one of the biggest season premieres of the year. Click here for more on what to expect. 4. \"Justified,\" 10 p.m. ET, Tuesday, FX . Timothy Olyphant\\'s tour de force performance as Raylan Givens comes to an end Tuesday night, as the modern-day Western airs its season finale. We\\'ll have to see how his final showdown with Boyd Crowder goes. 5. \"Veep,\" 10:30 ET, Sunday, HBO . Hugh Laurie joins the cast and Julia Louis-Dreyfus is now the president of the United States on HBO\\'s hit comedy. 6. \"Nurse Jackie,\" 9 p.m. ET, Sunday, Showtime . The final season of Showtime\\'s long-running melodrama begins.'}\n",
            "Error Type: HfHubHTTPError, Message: 503 Server Error: Service Temporarily Unavailable for url: https://router.huggingface.co/hf-inference/models/t5-base\n",
            "WARNING:langchain.smith.evaluation.runner_utils:LLM failed for example 1a6864f0-997e-4d23-b6ae-dfe460b456f3 with inputs {'article': 'Summarize this news:\\n(CNN)Marco Rubio is all in.  The Republican senator from Florida has announced that he is seeking the Republican presidential nomination, running on an optimistic message that he embodies the promise of the American Dream. With his youthful energy and Hispanic roots, it\\'s tempting to see Rubio as the new blood that the GOP needs in order to compete against Hillary Clinton in 2016.  Yet Rubio has been his own worst enemy on what could have been his two signature issues: immigration reform and Cuba relations.  He holds little appeal to Latino voters.  And unless he can offer new ideas, his climb to the Republican nomination will be steep. Back in 2013, Rubio was a member of the Senate \"Gang of 8\" that crafted a bipartisan proposal for comprehensive reform, including a path to citizenship for the nation\\'s estimated 11 million undocumented immigrants.  He later distanced himself from the bill after it ran into resistance from House Republicans, and now says he favors a piecemeal approach, starting with securing the border. His retreat on immigration means that Rubio has missed an opportunity to set himself apart from most of the presumptive Republican presidential candidates.  That\\'s a shame, for this issue was supposed to be his calling card to Latino voters. Instead, Rubio has embraced a typical conservative approach to immigration.   He believes that President Obama\\'s Deferred Action program, offering deportation relief to young immigrants, should be ended.  He has stated that the President\\'s executive action on immigration, on hold pending a circuit court review, sets a \"horrifying precedent.\" Meanwhile, both the Deferred Action program and President Obama\\'s executive action on immigration are overwhelmingly favored by Hispanics.  No wonder the research firm Latino Decisions reports that, \"We find no evidence that Rubio\\'s candidacy will draw significant Latino support for his candidacy or for his party more generally.\"  So, if Rubio is counting on his ethnicity and personal history as the son of immigrants to win over fellow Hispanics, he is mistaken. At a private breakfast Monday for supporters, Rubio described running against \"one candidate in the race who\\'s from yesterday, and one who wants to take us back to yesterday.\"  But when it comes to Cuba policy, Rubio himself seems firmly stuck in the past.  Over the weekend, he called the recent thaw in relations between the two countries ridiculous. He has warned that Cuba is taking advantage of the United States.  Here, he is an increasingly lonely voice.  Most Americans support better relations with Cuba, as do a majority of Cuban-Americans.  By clinging to the notion that isolating Cuba is better than engaging with the communist country, Rubio has marginalized himself on an issue where he could have provided insight and leadership. Immigration and Cuba policy aside, Rubio\\'s political philosophy will be a tough sell to Hispanics.  He is a fierce opponent of \"Obamacare\" and wants the law repealed.  However, the Affordable Care Act has led to a 12.3% drop in the Hispanic uninsured rate, making Latinos the demographic with the largest gain in insurance, thanks to the law.  (In fact, Rubio signed his own family up for \"Obamacare\" on the Washington exchange, taking advantage of a generous federal subsidy offered to lawmakers.) Rubio favors smaller government, while Latinos are more likely than the general public to say they favor a bigger government that provides more services over a small government that provides less.  And though Rubio doubts that climate change is caused by humans, The New York Times has noted that Latinos view global warming as a problem and favor government action on the issue. Sure, Rubio is young and charismatic.  But his work on the failed immigration bill notwithstanding, Rubio has a significant lack of accomplishments to show for his five years in the senate.  In February, he was reported as topping the list of absentee lawmakers by the website Politico. Another Rubio weakness is his lack of bold policy proposals.  Consider that his fellow contender for the GOP presidential nomination, Sen. Rand Paul of Kentucky, has been willing to present new ideas to the Republican base, such as reforming the criminal justice system and legalizing medical marijuana.  Or that another GOP candidate for president, Sen. Ted Cruz  of Texas is entirely comfortable with his image as a conservative firebrand.  By comparison, Rubio seems cautious and ill-suited to the task of rousing Republican voters. With his early leap into the 2016 race, Marco Rubio is positioning himself as the next generation of GOP leadership.  Unfortunately, a fresh face on stale ideas is not a winning combination -- not for Rubio, and not for Latino voters.'}\n",
            "Error Type: HfHubHTTPError, Message: 503 Server Error: Service Temporarily Unavailable for url: https://router.huggingface.co/hf-inference/models/t5-base\n",
            "WARNING:langchain.smith.evaluation.runner_utils:LLM failed for example ec5ee12f-6473-46c6-ab08-4a39297f1f7a with inputs {'article': 'Summarize this news:\\n(CNN)Emergency operators get lots of crazy calls, but few start like this. Caller:  \"Hello, I\\'m trapped in this plane and I called my job, but I\\'m in this plane.\" Operator:  \"You\\'re where?\" Caller:  \"I\\'m inside a plane and I feel like it\\'s up moving in the air.  Flight 448 can you please tell somebody (to) stop it.\" The frantic 911 call came just as the Alaska Airlines flight had taken off from Seattle-Tacoma International Airport on Monday afternoon.  The caller was a ramp agent who fell asleep in the plane\\'s cargo hold. The cell phone call soon broke up, but the man was making himself known in other ways as the crew and passengers reported unusual banging from the belly of the Boeing 737. The pilot radioed air traffic control and said he would make an emergency landing. \"There could be a person in there so we\\'re going to come back around,\" he told air traffic control. The ramp agent who took the untimely nap and caused all the fuss is an employee of Menzies Aviation, a contractor for Alaska Airlines that handles loading the luggage. He\\'ll no longer have the option of dozing aboard one of the airline\\'s planes. \"The Menzies employee has been permanently banned from working on Alaska Airlines planes,\" said Bobbie Egan, a spokeswoman for the airline. Flight 448, which was on its way to Los Angeles, only spent 14 minutes in the air. Other than being scared, the agent never was in any real danger. The cargo hold is pressurized and temperature controlled, the airline said. The passengers knew something wasn\\'t right, almost as soon as the plane took off. \"All of a sudden we heard all this pounding underneath the plane and we thought there was something wrong with the landing gear,\" Robert Higgins told CNN affiliate KABC. Not everyone heard the banging, but it was soon clear this wasn\\'t a normal flight. \"We just took off for L.A. regular and then ... about five minutes into the flight the captain came on and said we were going back and we\\'d land within five to seven minutes, and we did,\" passenger Marty Collins told affiliate KOMO. \"When we landed was when all the trucks and the police and the fire trucks surrounded the plane.\" \"I think it\\'s scary and really unsafe, too,\" Chelsie Nieto told affiliate KCPQ. \"Because what if it\\'s someone who could have been a terrorist?\" The employee started work at 5 a.m. and his shift was scheduled to end at 2:30 p.m., just before the flight departed. The agent was off the two days prior to the incident and had taken a lunch break and a break in the afternoon before making his way into the cargo hold, according to a source familiar with the investigation. The man had been on a four-person team loading baggage onto the flight. \"During a pre-departure huddle, the team lead noticed the employee was missing. The team lead called into the cargo hold for the employee and called and texted the employee\\'s cell phone, but did not receive an answer. His co-workers believed he finished his shift and went home,\" the airline\\'s blog said. It\\'s believed he was hidden by luggage, making it difficult for the rest of his team to see him, the source said. All ramp employees have security badges, and undergo full criminal background checks before being hired, according to the airline. After the delay, the flight with 170 passengers and six crew members on board made it to Los Angeles a couple of hours late. CNN\\'s Dave Alsup, Joshua Gaynor and Greg Morrison contributed to this report.'}\n",
            "Error Type: HfHubHTTPError, Message: 503 Server Error: Service Temporarily Unavailable for url: https://router.huggingface.co/hf-inference/models/t5-base\n",
            "WARNING:langchain.smith.evaluation.runner_utils:LLM failed for example 70916a0c-b503-4838-b8a2-671b88f75980 with inputs {'article': 'Summarize this news:\\nLondon (CNN)British police investigating a spectacular heist in the heart of London\\'s jewelry district said Friday they knew a burglar alarm went off but didn\\'t respond. Southern Monitoring Alarm Company called the Metropolitan Police Service, also known as Scotland Yard, at 12:21 a.m. April 3 to report that the burglar alarm had been activated at Hatton Garden Safe Deposit Ltd., MPS said in a prepared statement. \"The call was recorded and transferred to the police\\'s CAD (computer-aided dispatch) system,\" the statement said. \"A grade was applied to the call that meant that no police response was deemed to be required. We are now investigating why this grade was applied to the call. This investigation is being carried out locally. \"It is too early to say if the handling of the call would have had an impact on the outcome of the incident.\" The theft was so big that police haven\\'t come up with a value for what was stolen. Over the four-day Easter holiday, thieves broke into the vault of Hatton Garden Safe Deposit Ltd. and might have been able to take as long as four days to rifle through the boxes. A former police official in London has speculated that the loss could run to £200 million, or $300 million, in a remark widely reported by news media. Numerous British news organizations put the value of the loss in the hundreds of thousands of pounds. Detective Chief Inspector Paul Johnson of the London Metropolitan Police Flying Squad said police were still identifying the owners of ransacked safe deposit boxes and trying to contact them to learn what had been lost. The British tabloid The Daily Mirror claimed Friday to have obtained closed-circuit TV footage that captured the robbery being carried out. The video showed people inside the building dressed like utility workers with their faces covered. They carried large bags, what looked like drill equipment and other tools, then exited with trash bins. Toward the end of the video, a white van can be seen on a street during daytime with individuals loading back their gear and the trash bins. British police told CNN they have not released any video of the heist. When asked about the video published by the Daily Mirror, police said they could not confirm that it was footage from the Hatton Garden robbery and that officers have not seen that particular video. The Daily Mirror published time-stamped images it said showed that the thieves had been -- as was feared -- in the vault for days. The Mirror\\'s time stamps, which CNN has not been able to independently verify, show employees locking up for the weekend at 9:19 p.m. on Thursday. If the footage, and its interpretation by the newspaper are correct, at least six people were involved in the heist . Just four minutes later, the first of the thieves, nicknamed \"Mr. Ginger\" by the newspaper for his red hair, appears in the building holding a black bag. He goes downstairs toward the vault. At 9:27 p.m., a street camera shows a white Ford Transit van pulling up to an alley beside the Hatton Garden Safe Deposit building. Men are seen dragging trash bins down the alley before the van drives away, leaving the men behind. Inside the building, at 9:30p.m., the camera records a thief nicknamed \"The Gent\" for his natty clothing -- though he also wears a hard-hat and a high-visibility jacket labeled \"Gas\" on the back. A minute later, \"Mr. Strong\" appears, wearing a builder\\'s hat and carrying steel supports, which the newspaper speculates could have been used to support the diamond-tipped drill used to smash through the wall of the vault. At 9:36 p.m., Mr. Strong and a thief nicknamed Mr. Montana for the logo on his hooded sweatshirt roll in trash bins, one of which might have contained, according the Mirror, the 77-pound drill that bored through the reinforced seven-foot concrete wall to reach the vault. It is unclear, but the thieves may have spent the night in the basement in or near the vault. At any rate, according to the Daily Mirror, no more activity is seen above ground until Friday morning, shortly before 8:00. The white van returns, is loaded in two minutes, and drives off again. On Saturday evening, Mr. Ginger returns, two days after he was first seen. The newspaper says is wearing latex gloves and carrying a black sack. He goes downstairs toward the vault. Saturday evening also marked the first appearance of the Tall Man, who helped carry some of the loot out of the building. Early Sunday, Mr Ginger, the Tall Man and a robber nicknamed the Old Man are seen to be active. The Tall Man and the Old Man struggle to move a bin before they drag it outside. The Old Man leans on the bin, struggling for breath, and reveals the side of his face to the camera. A white van arrives by the alley and the men start loading equipment on it, including several trash bins. Three men get into the white van and, at 6:44 a.m. they are gone. The heist would not be reported to police for two more days, on Tuesday morning when employees of the company arrived for work. Police said Thursday there was no sign of forced entry. Johnson said the thieves appeared to have gained access to the vault through the shaft of an elevator that is used by several businesses in the building. The thieves disabled the elevator on the second floor of the building -- which would be called the third floor in the United States -- then climbed down the elevator shaft into the basement, he said. Once there, he said, they used a drill to bore through a 6-foot-thick wall and gain access to the vault where the safe deposit boxes were. People with knowledge of the area have speculated that cash and jewels were probably taken. Some jewelry businesses reportedly stored some of their jewels in the boxes rather than leaving it in their stores over the holiday weekend. Johnson said the scene in the vault remained chaotic as police continued their forensic examination. He said the floor was covered with dust and littered with safe deposit boxes and power tools. WATCH: Top five jewelry heists . Johnson called the crime sophisticated and said there were a limited number of people in the United Kingdom capable of pulling it off. He said he had no idea whether the thieves were still in the country. Although there was no sign of forced entry to the building, the detective said, \"whether that involves inside knowledge will form part of the investigation.\" Hatton Garden is a storied area in London and the heart of the city\\'s diamond trade. The area\\'s promotional website says it is home to \"the largest and most concentrated cluster of jewellery retailers in the UK\" and has been for quite some time. \"History tells us that the old City of London had certain streets -- or quarters -- dedicated to specific types of business,\" the website says. \"The Hatton Garden area has been the epicentre of London\\'s jewellery trade since medieval times. \"Today, it maintains its international reputation as the centre of London\\'s diamond trade. It is one of the finest and most renowned jewellery locations in the world.\" How was $4.8 million in gold swiped from a North Carolina highway? The website of Hatton Garden Safe Deposit Ltd. says the company was founded in 1954 and offers a \"secure and cost-effective solution to store and protect important and irreplaceable personal belongings.\"'}\n",
            "Error Type: HfHubHTTPError, Message: 503 Server Error: Service Temporarily Unavailable for url: https://router.huggingface.co/hf-inference/models/t5-base\n"
          ]
        },
        {
          "output_type": "stream",
          "name": "stdout",
          "text": [
            "\r[---------------------------------->               ] 7/10\r[--------------------------------------->          ] 8/10\r[-------------------------------------------->     ] 9/10"
          ]
        },
        {
          "output_type": "stream",
          "name": "stderr",
          "text": [
            "WARNING:langchain.smith.evaluation.runner_utils:LLM failed for example d6b46b44-3f10-4ff0-9fb4-9c61626bc41a with inputs {'article': 'Summarize this news:\\nMoscow (CNN)A Russian TV channel aired Hillary Clinton\\'s first campaign video with a rating stamp that means it\\'s for mature audiences, because of fears it might run afoul of the country\\'s anti-gay propaganda law. A clip of the video, which features a gay couple holding hands, got the 18+ rating from the independent TV Rain channel in Russia on Monday. The channel told CNN that it didn\\'t want to break the controversial law, which bans \"propaganda of nontraditional sexual relations around minors\" and bars public discussion of gay rights and relationships within earshot of children. \"There are no legal precedents for this law, so we just don\\'t know what comes under this law and (what) doesn\\'t,\" a TV Rain spokesperson told CNN. \"Therefore, fearing to break the law -- especially given the high attention to TV Rain from the supervising authorities -- we decided to put a marker (on the video).\" Clinton\\'s video was released over the weekend to announce the start of her 2016 U.S. presidential campaign. It features about five seconds of two men holding hands. One of the men says, \"I\\'m getting married this summer to someone I really care about.\" The former senator and first lady first declared her support for same-sex marriage in early 2013, saying that \"gay rights are human rights, and human rights are gay rights.\" Russia\\'s controversial law caused an international outcry after it was passed by the Russian Parliament and signed by President Vladimir Putin in July 2013. Human Rights Watch described the anti-gay propaganda law as \"a profoundly discriminatory and dangerous bill that is bound to worsen homophobia in Russia.\" Rights campaigners called for a boycott of the 2014 Winter Olympics in Sochi, and a number of bars around the world stopped serving Russian vodka in protest. U.S. President Barack Obama -- Clinton\\'s former boss -- said at the time that he found the legislation offensive. \"I have no patience for countries that try to treat gays or lesbians or transgendered persons in ways that intimidate them or harmful to them,\" Obama told Jay Leno in 2013. Putin defended the law, noting that unlike other countries, Russia decriminalized homosexual relationships (in 1993). \"We don\\'t outlaw anything and don\\'t nab anyone,\" he said before the 2014 Games. \"That\\'s why you can feel safe and free here,\" he added, \"but please leave our children in peace.\" The rights group ILGA-Europe said in a May 2014 report that Russia was the worst place in Europe (out of 49 countries) for LGBTI people to live. READ MORE: Social media react to Hillary Clinton logo .'}\n",
            "Error Type: HfHubHTTPError, Message: 503 Server Error: Service Temporarily Unavailable for url: https://router.huggingface.co/hf-inference/models/t5-base\n"
          ]
        },
        {
          "output_type": "stream",
          "name": "stdout",
          "text": [
            "\r[------------------------------------------------->] 10/10"
          ]
        }
      ],
      "source": [
        "project_name = f\"T5-BASE {datetime.datetime.now().strftime('%Y-%m-%d %H:%M:%S')}\"\n",
        "\n",
        "base_t5_results = run_on_dataset(\n",
        "    client=client,\n",
        "    project_name=project_name,\n",
        "    dataset_name=NAME_DATASET,\n",
        "    llm_or_chain_factory=summarizer_base,\n",
        "    evaluation=evaluation_config,\n",
        ")"
      ]
    },
    {
      "cell_type": "code",
      "execution_count": 29,
      "id": "76ede4d6-ed51-4745-b91a-d9ec6c40d436",
      "metadata": {
        "colab": {
          "base_uri": "https://localhost:8080/"
        },
        "id": "76ede4d6-ed51-4745-b91a-d9ec6c40d436",
        "outputId": "1b06ec37-6f02-49ff-cc63-380d26ef5467",
        "tags": []
      },
      "outputs": [
        {
          "output_type": "stream",
          "name": "stdout",
          "text": [
            "View the evaluation results for project 'T5-FineTuned 2025-04-22 18:58:03' at:\n",
            "https://smith.langchain.com/o/fbfc24ed-eae6-4741-87aa-6896a453212f/datasets/2c0250e4-4046-4c6b-a7f7-4af4c7f39399/compare?selectedSessions=a0dc8b70-f493-4acf-bc7d-6f6519a3d043\n",
            "\n",
            "View all tests for Dataset Summarize_dataset_2025-04-22 18:51:59 at:\n",
            "https://smith.langchain.com/o/fbfc24ed-eae6-4741-87aa-6896a453212f/datasets/2c0250e4-4046-4c6b-a7f7-4af4c7f39399\n",
            "[>                                                 ] 0/10"
          ]
        },
        {
          "output_type": "stream",
          "name": "stderr",
          "text": [
            "/usr/local/lib/python3.11/dist-packages/huggingface_hub/utils/_deprecation.py:131: FutureWarning: 'post' (from 'huggingface_hub.inference._client') is deprecated and will be removed from version '0.31.0'. Making direct POST requests to the inference server is not supported anymore. Please use task methods instead (e.g. `InferenceClient.chat_completion`). If your use case is not supported, please open an issue in https://github.com/huggingface/huggingface_hub.\n",
            "  warnings.warn(warning_message, FutureWarning)\n",
            "/usr/local/lib/python3.11/dist-packages/huggingface_hub/utils/_deprecation.py:131: FutureWarning: 'post' (from 'huggingface_hub.inference._client') is deprecated and will be removed from version '0.31.0'. Making direct POST requests to the inference server is not supported anymore. Please use task methods instead (e.g. `InferenceClient.chat_completion`). If your use case is not supported, please open an issue in https://github.com/huggingface/huggingface_hub.\n",
            "  warnings.warn(warning_message, FutureWarning)\n",
            "/usr/local/lib/python3.11/dist-packages/huggingface_hub/utils/_deprecation.py:131: FutureWarning: 'post' (from 'huggingface_hub.inference._client') is deprecated and will be removed from version '0.31.0'. Making direct POST requests to the inference server is not supported anymore. Please use task methods instead (e.g. `InferenceClient.chat_completion`). If your use case is not supported, please open an issue in https://github.com/huggingface/huggingface_hub.\n",
            "  warnings.warn(warning_message, FutureWarning)\n",
            "/usr/local/lib/python3.11/dist-packages/huggingface_hub/utils/_deprecation.py:131: FutureWarning: 'post' (from 'huggingface_hub.inference._client') is deprecated and will be removed from version '0.31.0'. Making direct POST requests to the inference server is not supported anymore. Please use task methods instead (e.g. `InferenceClient.chat_completion`). If your use case is not supported, please open an issue in https://github.com/huggingface/huggingface_hub.\n",
            "  warnings.warn(warning_message, FutureWarning)\n",
            "WARNING:langchain.smith.evaluation.runner_utils:LLM failed for example 63bd41ad-345a-4d0d-be42-ee09b6757eea with inputs {'article': 'Summarize this news:\\n(CNN)Wanted: film director, must be eager to shoot footage of golden lassos and invisible jets. CNN confirms that Michelle MacLaren is leaving the upcoming \"Wonder Woman\" movie (The Hollywood Reporter first broke the story). MacLaren was announced as director of the movie in November. CNN obtained a statement from Warner Bros. Pictures that says, \"Given creative differences, Warner Bros. and Michelle MacLaren have decided not to move forward with plans to develop and direct \\'Wonder Woman\\' together.\" (CNN and Warner Bros. Pictures are both owned by Time Warner.) The movie, starring Gal Gadot in the title role of the Amazon princess, is still set for release on June 23, 2017. It\\'s the first theatrical movie centering around the most popular female superhero. Gadot will appear beforehand in \"Batman v. Superman: Dawn of Justice,\" due out March 25, 2016. In the meantime, Warner will need to find someone new for the director\\'s chair.'}\n",
            "Error Type: HfHubHTTPError, Message: 503 Server Error: Service Temporarily Unavailable for url: https://router.huggingface.co/hf-inference/models/flax-community/t5-base-cnn-dm\n",
            "/usr/local/lib/python3.11/dist-packages/huggingface_hub/utils/_deprecation.py:131: FutureWarning: 'post' (from 'huggingface_hub.inference._client') is deprecated and will be removed from version '0.31.0'. Making direct POST requests to the inference server is not supported anymore. Please use task methods instead (e.g. `InferenceClient.chat_completion`). If your use case is not supported, please open an issue in https://github.com/huggingface/huggingface_hub.\n",
            "  warnings.warn(warning_message, FutureWarning)\n",
            "WARNING:langchain.smith.evaluation.runner_utils:LLM failed for example 0ee5df86-3cfe-435b-9f32-860c815a9cc8 with inputs {'article': 'Summarize this news:\\n(CNN)James Best, best known for his portrayal of bumbling sheriff Rosco P. Coltrane on TV\\'s \"The Dukes of Hazzard,\" died Monday after a brief illness. He was 88. Best died in hospice in Hickory, North Carolina, of complications from pneumonia, said Steve Latshaw, a longtime friend and Hollywood colleague. Although he\\'d been a busy actor for decades in theater and in Hollywood, Best didn\\'t become famous until 1979, when \"The Dukes of Hazzard\\'s\" cornpone charms began beaming into millions of American homes almost every Friday night. For seven seasons, Best\\'s Rosco P. Coltrane chased the moonshine-running Duke boys back and forth across the back roads of fictitious Hazzard County, Georgia, although his \"hot pursuit\" usually ended with him crashing his patrol car. Although Rosco was slow-witted and corrupt, Best gave him a childlike enthusiasm that got laughs and made him endearing. His character became known for his distinctive \"kew-kew-kew\" chuckle and for goofy catchphrases such as \"cuff \\'em and stuff \\'em!\" upon making an arrest. Among the most popular shows on TV in the early \\'80s, \"The Dukes of Hazzard\" ran until 1985 and spawned TV movies, an animated series and video games. Several of Best\\'s \"Hazzard\" co-stars paid tribute to the late actor on social media. \"I laughed and learned more from Jimmie in one hour than from anyone else in a whole year,\" co-star John Schneider, who played Bo Duke, said on Twitter. \"Give Uncle Jesse my love when you see him dear friend.\" \"Jimmy Best was the most constantly creative person I have ever known,\" said Ben Jones, who played mechanic Cooter on the show, in a Facebook post. \"Every minute of his long life was spent acting, writing, producing, painting, teaching, fishing, or involved in another of his life\\'s many passions.\" Born Jewel Guy on July 26, 1926, in Powderly, Kentucky, Best was orphaned at 3 and adopted by Armen and Essa Best, who renamed him James and raised him in rural Indiana. Best served in the Army during World War II before launching his acting career. In the 1950s and 1960s, he accumulated scores of credits, playing a range of colorful supporting characters in such TV shows as \"The Twilight Zone,\" \"Bonanza,\" \"The Andy Griffith Show\" and \"Gunsmoke.\" He later appeared in a handful of Burt Reynolds\\' movies, including \"Hooper\" and \"The End.\" But Best will always be best known for his \"Hazzard\" role, which lives on in reruns. \"Jimmie was my teacher, mentor, close friend and collaborator for 26 years,\" Latshaw said. \"I directed two of his feature films, including the recent \\'Return of the Killer Shrews,\\' a sequel he co-wrote and was quite proud of as he had made the first one more than 50 years earlier.\" People we\\'ve lost in 2015 . CNN\\'s Stella Chan contributed to this story.'}\n",
            "Error Type: HfHubHTTPError, Message: 503 Server Error: Service Temporarily Unavailable for url: https://router.huggingface.co/hf-inference/models/flax-community/t5-base-cnn-dm\n",
            "/usr/local/lib/python3.11/dist-packages/huggingface_hub/utils/_deprecation.py:131: FutureWarning: 'post' (from 'huggingface_hub.inference._client') is deprecated and will be removed from version '0.31.0'. Making direct POST requests to the inference server is not supported anymore. Please use task methods instead (e.g. `InferenceClient.chat_completion`). If your use case is not supported, please open an issue in https://github.com/huggingface/huggingface_hub.\n",
            "  warnings.warn(warning_message, FutureWarning)\n",
            "WARNING:langchain.smith.evaluation.runner_utils:LLM failed for example 70916a0c-b503-4838-b8a2-671b88f75980 with inputs {'article': 'Summarize this news:\\nLondon (CNN)British police investigating a spectacular heist in the heart of London\\'s jewelry district said Friday they knew a burglar alarm went off but didn\\'t respond. Southern Monitoring Alarm Company called the Metropolitan Police Service, also known as Scotland Yard, at 12:21 a.m. April 3 to report that the burglar alarm had been activated at Hatton Garden Safe Deposit Ltd., MPS said in a prepared statement. \"The call was recorded and transferred to the police\\'s CAD (computer-aided dispatch) system,\" the statement said. \"A grade was applied to the call that meant that no police response was deemed to be required. We are now investigating why this grade was applied to the call. This investigation is being carried out locally. \"It is too early to say if the handling of the call would have had an impact on the outcome of the incident.\" The theft was so big that police haven\\'t come up with a value for what was stolen. Over the four-day Easter holiday, thieves broke into the vault of Hatton Garden Safe Deposit Ltd. and might have been able to take as long as four days to rifle through the boxes. A former police official in London has speculated that the loss could run to £200 million, or $300 million, in a remark widely reported by news media. Numerous British news organizations put the value of the loss in the hundreds of thousands of pounds. Detective Chief Inspector Paul Johnson of the London Metropolitan Police Flying Squad said police were still identifying the owners of ransacked safe deposit boxes and trying to contact them to learn what had been lost. The British tabloid The Daily Mirror claimed Friday to have obtained closed-circuit TV footage that captured the robbery being carried out. The video showed people inside the building dressed like utility workers with their faces covered. They carried large bags, what looked like drill equipment and other tools, then exited with trash bins. Toward the end of the video, a white van can be seen on a street during daytime with individuals loading back their gear and the trash bins. British police told CNN they have not released any video of the heist. When asked about the video published by the Daily Mirror, police said they could not confirm that it was footage from the Hatton Garden robbery and that officers have not seen that particular video. The Daily Mirror published time-stamped images it said showed that the thieves had been -- as was feared -- in the vault for days. The Mirror\\'s time stamps, which CNN has not been able to independently verify, show employees locking up for the weekend at 9:19 p.m. on Thursday. If the footage, and its interpretation by the newspaper are correct, at least six people were involved in the heist . Just four minutes later, the first of the thieves, nicknamed \"Mr. Ginger\" by the newspaper for his red hair, appears in the building holding a black bag. He goes downstairs toward the vault. At 9:27 p.m., a street camera shows a white Ford Transit van pulling up to an alley beside the Hatton Garden Safe Deposit building. Men are seen dragging trash bins down the alley before the van drives away, leaving the men behind. Inside the building, at 9:30p.m., the camera records a thief nicknamed \"The Gent\" for his natty clothing -- though he also wears a hard-hat and a high-visibility jacket labeled \"Gas\" on the back. A minute later, \"Mr. Strong\" appears, wearing a builder\\'s hat and carrying steel supports, which the newspaper speculates could have been used to support the diamond-tipped drill used to smash through the wall of the vault. At 9:36 p.m., Mr. Strong and a thief nicknamed Mr. Montana for the logo on his hooded sweatshirt roll in trash bins, one of which might have contained, according the Mirror, the 77-pound drill that bored through the reinforced seven-foot concrete wall to reach the vault. It is unclear, but the thieves may have spent the night in the basement in or near the vault. At any rate, according to the Daily Mirror, no more activity is seen above ground until Friday morning, shortly before 8:00. The white van returns, is loaded in two minutes, and drives off again. On Saturday evening, Mr. Ginger returns, two days after he was first seen. The newspaper says is wearing latex gloves and carrying a black sack. He goes downstairs toward the vault. Saturday evening also marked the first appearance of the Tall Man, who helped carry some of the loot out of the building. Early Sunday, Mr Ginger, the Tall Man and a robber nicknamed the Old Man are seen to be active. The Tall Man and the Old Man struggle to move a bin before they drag it outside. The Old Man leans on the bin, struggling for breath, and reveals the side of his face to the camera. A white van arrives by the alley and the men start loading equipment on it, including several trash bins. Three men get into the white van and, at 6:44 a.m. they are gone. The heist would not be reported to police for two more days, on Tuesday morning when employees of the company arrived for work. Police said Thursday there was no sign of forced entry. Johnson said the thieves appeared to have gained access to the vault through the shaft of an elevator that is used by several businesses in the building. The thieves disabled the elevator on the second floor of the building -- which would be called the third floor in the United States -- then climbed down the elevator shaft into the basement, he said. Once there, he said, they used a drill to bore through a 6-foot-thick wall and gain access to the vault where the safe deposit boxes were. People with knowledge of the area have speculated that cash and jewels were probably taken. Some jewelry businesses reportedly stored some of their jewels in the boxes rather than leaving it in their stores over the holiday weekend. Johnson said the scene in the vault remained chaotic as police continued their forensic examination. He said the floor was covered with dust and littered with safe deposit boxes and power tools. WATCH: Top five jewelry heists . Johnson called the crime sophisticated and said there were a limited number of people in the United Kingdom capable of pulling it off. He said he had no idea whether the thieves were still in the country. Although there was no sign of forced entry to the building, the detective said, \"whether that involves inside knowledge will form part of the investigation.\" Hatton Garden is a storied area in London and the heart of the city\\'s diamond trade. The area\\'s promotional website says it is home to \"the largest and most concentrated cluster of jewellery retailers in the UK\" and has been for quite some time. \"History tells us that the old City of London had certain streets -- or quarters -- dedicated to specific types of business,\" the website says. \"The Hatton Garden area has been the epicentre of London\\'s jewellery trade since medieval times. \"Today, it maintains its international reputation as the centre of London\\'s diamond trade. It is one of the finest and most renowned jewellery locations in the world.\" How was $4.8 million in gold swiped from a North Carolina highway? The website of Hatton Garden Safe Deposit Ltd. says the company was founded in 1954 and offers a \"secure and cost-effective solution to store and protect important and irreplaceable personal belongings.\"'}\n",
            "Error Type: HfHubHTTPError, Message: 503 Server Error: Service Temporarily Unavailable for url: https://router.huggingface.co/hf-inference/models/flax-community/t5-base-cnn-dm\n"
          ]
        },
        {
          "output_type": "stream",
          "name": "stdout",
          "text": [
            "\r[---->                                             ] 1/10\r[--------->                                        ] 2/10\r[-------------->                                   ] 3/10"
          ]
        },
        {
          "output_type": "stream",
          "name": "stderr",
          "text": [
            "/usr/local/lib/python3.11/dist-packages/huggingface_hub/utils/_deprecation.py:131: FutureWarning: 'post' (from 'huggingface_hub.inference._client') is deprecated and will be removed from version '0.31.0'. Making direct POST requests to the inference server is not supported anymore. Please use task methods instead (e.g. `InferenceClient.chat_completion`). If your use case is not supported, please open an issue in https://github.com/huggingface/huggingface_hub.\n",
            "  warnings.warn(warning_message, FutureWarning)\n",
            "WARNING:langchain.smith.evaluation.runner_utils:LLM failed for example 1a6864f0-997e-4d23-b6ae-dfe460b456f3 with inputs {'article': 'Summarize this news:\\n(CNN)Marco Rubio is all in.  The Republican senator from Florida has announced that he is seeking the Republican presidential nomination, running on an optimistic message that he embodies the promise of the American Dream. With his youthful energy and Hispanic roots, it\\'s tempting to see Rubio as the new blood that the GOP needs in order to compete against Hillary Clinton in 2016.  Yet Rubio has been his own worst enemy on what could have been his two signature issues: immigration reform and Cuba relations.  He holds little appeal to Latino voters.  And unless he can offer new ideas, his climb to the Republican nomination will be steep. Back in 2013, Rubio was a member of the Senate \"Gang of 8\" that crafted a bipartisan proposal for comprehensive reform, including a path to citizenship for the nation\\'s estimated 11 million undocumented immigrants.  He later distanced himself from the bill after it ran into resistance from House Republicans, and now says he favors a piecemeal approach, starting with securing the border. His retreat on immigration means that Rubio has missed an opportunity to set himself apart from most of the presumptive Republican presidential candidates.  That\\'s a shame, for this issue was supposed to be his calling card to Latino voters. Instead, Rubio has embraced a typical conservative approach to immigration.   He believes that President Obama\\'s Deferred Action program, offering deportation relief to young immigrants, should be ended.  He has stated that the President\\'s executive action on immigration, on hold pending a circuit court review, sets a \"horrifying precedent.\" Meanwhile, both the Deferred Action program and President Obama\\'s executive action on immigration are overwhelmingly favored by Hispanics.  No wonder the research firm Latino Decisions reports that, \"We find no evidence that Rubio\\'s candidacy will draw significant Latino support for his candidacy or for his party more generally.\"  So, if Rubio is counting on his ethnicity and personal history as the son of immigrants to win over fellow Hispanics, he is mistaken. At a private breakfast Monday for supporters, Rubio described running against \"one candidate in the race who\\'s from yesterday, and one who wants to take us back to yesterday.\"  But when it comes to Cuba policy, Rubio himself seems firmly stuck in the past.  Over the weekend, he called the recent thaw in relations between the two countries ridiculous. He has warned that Cuba is taking advantage of the United States.  Here, he is an increasingly lonely voice.  Most Americans support better relations with Cuba, as do a majority of Cuban-Americans.  By clinging to the notion that isolating Cuba is better than engaging with the communist country, Rubio has marginalized himself on an issue where he could have provided insight and leadership. Immigration and Cuba policy aside, Rubio\\'s political philosophy will be a tough sell to Hispanics.  He is a fierce opponent of \"Obamacare\" and wants the law repealed.  However, the Affordable Care Act has led to a 12.3% drop in the Hispanic uninsured rate, making Latinos the demographic with the largest gain in insurance, thanks to the law.  (In fact, Rubio signed his own family up for \"Obamacare\" on the Washington exchange, taking advantage of a generous federal subsidy offered to lawmakers.) Rubio favors smaller government, while Latinos are more likely than the general public to say they favor a bigger government that provides more services over a small government that provides less.  And though Rubio doubts that climate change is caused by humans, The New York Times has noted that Latinos view global warming as a problem and favor government action on the issue. Sure, Rubio is young and charismatic.  But his work on the failed immigration bill notwithstanding, Rubio has a significant lack of accomplishments to show for his five years in the senate.  In February, he was reported as topping the list of absentee lawmakers by the website Politico. Another Rubio weakness is his lack of bold policy proposals.  Consider that his fellow contender for the GOP presidential nomination, Sen. Rand Paul of Kentucky, has been willing to present new ideas to the Republican base, such as reforming the criminal justice system and legalizing medical marijuana.  Or that another GOP candidate for president, Sen. Ted Cruz  of Texas is entirely comfortable with his image as a conservative firebrand.  By comparison, Rubio seems cautious and ill-suited to the task of rousing Republican voters. With his early leap into the 2016 race, Marco Rubio is positioning himself as the next generation of GOP leadership.  Unfortunately, a fresh face on stale ideas is not a winning combination -- not for Rubio, and not for Latino voters.'}\n",
            "Error Type: HfHubHTTPError, Message: 503 Server Error: Service Temporarily Unavailable for url: https://router.huggingface.co/hf-inference/models/flax-community/t5-base-cnn-dm\n",
            "/usr/local/lib/python3.11/dist-packages/huggingface_hub/utils/_deprecation.py:131: FutureWarning: 'post' (from 'huggingface_hub.inference._client') is deprecated and will be removed from version '0.31.0'. Making direct POST requests to the inference server is not supported anymore. Please use task methods instead (e.g. `InferenceClient.chat_completion`). If your use case is not supported, please open an issue in https://github.com/huggingface/huggingface_hub.\n",
            "  warnings.warn(warning_message, FutureWarning)\n",
            "WARNING:langchain.smith.evaluation.runner_utils:LLM failed for example 392b7ecb-bb72-465c-9d34-c9c0ccf62fe8 with inputs {'article': 'Summarize this news:\\n(CNN)President Barack Obama took part in a roundtable discussion this week on climate change, refocusing on the issue from a public health vantage point. After the event at Washington\\'s Howard University on Tuesday, Obama sat down with me for a one-on-one interview. I asked him about the science behind climate change and public health and the message he wants the average American to take away, as well as how enforceable his action plan is. Here are five things I learned: . The President enrolled at Occidental College in Los Angeles in 1979 (he transferred to Columbia University his junior year). While in L.A., he said, the air was so bad that it prevented him from running outside. He remembers the air quality alerts and how people with respiratory problems had to stay inside. He credits the Clean Air Act with making Americans \"a lot\" healthier, in addition to being able to \"see the mountains in the background because they aren\\'t covered in smog.\" Obama also said the instances of asthma and other respiratory diseases went down after these measures were taken. Peer-reviewed Environmental Protection Agency studies say that the Clean Air Act and subsequent amendments have reduced early deaths associated with exposure to ambient fine particle pollution and ozone, and reduced illnesses such as chronic bronchitis and acute myocardial infarction. The EPA estimates that, between 1970 and 2010, the act and its amendments prevented 365,000 early deaths from particulate matter alone. \"No challenge poses more of a public threat than climate change,\" the President told me. When I asked about the strength of the science supporting the direct relationship between climate change and public health, he said, \"We know as temperatures rise, insect-borne diseases potentially start shifting up. We know, in a very straight-forward fashion, that heatstroke and other heat-related illnesses and deaths potentially increase, and so what we\\'re doing here is to make sure that in addition to public awareness around the potential for big storms like Hurricane Sandy or big wildfires or droughts, that people recognize there\\'s a very personal, potential impact in climate change, and the good news is we can do something about it.\" In many ways, Obama is attempting to reframe the discussion around climate change as a public health issue that affects all of us, while conceding that we don\\'t fully understand the magnitude of the correlation between rising temperatures and impact on human health. When asked what the average American can do about all this, the President encouraged ordinary citizens, doctors and nurses to start putting some pressure on elected officials \"to try and make something happen to reduce the impacts of climate change.\" He also issued a presidential proclamation declaring April 6-12 as National Public Health Week \"to better understand, communicate and reduce the health impacts of climate change on our communities.\" The average American can also do their part to reduce their own carbon footprint, including: . • Change your incandescent light bulbs to compact fluorescent lights. One CFL can reduce up to 1,300 pounds of carbon dioxide pollution during its lifetime. If every house in the U.S. switched its bulbs, we could reduce the electricity spent on lighting by half. • Unplug your gadgets and chargers when not in use. According to the U.S. Department of Energy, this practice can save $100 a year on your energy bill. • Use a laptop instead of a desktop. Laptops are designed to be energy-efficient, because battery life is a major factor in their design. According to Energy Star, a laptop can be up to 80% more energy-efficient than a desktop. • Filter your own water. Beyond the environmental toll of plastic waste, consider just how far your water was transported before you bought it at the grocery store. • Adjust your curtains and thermostats. If you keep your house 2 degrees warmer in the summer and 2 degrees colder in the winter, you can save big bucks on your energy bill. The Department of Energy estimates you can save up to 15% on your bill by turning off your thermostat when you\\'re not at home. Obama did not appear particularly concerned about the current Supreme Court challenge to the Affordable Care Act. He  said he believes the statute is \"clear and straightforward.\" He said, \"I am not anticipating the Supreme Court would make such a bad decision.\" At issue is the 32 states that did not set up their own health care exchanges and left it to the federal government to do so. The plaintiffs in the lawsuit contend that the language of the Affordable Care Act does not allow for tax subsidies in those states (without state-based exchanges), possibly creating a situation, for example, in which people in Massachusetts would receive a tax credit, but people living in Texas would not. Obama did tell me that if the Supreme Court challenge is upheld, however, there is no Plan B. \"Millions of people would lose their health insurance. They would no longer be able to afford the health insurance that\\'s being provided out there.\" Obama went on to say, \"I think this is the last gasp of folks who have been fighting against [the Affordable Care Act] for ideological reasons.\" He told me that he \"gets letters every day from people who say, \\'you know what, the Affordable Care Act saved my life or saved my kid\\'s life because I got insurance.\\' \\'I thought I was healthy; turns out I had a tumor, but because I went and got a checkup, it was removed in time, and I\\'m now cancer-free.\\' \" He added, \"I think stories like that will be factored in when the Supreme Court takes a look at this case.\" CNN\\'s Ben Tinker contributed to this report.'}\n",
            "Error Type: HfHubHTTPError, Message: 503 Server Error: Service Temporarily Unavailable for url: https://router.huggingface.co/hf-inference/models/flax-community/t5-base-cnn-dm\n",
            "/usr/local/lib/python3.11/dist-packages/huggingface_hub/utils/_deprecation.py:131: FutureWarning: 'post' (from 'huggingface_hub.inference._client') is deprecated and will be removed from version '0.31.0'. Making direct POST requests to the inference server is not supported anymore. Please use task methods instead (e.g. `InferenceClient.chat_completion`). If your use case is not supported, please open an issue in https://github.com/huggingface/huggingface_hub.\n",
            "  warnings.warn(warning_message, FutureWarning)\n"
          ]
        },
        {
          "output_type": "stream",
          "name": "stdout",
          "text": [
            "\r[------------------->                              ] 4/10\r[------------------------>                         ] 5/10"
          ]
        },
        {
          "output_type": "stream",
          "name": "stderr",
          "text": [
            "WARNING:langchain.smith.evaluation.runner_utils:LLM failed for example 77c01246-98e5-41bb-a6b7-108c04755446 with inputs {'article': 'Summarize this news:\\n(CNN)The attorney for a suburban New York cardiologist charged in what authorities say was a failed scheme to have another physician hurt or killed is calling the allegations against his client \"completely unsubstantiated.\" Appearing Saturday morning on CNN\\'s \"New Day,\" Randy Zelin defended his client, Dr. Anthony Moschetto, who faces criminal solicitation, conspiracy, burglary, arson, criminal prescription sale and weapons charges in connection to what prosecutors called a plot to take out a rival doctor on Long Island. \"None of anything in this case has any evidentiary value,\" Zelin told CNN\\'s Christi Paul.  \"It doesn\\'t matter what anyone says, he is presumed to be innocent.\" Moschetto,54, pleaded not guilty to all charges Wednesday.  He was released after posting $2 million bond and surrendering his passport. Zelin said that his next move is to get Dr. Moshetto back to work. \"He\\'s got patients to see. This man, while he was in a detention cell, the only thing that he cared about were his patients. And amazingly, his patients were flooding the office with calls, making sure that he was OK,\" Zelin said. Two other men -- identified as James Chmela, 43, and James Kalamaras, 41 -- were named as accomplices, according to prosecutors. They pleaded not guilty in Nassau County District Court, according to authorities. Both were released on bail. A requests for comment from an attorney representing Chmela was not returned. It\\'s unclear whether Kalamaras has retained an attorney. Police officers allegedly discovered approximately 100 weapons at Moschetto\\'s home, including hand grenades, high-capacity magazines and knives. Many of the weapons were found in a hidden room behind a switch-activated bookshelf, according to prosecutors. The investigation began back in December, when undercover officers began buying heroin and oxycodone pills from Moschetto in what was initially a routine investigation into the sale of prescription drugs, officials said. During the course of the undercover operation, however, Moschetto also sold the officers two semiautomatic assault weapons as well as ammunition, prosecutors said. Moschetto allegedly told officers during one buy that he needed dynamite to \"blow up a building.\" He later said he no longer needed the dynamite because a friend was setting fire to the building instead. Kalamaras and Chmela are believed to have taken part in the arson, according to prosecutors. \"The fire damaged but did not destroy the office of another cardiologist whose relationship with Dr. Moschetto had soured due to a professional dispute,\" according to the statement from the district attorney\\'s office. Moschetto allegedly gave an informant and undercover detective blank prescriptions and cash for the assault and killing of the fellow cardiologist, according to prosecutors. He also requested that the rival\\'s wife be assaulted if she happened to be present, authorities said. \"He was willing to pay $5,000 to have him beaten and put in a hospital for a few months, and then he said he would pay $20,000 to have him killed,\" said Assistant District Attorney Anne Donnelly, according to CNN affiliate WCBS.'}\n",
            "Error Type: HfHubHTTPError, Message: 503 Server Error: Service Temporarily Unavailable for url: https://router.huggingface.co/hf-inference/models/flax-community/t5-base-cnn-dm\n",
            "WARNING:langchain.smith.evaluation.runner_utils:LLM failed for example a8e7e635-a942-41ae-a4df-fc46d52a21e2 with inputs {'article': 'Summarize this news:\\n(CNN)SPOILER ALERT! It\\'s not just women getting cloned. That was the big twist at the end of \"Orphan Black\\'s\" second season. The kickoff to the new season leads the list of six things to watch in the week ahead. 1. \"Orphan Black,\" 9 p.m. ET, Saturday, April 18, BBC America . The cloning cult sci-fi series remains one of the most critically acclaimed shows on TV, thanks in large part to the performance of Tatiana Maslany, who has taken on at least six roles on the show so far, including a newly introduced transgender clone. Maslany told reporters this week that we can expect even more impressive scenes with multiple clones. \"We like to push the boundaries of what we\\'re able to do and the limits of those clone scenes,\" she said. \"So, yes, you\\'ll definitely see more complex clone work this season and that\\'s just because we\\'re getting more comfortable with the technology and we\\'re excited by getting to sort of further complicate things.\" And the introduction of a group of male clones will certainly increase the suspense. \"There definitely is a shift towards the Castor clones that we get to explore them a little bit more,\" she said. The fans of the show, dubbed the \"Clone Club\" have a lot to look forward to when the show premieres on Saturday the 18th, and Maslany is blown away by the response to the series so far. \"We\\'ve always been really humbled and really inspired by our fans and by their dedication to the show and their knowledge of the show, and  just how it changes their own lives. It\\'s incredible.\" 2. \"Turn: Washington\\'s Spies,\" 9 p.m. ET, Monday, AMC . The series about spies in the early days of the Revolutionary War returns with a new subtitle, \"Washington\\'s Spies,\" and a new Monday night time slot. Series star Jamie Bell told CNN what we can expect in the second season. \"This year we have a lot more battles; we have the journey of [George] Washington and we\\'re getting under his skin a little bit as well. We also introduce new characters like Benedict Arnold, a very infamous character in American history.\" Bell hopes the series might bring more recognition to the Culper spy ring and everything it did. \"I think there should be a monument to all of the Culper ring somewhere. I was amazed that there is nothing [in Washington] about these people who did something extraordinary.\" 3. \"Game of Thrones,\" 9 p.m. ET, Sunday, HBO . The world of Westeros returns for a fifth season in one of the biggest season premieres of the year. Click here for more on what to expect. 4. \"Justified,\" 10 p.m. ET, Tuesday, FX . Timothy Olyphant\\'s tour de force performance as Raylan Givens comes to an end Tuesday night, as the modern-day Western airs its season finale. We\\'ll have to see how his final showdown with Boyd Crowder goes. 5. \"Veep,\" 10:30 ET, Sunday, HBO . Hugh Laurie joins the cast and Julia Louis-Dreyfus is now the president of the United States on HBO\\'s hit comedy. 6. \"Nurse Jackie,\" 9 p.m. ET, Sunday, Showtime . The final season of Showtime\\'s long-running melodrama begins.'}\n",
            "Error Type: HfHubHTTPError, Message: 503 Server Error: Service Temporarily Unavailable for url: https://router.huggingface.co/hf-inference/models/flax-community/t5-base-cnn-dm\n",
            "WARNING:langchain.smith.evaluation.runner_utils:LLM failed for example b53d1b4e-a18f-4fd3-a868-cdb63565053c with inputs {'article': 'Summarize this news:\\n(CNN)Mullah Mohammed Omar is \"still the leader\" of the Taliban\\'s self-declared Islamic Emirate of Afghanistan. That appears to be the primary message of a biography, just published by the Taliban, of the reclusive militant who is credited with founding the group in the early 1990s. The Taliban\\'s \"Cultural Commission\" released the 11-page document in several different translations on the movement\\'s website, ostensibly to commemorate the 19th anniversary of an April 4, 1996, meeting in Afghanistan\\'s Kandahar province when an assembly of Afghans swore allegiance to Omar. Several Afghan observers say the biography is aimed at dispelling rumors of Omar\\'s demise. \"There have been a lot of rumors lately about him. Some people are saying that he is not alive,\" said Sayyed Muhammad Akbar Agha, a former Taliban insider who has written an autobiography about his days with the movement. \"I think the Taliban thought it was an important time to release his biography to give assurances that he is alive and present,\" Agha told CNN in a telephone interview. Bergen: Why U.S. must stay in Afghanistan past 2016 . The biography also appears to be an attempt to remind the world of the Afghan\\'s jihadi leadership credentials, at a time when ISIS leader Abu Bakr al-Baghdadi has declared himself \"caliph\" of the world\\'s Muslims. \"The Taliban has a huge leadership problem at a critical political moment,\" said Graeme Smith, a Kabul-based analyst for the International Crisis Group. \"Another caliph has announced himself to the world, and the Taliban has been silent. And that is getting noticed by militants across South Asia.\" Omar was famously camera-shy during the Taliban\\'s six-year rule over most of Afghanistan. To this day, there are only a handful of photographs of the one-eyed leader. \"He never was actively involved in any of these propaganda campaigns. No publicity. No interviews. He never used the Internet,\" said Rahimullah Yusufzai, a Pakistani journalist and expert on Afghanistan who once interviewed Osama bin Laden. Omar then all but disappeared after a U.S.-led bombing campaign routed the Taliban from Kabul in 2001. Washington has offered a $10 million reward for his capture. The Taliban have released written statements purportedly made by the leader-in-hiding. But years without any video or audio recordings of the fugitive have led to growing speculation that Omar may have died. The biography challenges rumors of Omar\\'s death by offering a description of his daily work schedule, which begins with prayers, study of the Quran, and then delivering \"orders in a specific way to his Jihadi commanders.\" The publication also seeks to fill in some of the gaps about the militant\\'s early years, including the detail that his \"preferred weapon of choice\" was the RPG-7, a rocket-propelled grenade. According to the biography, Omar was born in 1960 in a village called Chah-i-Himmat in Afghanistan\\'s Kandahar province. His father, a \"well-known and respected erudite and social figure,\" died only five years later, apparently of natural causes. Omar studied at a religious school, or madrassa, run by his uncle. The rise of the Communist Party in Afghanistan, and the subsequent 1979 Soviet invasion, interrupted the young man\\'s studies and propelled him into the arms of the armed Afghan opposition known as the mujahedeen. For the next decade, Omar commanded rebel groups \"against the invading Russians and their internal communist puppets,\" according to the biography. Along the way, he was wounded a number of times and was blinded in his right eye. In one battle, the biography claims, Omar and a fighter named Mullah Biradar Akhund destroyed four Soviet tanks, even though they were armed with only four RPG rounds. The Taliban biography makes no mention of the fact that the U.S., allied with Saudi Arabia and Pakistan, helped arm and bankroll the mujahedeen until the Soviet army withdrew in defeat in 1989. Afghan historians have documented the rapid rise of the Taliban in the chaotic years after the communist government in Kabul collapsed in 1992. The movement of warriors who identified themselves as religious scholars emerged to bring order to a country being ripped apart by rival mujahedeen warlords who battled one another for power. The Taliban biography says that Omar and his compatriots \"launched their struggle and fight against corruption and anarchy\" after an initial meeting in Kandahar in June 1994. Two years later, the Taliban captured Kabul and began imposing its austere interpretation of Islamic law on the rest of the country. While the document denounces the Taliban\\'s post-9/11 overthrow at the hands of a U.S.-backed coalition of rival Afghan fighters, it makes no mention of the Taliban\\'s alliance with bin Laden and al Qaeda. During a decade in exile, the Saudi-born bin Laden continued to release periodic video and audio statements until he was killed by U.S. raid on his hideout in the Pakistani city of Abbottabad in 2011. Though Taliban militants have continued to battle the U.S.-backed government across Afghanistan, Omar has not been seen or heard from in years. The movement claims he continues to oversee a Taliban leadership council, judiciary and nine executive commissions, as well as military commanders who operate in all 34 provinces of Afghanistan. Exclusive: ISIS \\'recruits Afghans\\' in chilling video . CNN\\'s Masoud Popalzai contributed to this report from Kabul, Afghanistan.'}\n",
            "Error Type: HfHubHTTPError, Message: 503 Server Error: Service Temporarily Unavailable for url: https://router.huggingface.co/hf-inference/models/flax-community/t5-base-cnn-dm\n"
          ]
        },
        {
          "output_type": "stream",
          "name": "stdout",
          "text": [
            "\r[----------------------------->                    ] 6/10\r[---------------------------------->               ] 7/10\r[--------------------------------------->          ] 8/10"
          ]
        },
        {
          "output_type": "stream",
          "name": "stderr",
          "text": [
            "WARNING:langchain.smith.evaluation.runner_utils:LLM failed for example d6b46b44-3f10-4ff0-9fb4-9c61626bc41a with inputs {'article': 'Summarize this news:\\nMoscow (CNN)A Russian TV channel aired Hillary Clinton\\'s first campaign video with a rating stamp that means it\\'s for mature audiences, because of fears it might run afoul of the country\\'s anti-gay propaganda law. A clip of the video, which features a gay couple holding hands, got the 18+ rating from the independent TV Rain channel in Russia on Monday. The channel told CNN that it didn\\'t want to break the controversial law, which bans \"propaganda of nontraditional sexual relations around minors\" and bars public discussion of gay rights and relationships within earshot of children. \"There are no legal precedents for this law, so we just don\\'t know what comes under this law and (what) doesn\\'t,\" a TV Rain spokesperson told CNN. \"Therefore, fearing to break the law -- especially given the high attention to TV Rain from the supervising authorities -- we decided to put a marker (on the video).\" Clinton\\'s video was released over the weekend to announce the start of her 2016 U.S. presidential campaign. It features about five seconds of two men holding hands. One of the men says, \"I\\'m getting married this summer to someone I really care about.\" The former senator and first lady first declared her support for same-sex marriage in early 2013, saying that \"gay rights are human rights, and human rights are gay rights.\" Russia\\'s controversial law caused an international outcry after it was passed by the Russian Parliament and signed by President Vladimir Putin in July 2013. Human Rights Watch described the anti-gay propaganda law as \"a profoundly discriminatory and dangerous bill that is bound to worsen homophobia in Russia.\" Rights campaigners called for a boycott of the 2014 Winter Olympics in Sochi, and a number of bars around the world stopped serving Russian vodka in protest. U.S. President Barack Obama -- Clinton\\'s former boss -- said at the time that he found the legislation offensive. \"I have no patience for countries that try to treat gays or lesbians or transgendered persons in ways that intimidate them or harmful to them,\" Obama told Jay Leno in 2013. Putin defended the law, noting that unlike other countries, Russia decriminalized homosexual relationships (in 1993). \"We don\\'t outlaw anything and don\\'t nab anyone,\" he said before the 2014 Games. \"That\\'s why you can feel safe and free here,\" he added, \"but please leave our children in peace.\" The rights group ILGA-Europe said in a May 2014 report that Russia was the worst place in Europe (out of 49 countries) for LGBTI people to live. READ MORE: Social media react to Hillary Clinton logo .'}\n",
            "Error Type: HfHubHTTPError, Message: 503 Server Error: Service Temporarily Unavailable for url: https://router.huggingface.co/hf-inference/models/flax-community/t5-base-cnn-dm\n"
          ]
        },
        {
          "output_type": "stream",
          "name": "stdout",
          "text": [
            "\r[-------------------------------------------->     ] 9/10"
          ]
        },
        {
          "output_type": "stream",
          "name": "stderr",
          "text": [
            "WARNING:langchain.smith.evaluation.runner_utils:LLM failed for example ec5ee12f-6473-46c6-ab08-4a39297f1f7a with inputs {'article': 'Summarize this news:\\n(CNN)Emergency operators get lots of crazy calls, but few start like this. Caller:  \"Hello, I\\'m trapped in this plane and I called my job, but I\\'m in this plane.\" Operator:  \"You\\'re where?\" Caller:  \"I\\'m inside a plane and I feel like it\\'s up moving in the air.  Flight 448 can you please tell somebody (to) stop it.\" The frantic 911 call came just as the Alaska Airlines flight had taken off from Seattle-Tacoma International Airport on Monday afternoon.  The caller was a ramp agent who fell asleep in the plane\\'s cargo hold. The cell phone call soon broke up, but the man was making himself known in other ways as the crew and passengers reported unusual banging from the belly of the Boeing 737. The pilot radioed air traffic control and said he would make an emergency landing. \"There could be a person in there so we\\'re going to come back around,\" he told air traffic control. The ramp agent who took the untimely nap and caused all the fuss is an employee of Menzies Aviation, a contractor for Alaska Airlines that handles loading the luggage. He\\'ll no longer have the option of dozing aboard one of the airline\\'s planes. \"The Menzies employee has been permanently banned from working on Alaska Airlines planes,\" said Bobbie Egan, a spokeswoman for the airline. Flight 448, which was on its way to Los Angeles, only spent 14 minutes in the air. Other than being scared, the agent never was in any real danger. The cargo hold is pressurized and temperature controlled, the airline said. The passengers knew something wasn\\'t right, almost as soon as the plane took off. \"All of a sudden we heard all this pounding underneath the plane and we thought there was something wrong with the landing gear,\" Robert Higgins told CNN affiliate KABC. Not everyone heard the banging, but it was soon clear this wasn\\'t a normal flight. \"We just took off for L.A. regular and then ... about five minutes into the flight the captain came on and said we were going back and we\\'d land within five to seven minutes, and we did,\" passenger Marty Collins told affiliate KOMO. \"When we landed was when all the trucks and the police and the fire trucks surrounded the plane.\" \"I think it\\'s scary and really unsafe, too,\" Chelsie Nieto told affiliate KCPQ. \"Because what if it\\'s someone who could have been a terrorist?\" The employee started work at 5 a.m. and his shift was scheduled to end at 2:30 p.m., just before the flight departed. The agent was off the two days prior to the incident and had taken a lunch break and a break in the afternoon before making his way into the cargo hold, according to a source familiar with the investigation. The man had been on a four-person team loading baggage onto the flight. \"During a pre-departure huddle, the team lead noticed the employee was missing. The team lead called into the cargo hold for the employee and called and texted the employee\\'s cell phone, but did not receive an answer. His co-workers believed he finished his shift and went home,\" the airline\\'s blog said. It\\'s believed he was hidden by luggage, making it difficult for the rest of his team to see him, the source said. All ramp employees have security badges, and undergo full criminal background checks before being hired, according to the airline. After the delay, the flight with 170 passengers and six crew members on board made it to Los Angeles a couple of hours late. CNN\\'s Dave Alsup, Joshua Gaynor and Greg Morrison contributed to this report.'}\n",
            "Error Type: HfHubHTTPError, Message: 503 Server Error: Service Temporarily Unavailable for url: https://router.huggingface.co/hf-inference/models/flax-community/t5-base-cnn-dm\n"
          ]
        },
        {
          "output_type": "stream",
          "name": "stdout",
          "text": [
            "\r[------------------------------------------------->] 10/10"
          ]
        }
      ],
      "source": [
        "#Ignore the error shown below\n",
        "project_name = f\"T5-FineTuned {datetime.datetime.now().strftime('%Y-%m-%d %H:%M:%S')}\"\n",
        "\n",
        "finetuned_t5_results = run_on_dataset(\n",
        "    client=client,\n",
        "    project_name=project_name,\n",
        "    dataset_name=NAME_DATASET,\n",
        "    llm_or_chain_factory=summarizer_finetuned,\n",
        "    evaluation=evaluation_config,\n",
        ")"
      ]
    },
    {
      "cell_type": "markdown",
      "id": "953211fe-b8a4-4a2c-91e3-3c6242a2f159",
      "metadata": {
        "id": "953211fe-b8a4-4a2c-91e3-3c6242a2f159"
      },
      "source": [
        "<img src=\"https://github.com/peremartra/Large-Language-Model-Notebooks-Course/blob/main/img/Martra_Figure_4_2SDL_Tests.jpg?raw=true\">\n",
        "\n",
        "In the image below you can see the comparision between two tests.\n",
        "<img src=\"https://github.com/peremartra/Large-Language-Model-Notebooks-Course/blob/main/img/Martra_Figure_4_2SDL_CompareTestst.jpg?raw=true\">"
      ]
    },
    {
      "cell_type": "markdown",
      "id": "Xn6jeX7u_4MR",
      "metadata": {
        "id": "Xn6jeX7u_4MR"
      },
      "source": [
        "Well, since it has been so straightforward, why don't we try to make the comparison with an OpenAI model?"
      ]
    },
    {
      "cell_type": "code",
      "source": [
        "!pip install -q openai langchain"
      ],
      "metadata": {
        "id": "i4FeiZ_b3dJy"
      },
      "id": "i4FeiZ_b3dJy",
      "execution_count": 31,
      "outputs": []
    },
    {
      "cell_type": "code",
      "execution_count": 33,
      "id": "84a97ac1-623e-4d28-a78b-c807af89c918",
      "metadata": {
        "id": "84a97ac1-623e-4d28-a78b-c807af89c918",
        "colab": {
          "base_uri": "https://localhost:8080/"
        },
        "outputId": "bb42a19a-24ca-46d2-efd5-5b68f54d5592"
      },
      "outputs": [
        {
          "output_type": "stream",
          "name": "stderr",
          "text": [
            "<ipython-input-33-cd30cf19bbbe>:2: LangChainDeprecationWarning: The class `OpenAI` was deprecated in LangChain 0.0.10 and will be removed in 1.0. An updated version of the class exists in the :class:`~langchain-openai package and should be used instead. To use it run `pip install -U :class:`~langchain-openai` and import as `from :class:`~langchain_openai import OpenAI``.\n",
            "  open_aillm=OpenAI(temperature=0.0)\n"
          ]
        }
      ],
      "source": [
        "from langchain.llms import OpenAI\n",
        "open_aillm=OpenAI(temperature=0.0)"
      ]
    },
    {
      "cell_type": "code",
      "execution_count": 34,
      "id": "suc0G-9W94Qj",
      "metadata": {
        "colab": {
          "base_uri": "https://localhost:8080/"
        },
        "id": "suc0G-9W94Qj",
        "outputId": "664532bb-ca13-47e6-f541-7815a36d24f8",
        "tags": []
      },
      "outputs": [
        {
          "output_type": "stream",
          "name": "stdout",
          "text": [
            "View the evaluation results for project 'OpenAI 2025-04-22 18:59:23' at:\n",
            "https://smith.langchain.com/o/fbfc24ed-eae6-4741-87aa-6896a453212f/datasets/2c0250e4-4046-4c6b-a7f7-4af4c7f39399/compare?selectedSessions=59674ebc-5860-445d-8ef1-143d746cf208\n",
            "\n",
            "View all tests for Dataset Summarize_dataset_2025-04-22 18:51:59 at:\n",
            "https://smith.langchain.com/o/fbfc24ed-eae6-4741-87aa-6896a453212f/datasets/2c0250e4-4046-4c6b-a7f7-4af4c7f39399\n",
            "[------------------------------------------------->] 10/10"
          ]
        }
      ],
      "source": [
        "project_name = f\"OpenAI {datetime.datetime.now().strftime('%Y-%m-%d %H:%M:%S')}\"\n",
        "\n",
        "finetuned_t5_results = run_on_dataset(\n",
        "    client=client,\n",
        "    project_name=project_name,\n",
        "    dataset_name=NAME_DATASET,\n",
        "    llm_or_chain_factory=open_aillm,\n",
        "    evaluation=evaluation_config,\n",
        ")"
      ]
    },
    {
      "cell_type": "markdown",
      "id": "B15V_-3pBvOK",
      "metadata": {
        "id": "B15V_-3pBvOK"
      },
      "source": [
        "<img src=\"https://github.com/peremartra/Large-Language-Model-Notebooks-Course/blob/main/img/Martra_Figure_4_2SDL_CompareOpenAI_HF.jpg?raw=true\">"
      ]
    },
    {
      "cell_type": "markdown",
      "id": "fUeZWvLMCOBw",
      "metadata": {
        "id": "fUeZWvLMCOBw"
      },
      "source": [
        "The experiment with the OpenAI model has yielded the best results. But, be aware! As we can see, there is a cost involved since we are using an API, and it needs to be paid for.\n",
        "\n",
        "Another crucial piece of information is that we can view performance data for the models. This data could also be useful for minimally evaluating our inference server."
      ]
    }
  ],
  "metadata": {
    "colab": {
      "provenance": [],
      "machine_shape": "hm",
      "gpuType": "L4"
    },
    "kernelspec": {
      "display_name": "Python 3",
      "name": "python3"
    },
    "language_info": {
      "codemirror_mode": {
        "name": "ipython",
        "version": 3
      },
      "file_extension": ".py",
      "mimetype": "text/x-python",
      "name": "python",
      "nbconvert_exporter": "python",
      "pygments_lexer": "ipython3",
      "version": "3.11.8"
    },
    "widgets": {
      "application/vnd.jupyter.widget-state+json": {
        "6d118e6cc25446b98d7ddf6d29a91db9": {
          "model_module": "@jupyter-widgets/controls",
          "model_name": "HBoxModel",
          "model_module_version": "1.5.0",
          "state": {
            "_dom_classes": [],
            "_model_module": "@jupyter-widgets/controls",
            "_model_module_version": "1.5.0",
            "_model_name": "HBoxModel",
            "_view_count": null,
            "_view_module": "@jupyter-widgets/controls",
            "_view_module_version": "1.5.0",
            "_view_name": "HBoxView",
            "box_style": "",
            "children": [
              "IPY_MODEL_0d13e64db94a47e2928159497944b3a1",
              "IPY_MODEL_854e431662c34ee6aed9988292200756",
              "IPY_MODEL_c8fb1ec07c254be187e8357366d7c6c4"
            ],
            "layout": "IPY_MODEL_1b8a45198e9f4fbdb25439dd89525a60"
          }
        },
        "0d13e64db94a47e2928159497944b3a1": {
          "model_module": "@jupyter-widgets/controls",
          "model_name": "HTMLModel",
          "model_module_version": "1.5.0",
          "state": {
            "_dom_classes": [],
            "_model_module": "@jupyter-widgets/controls",
            "_model_module_version": "1.5.0",
            "_model_name": "HTMLModel",
            "_view_count": null,
            "_view_module": "@jupyter-widgets/controls",
            "_view_module_version": "1.5.0",
            "_view_name": "HTMLView",
            "description": "",
            "description_tooltip": null,
            "layout": "IPY_MODEL_bf2d8b1ebfb14a3b971714729c24563b",
            "placeholder": "​",
            "style": "IPY_MODEL_6f049864a65e45689333843d939ba1f4",
            "value": "README.md: 100%"
          }
        },
        "854e431662c34ee6aed9988292200756": {
          "model_module": "@jupyter-widgets/controls",
          "model_name": "FloatProgressModel",
          "model_module_version": "1.5.0",
          "state": {
            "_dom_classes": [],
            "_model_module": "@jupyter-widgets/controls",
            "_model_module_version": "1.5.0",
            "_model_name": "FloatProgressModel",
            "_view_count": null,
            "_view_module": "@jupyter-widgets/controls",
            "_view_module_version": "1.5.0",
            "_view_name": "ProgressView",
            "bar_style": "success",
            "description": "",
            "description_tooltip": null,
            "layout": "IPY_MODEL_2e3f336ef49b4906a2e5c332ae68870e",
            "max": 13853,
            "min": 0,
            "orientation": "horizontal",
            "style": "IPY_MODEL_2047ac6c93a8459f9722d8f206c75539",
            "value": 13853
          }
        },
        "c8fb1ec07c254be187e8357366d7c6c4": {
          "model_module": "@jupyter-widgets/controls",
          "model_name": "HTMLModel",
          "model_module_version": "1.5.0",
          "state": {
            "_dom_classes": [],
            "_model_module": "@jupyter-widgets/controls",
            "_model_module_version": "1.5.0",
            "_model_name": "HTMLModel",
            "_view_count": null,
            "_view_module": "@jupyter-widgets/controls",
            "_view_module_version": "1.5.0",
            "_view_name": "HTMLView",
            "description": "",
            "description_tooltip": null,
            "layout": "IPY_MODEL_85977e96def44a9eb6b124f88fc3d686",
            "placeholder": "​",
            "style": "IPY_MODEL_b84827f068834e28829cd2ea32c0d8d8",
            "value": " 13.9k/13.9k [00:00&lt;00:00, 1.67MB/s]"
          }
        },
        "1b8a45198e9f4fbdb25439dd89525a60": {
          "model_module": "@jupyter-widgets/base",
          "model_name": "LayoutModel",
          "model_module_version": "1.2.0",
          "state": {
            "_model_module": "@jupyter-widgets/base",
            "_model_module_version": "1.2.0",
            "_model_name": "LayoutModel",
            "_view_count": null,
            "_view_module": "@jupyter-widgets/base",
            "_view_module_version": "1.2.0",
            "_view_name": "LayoutView",
            "align_content": null,
            "align_items": null,
            "align_self": null,
            "border": null,
            "bottom": null,
            "display": null,
            "flex": null,
            "flex_flow": null,
            "grid_area": null,
            "grid_auto_columns": null,
            "grid_auto_flow": null,
            "grid_auto_rows": null,
            "grid_column": null,
            "grid_gap": null,
            "grid_row": null,
            "grid_template_areas": null,
            "grid_template_columns": null,
            "grid_template_rows": null,
            "height": null,
            "justify_content": null,
            "justify_items": null,
            "left": null,
            "margin": null,
            "max_height": null,
            "max_width": null,
            "min_height": null,
            "min_width": null,
            "object_fit": null,
            "object_position": null,
            "order": null,
            "overflow": null,
            "overflow_x": null,
            "overflow_y": null,
            "padding": null,
            "right": null,
            "top": null,
            "visibility": null,
            "width": null
          }
        },
        "bf2d8b1ebfb14a3b971714729c24563b": {
          "model_module": "@jupyter-widgets/base",
          "model_name": "LayoutModel",
          "model_module_version": "1.2.0",
          "state": {
            "_model_module": "@jupyter-widgets/base",
            "_model_module_version": "1.2.0",
            "_model_name": "LayoutModel",
            "_view_count": null,
            "_view_module": "@jupyter-widgets/base",
            "_view_module_version": "1.2.0",
            "_view_name": "LayoutView",
            "align_content": null,
            "align_items": null,
            "align_self": null,
            "border": null,
            "bottom": null,
            "display": null,
            "flex": null,
            "flex_flow": null,
            "grid_area": null,
            "grid_auto_columns": null,
            "grid_auto_flow": null,
            "grid_auto_rows": null,
            "grid_column": null,
            "grid_gap": null,
            "grid_row": null,
            "grid_template_areas": null,
            "grid_template_columns": null,
            "grid_template_rows": null,
            "height": null,
            "justify_content": null,
            "justify_items": null,
            "left": null,
            "margin": null,
            "max_height": null,
            "max_width": null,
            "min_height": null,
            "min_width": null,
            "object_fit": null,
            "object_position": null,
            "order": null,
            "overflow": null,
            "overflow_x": null,
            "overflow_y": null,
            "padding": null,
            "right": null,
            "top": null,
            "visibility": null,
            "width": null
          }
        },
        "6f049864a65e45689333843d939ba1f4": {
          "model_module": "@jupyter-widgets/controls",
          "model_name": "DescriptionStyleModel",
          "model_module_version": "1.5.0",
          "state": {
            "_model_module": "@jupyter-widgets/controls",
            "_model_module_version": "1.5.0",
            "_model_name": "DescriptionStyleModel",
            "_view_count": null,
            "_view_module": "@jupyter-widgets/base",
            "_view_module_version": "1.2.0",
            "_view_name": "StyleView",
            "description_width": ""
          }
        },
        "2e3f336ef49b4906a2e5c332ae68870e": {
          "model_module": "@jupyter-widgets/base",
          "model_name": "LayoutModel",
          "model_module_version": "1.2.0",
          "state": {
            "_model_module": "@jupyter-widgets/base",
            "_model_module_version": "1.2.0",
            "_model_name": "LayoutModel",
            "_view_count": null,
            "_view_module": "@jupyter-widgets/base",
            "_view_module_version": "1.2.0",
            "_view_name": "LayoutView",
            "align_content": null,
            "align_items": null,
            "align_self": null,
            "border": null,
            "bottom": null,
            "display": null,
            "flex": null,
            "flex_flow": null,
            "grid_area": null,
            "grid_auto_columns": null,
            "grid_auto_flow": null,
            "grid_auto_rows": null,
            "grid_column": null,
            "grid_gap": null,
            "grid_row": null,
            "grid_template_areas": null,
            "grid_template_columns": null,
            "grid_template_rows": null,
            "height": null,
            "justify_content": null,
            "justify_items": null,
            "left": null,
            "margin": null,
            "max_height": null,
            "max_width": null,
            "min_height": null,
            "min_width": null,
            "object_fit": null,
            "object_position": null,
            "order": null,
            "overflow": null,
            "overflow_x": null,
            "overflow_y": null,
            "padding": null,
            "right": null,
            "top": null,
            "visibility": null,
            "width": null
          }
        },
        "2047ac6c93a8459f9722d8f206c75539": {
          "model_module": "@jupyter-widgets/controls",
          "model_name": "ProgressStyleModel",
          "model_module_version": "1.5.0",
          "state": {
            "_model_module": "@jupyter-widgets/controls",
            "_model_module_version": "1.5.0",
            "_model_name": "ProgressStyleModel",
            "_view_count": null,
            "_view_module": "@jupyter-widgets/base",
            "_view_module_version": "1.2.0",
            "_view_name": "StyleView",
            "bar_color": null,
            "description_width": ""
          }
        },
        "85977e96def44a9eb6b124f88fc3d686": {
          "model_module": "@jupyter-widgets/base",
          "model_name": "LayoutModel",
          "model_module_version": "1.2.0",
          "state": {
            "_model_module": "@jupyter-widgets/base",
            "_model_module_version": "1.2.0",
            "_model_name": "LayoutModel",
            "_view_count": null,
            "_view_module": "@jupyter-widgets/base",
            "_view_module_version": "1.2.0",
            "_view_name": "LayoutView",
            "align_content": null,
            "align_items": null,
            "align_self": null,
            "border": null,
            "bottom": null,
            "display": null,
            "flex": null,
            "flex_flow": null,
            "grid_area": null,
            "grid_auto_columns": null,
            "grid_auto_flow": null,
            "grid_auto_rows": null,
            "grid_column": null,
            "grid_gap": null,
            "grid_row": null,
            "grid_template_areas": null,
            "grid_template_columns": null,
            "grid_template_rows": null,
            "height": null,
            "justify_content": null,
            "justify_items": null,
            "left": null,
            "margin": null,
            "max_height": null,
            "max_width": null,
            "min_height": null,
            "min_width": null,
            "object_fit": null,
            "object_position": null,
            "order": null,
            "overflow": null,
            "overflow_x": null,
            "overflow_y": null,
            "padding": null,
            "right": null,
            "top": null,
            "visibility": null,
            "width": null
          }
        },
        "b84827f068834e28829cd2ea32c0d8d8": {
          "model_module": "@jupyter-widgets/controls",
          "model_name": "DescriptionStyleModel",
          "model_module_version": "1.5.0",
          "state": {
            "_model_module": "@jupyter-widgets/controls",
            "_model_module_version": "1.5.0",
            "_model_name": "DescriptionStyleModel",
            "_view_count": null,
            "_view_module": "@jupyter-widgets/base",
            "_view_module_version": "1.2.0",
            "_view_name": "StyleView",
            "description_width": ""
          }
        },
        "9595ad2dab464af0b98a8dba08cdd05e": {
          "model_module": "@jupyter-widgets/controls",
          "model_name": "HBoxModel",
          "model_module_version": "1.5.0",
          "state": {
            "_dom_classes": [],
            "_model_module": "@jupyter-widgets/controls",
            "_model_module_version": "1.5.0",
            "_model_name": "HBoxModel",
            "_view_count": null,
            "_view_module": "@jupyter-widgets/controls",
            "_view_module_version": "1.5.0",
            "_view_name": "HBoxView",
            "box_style": "",
            "children": [
              "IPY_MODEL_68593a06e41a40d1b0ef9135d75fb7c3",
              "IPY_MODEL_dfadaf515e784571a354ed7efb919b60",
              "IPY_MODEL_fb6f636586864904ab12ecb09eb8cec9"
            ],
            "layout": "IPY_MODEL_cce3d4f094e4418b8b6d476ad22d53ca"
          }
        },
        "68593a06e41a40d1b0ef9135d75fb7c3": {
          "model_module": "@jupyter-widgets/controls",
          "model_name": "HTMLModel",
          "model_module_version": "1.5.0",
          "state": {
            "_dom_classes": [],
            "_model_module": "@jupyter-widgets/controls",
            "_model_module_version": "1.5.0",
            "_model_name": "HTMLModel",
            "_view_count": null,
            "_view_module": "@jupyter-widgets/controls",
            "_view_module_version": "1.5.0",
            "_view_name": "HTMLView",
            "description": "",
            "description_tooltip": null,
            "layout": "IPY_MODEL_0986f76d4ffb4c98bfaabf460c98c648",
            "placeholder": "​",
            "style": "IPY_MODEL_8cc833d27ec34f778ea7b8611df9014f",
            "value": "cnn_dailymail.py: 100%"
          }
        },
        "dfadaf515e784571a354ed7efb919b60": {
          "model_module": "@jupyter-widgets/controls",
          "model_name": "FloatProgressModel",
          "model_module_version": "1.5.0",
          "state": {
            "_dom_classes": [],
            "_model_module": "@jupyter-widgets/controls",
            "_model_module_version": "1.5.0",
            "_model_name": "FloatProgressModel",
            "_view_count": null,
            "_view_module": "@jupyter-widgets/controls",
            "_view_module_version": "1.5.0",
            "_view_name": "ProgressView",
            "bar_style": "success",
            "description": "",
            "description_tooltip": null,
            "layout": "IPY_MODEL_d3c2c91b5e44451581a1bc67ace129de",
            "max": 9266,
            "min": 0,
            "orientation": "horizontal",
            "style": "IPY_MODEL_0d0f5348fad8461883c5c2b6d9c13faa",
            "value": 9266
          }
        },
        "fb6f636586864904ab12ecb09eb8cec9": {
          "model_module": "@jupyter-widgets/controls",
          "model_name": "HTMLModel",
          "model_module_version": "1.5.0",
          "state": {
            "_dom_classes": [],
            "_model_module": "@jupyter-widgets/controls",
            "_model_module_version": "1.5.0",
            "_model_name": "HTMLModel",
            "_view_count": null,
            "_view_module": "@jupyter-widgets/controls",
            "_view_module_version": "1.5.0",
            "_view_name": "HTMLView",
            "description": "",
            "description_tooltip": null,
            "layout": "IPY_MODEL_b7f426bcf52845b0b6af72787849710e",
            "placeholder": "​",
            "style": "IPY_MODEL_7ac050b553864a0ca93211f1b5278ba2",
            "value": " 9.27k/9.27k [00:00&lt;00:00, 1.20MB/s]"
          }
        },
        "cce3d4f094e4418b8b6d476ad22d53ca": {
          "model_module": "@jupyter-widgets/base",
          "model_name": "LayoutModel",
          "model_module_version": "1.2.0",
          "state": {
            "_model_module": "@jupyter-widgets/base",
            "_model_module_version": "1.2.0",
            "_model_name": "LayoutModel",
            "_view_count": null,
            "_view_module": "@jupyter-widgets/base",
            "_view_module_version": "1.2.0",
            "_view_name": "LayoutView",
            "align_content": null,
            "align_items": null,
            "align_self": null,
            "border": null,
            "bottom": null,
            "display": null,
            "flex": null,
            "flex_flow": null,
            "grid_area": null,
            "grid_auto_columns": null,
            "grid_auto_flow": null,
            "grid_auto_rows": null,
            "grid_column": null,
            "grid_gap": null,
            "grid_row": null,
            "grid_template_areas": null,
            "grid_template_columns": null,
            "grid_template_rows": null,
            "height": null,
            "justify_content": null,
            "justify_items": null,
            "left": null,
            "margin": null,
            "max_height": null,
            "max_width": null,
            "min_height": null,
            "min_width": null,
            "object_fit": null,
            "object_position": null,
            "order": null,
            "overflow": null,
            "overflow_x": null,
            "overflow_y": null,
            "padding": null,
            "right": null,
            "top": null,
            "visibility": null,
            "width": null
          }
        },
        "0986f76d4ffb4c98bfaabf460c98c648": {
          "model_module": "@jupyter-widgets/base",
          "model_name": "LayoutModel",
          "model_module_version": "1.2.0",
          "state": {
            "_model_module": "@jupyter-widgets/base",
            "_model_module_version": "1.2.0",
            "_model_name": "LayoutModel",
            "_view_count": null,
            "_view_module": "@jupyter-widgets/base",
            "_view_module_version": "1.2.0",
            "_view_name": "LayoutView",
            "align_content": null,
            "align_items": null,
            "align_self": null,
            "border": null,
            "bottom": null,
            "display": null,
            "flex": null,
            "flex_flow": null,
            "grid_area": null,
            "grid_auto_columns": null,
            "grid_auto_flow": null,
            "grid_auto_rows": null,
            "grid_column": null,
            "grid_gap": null,
            "grid_row": null,
            "grid_template_areas": null,
            "grid_template_columns": null,
            "grid_template_rows": null,
            "height": null,
            "justify_content": null,
            "justify_items": null,
            "left": null,
            "margin": null,
            "max_height": null,
            "max_width": null,
            "min_height": null,
            "min_width": null,
            "object_fit": null,
            "object_position": null,
            "order": null,
            "overflow": null,
            "overflow_x": null,
            "overflow_y": null,
            "padding": null,
            "right": null,
            "top": null,
            "visibility": null,
            "width": null
          }
        },
        "8cc833d27ec34f778ea7b8611df9014f": {
          "model_module": "@jupyter-widgets/controls",
          "model_name": "DescriptionStyleModel",
          "model_module_version": "1.5.0",
          "state": {
            "_model_module": "@jupyter-widgets/controls",
            "_model_module_version": "1.5.0",
            "_model_name": "DescriptionStyleModel",
            "_view_count": null,
            "_view_module": "@jupyter-widgets/base",
            "_view_module_version": "1.2.0",
            "_view_name": "StyleView",
            "description_width": ""
          }
        },
        "d3c2c91b5e44451581a1bc67ace129de": {
          "model_module": "@jupyter-widgets/base",
          "model_name": "LayoutModel",
          "model_module_version": "1.2.0",
          "state": {
            "_model_module": "@jupyter-widgets/base",
            "_model_module_version": "1.2.0",
            "_model_name": "LayoutModel",
            "_view_count": null,
            "_view_module": "@jupyter-widgets/base",
            "_view_module_version": "1.2.0",
            "_view_name": "LayoutView",
            "align_content": null,
            "align_items": null,
            "align_self": null,
            "border": null,
            "bottom": null,
            "display": null,
            "flex": null,
            "flex_flow": null,
            "grid_area": null,
            "grid_auto_columns": null,
            "grid_auto_flow": null,
            "grid_auto_rows": null,
            "grid_column": null,
            "grid_gap": null,
            "grid_row": null,
            "grid_template_areas": null,
            "grid_template_columns": null,
            "grid_template_rows": null,
            "height": null,
            "justify_content": null,
            "justify_items": null,
            "left": null,
            "margin": null,
            "max_height": null,
            "max_width": null,
            "min_height": null,
            "min_width": null,
            "object_fit": null,
            "object_position": null,
            "order": null,
            "overflow": null,
            "overflow_x": null,
            "overflow_y": null,
            "padding": null,
            "right": null,
            "top": null,
            "visibility": null,
            "width": null
          }
        },
        "0d0f5348fad8461883c5c2b6d9c13faa": {
          "model_module": "@jupyter-widgets/controls",
          "model_name": "ProgressStyleModel",
          "model_module_version": "1.5.0",
          "state": {
            "_model_module": "@jupyter-widgets/controls",
            "_model_module_version": "1.5.0",
            "_model_name": "ProgressStyleModel",
            "_view_count": null,
            "_view_module": "@jupyter-widgets/base",
            "_view_module_version": "1.2.0",
            "_view_name": "StyleView",
            "bar_color": null,
            "description_width": ""
          }
        },
        "b7f426bcf52845b0b6af72787849710e": {
          "model_module": "@jupyter-widgets/base",
          "model_name": "LayoutModel",
          "model_module_version": "1.2.0",
          "state": {
            "_model_module": "@jupyter-widgets/base",
            "_model_module_version": "1.2.0",
            "_model_name": "LayoutModel",
            "_view_count": null,
            "_view_module": "@jupyter-widgets/base",
            "_view_module_version": "1.2.0",
            "_view_name": "LayoutView",
            "align_content": null,
            "align_items": null,
            "align_self": null,
            "border": null,
            "bottom": null,
            "display": null,
            "flex": null,
            "flex_flow": null,
            "grid_area": null,
            "grid_auto_columns": null,
            "grid_auto_flow": null,
            "grid_auto_rows": null,
            "grid_column": null,
            "grid_gap": null,
            "grid_row": null,
            "grid_template_areas": null,
            "grid_template_columns": null,
            "grid_template_rows": null,
            "height": null,
            "justify_content": null,
            "justify_items": null,
            "left": null,
            "margin": null,
            "max_height": null,
            "max_width": null,
            "min_height": null,
            "min_width": null,
            "object_fit": null,
            "object_position": null,
            "order": null,
            "overflow": null,
            "overflow_x": null,
            "overflow_y": null,
            "padding": null,
            "right": null,
            "top": null,
            "visibility": null,
            "width": null
          }
        },
        "7ac050b553864a0ca93211f1b5278ba2": {
          "model_module": "@jupyter-widgets/controls",
          "model_name": "DescriptionStyleModel",
          "model_module_version": "1.5.0",
          "state": {
            "_model_module": "@jupyter-widgets/controls",
            "_model_module_version": "1.5.0",
            "_model_name": "DescriptionStyleModel",
            "_view_count": null,
            "_view_module": "@jupyter-widgets/base",
            "_view_module_version": "1.2.0",
            "_view_name": "StyleView",
            "description_width": ""
          }
        },
        "3f586fd609b74a2b909e0bc52b2e5eb7": {
          "model_module": "@jupyter-widgets/controls",
          "model_name": "HBoxModel",
          "model_module_version": "1.5.0",
          "state": {
            "_dom_classes": [],
            "_model_module": "@jupyter-widgets/controls",
            "_model_module_version": "1.5.0",
            "_model_name": "HBoxModel",
            "_view_count": null,
            "_view_module": "@jupyter-widgets/controls",
            "_view_module_version": "1.5.0",
            "_view_name": "HBoxView",
            "box_style": "",
            "children": [
              "IPY_MODEL_775dd92da3f34417b71bade6973c737b",
              "IPY_MODEL_c972ce6f97004707b0b12e79005c9076",
              "IPY_MODEL_138798971e75449cafa55a095308c71a"
            ],
            "layout": "IPY_MODEL_37832c4059ba4e61be7247ec6e0f97ee"
          }
        },
        "775dd92da3f34417b71bade6973c737b": {
          "model_module": "@jupyter-widgets/controls",
          "model_name": "HTMLModel",
          "model_module_version": "1.5.0",
          "state": {
            "_dom_classes": [],
            "_model_module": "@jupyter-widgets/controls",
            "_model_module_version": "1.5.0",
            "_model_name": "HTMLModel",
            "_view_count": null,
            "_view_module": "@jupyter-widgets/controls",
            "_view_module_version": "1.5.0",
            "_view_name": "HTMLView",
            "description": "",
            "description_tooltip": null,
            "layout": "IPY_MODEL_3e018caab3a141eea063c649dde9bbf0",
            "placeholder": "​",
            "style": "IPY_MODEL_3cb78537cae648da88395eaeb673102d",
            "value": "cnn_stories.tgz: 100%"
          }
        },
        "c972ce6f97004707b0b12e79005c9076": {
          "model_module": "@jupyter-widgets/controls",
          "model_name": "FloatProgressModel",
          "model_module_version": "1.5.0",
          "state": {
            "_dom_classes": [],
            "_model_module": "@jupyter-widgets/controls",
            "_model_module_version": "1.5.0",
            "_model_name": "FloatProgressModel",
            "_view_count": null,
            "_view_module": "@jupyter-widgets/controls",
            "_view_module_version": "1.5.0",
            "_view_name": "ProgressView",
            "bar_style": "success",
            "description": "",
            "description_tooltip": null,
            "layout": "IPY_MODEL_258228a57d6248aca8f27b41e5c139e2",
            "max": 158577824,
            "min": 0,
            "orientation": "horizontal",
            "style": "IPY_MODEL_5355c120419a4cf59b542303ca3bbfc7",
            "value": 158577824
          }
        },
        "138798971e75449cafa55a095308c71a": {
          "model_module": "@jupyter-widgets/controls",
          "model_name": "HTMLModel",
          "model_module_version": "1.5.0",
          "state": {
            "_dom_classes": [],
            "_model_module": "@jupyter-widgets/controls",
            "_model_module_version": "1.5.0",
            "_model_name": "HTMLModel",
            "_view_count": null,
            "_view_module": "@jupyter-widgets/controls",
            "_view_module_version": "1.5.0",
            "_view_name": "HTMLView",
            "description": "",
            "description_tooltip": null,
            "layout": "IPY_MODEL_f4f31c389da64d91acceff1fd95005dc",
            "placeholder": "​",
            "style": "IPY_MODEL_7274943873e941569dac37f8fa11fbe8",
            "value": " 159M/159M [00:00&lt;00:00, 259MB/s]"
          }
        },
        "37832c4059ba4e61be7247ec6e0f97ee": {
          "model_module": "@jupyter-widgets/base",
          "model_name": "LayoutModel",
          "model_module_version": "1.2.0",
          "state": {
            "_model_module": "@jupyter-widgets/base",
            "_model_module_version": "1.2.0",
            "_model_name": "LayoutModel",
            "_view_count": null,
            "_view_module": "@jupyter-widgets/base",
            "_view_module_version": "1.2.0",
            "_view_name": "LayoutView",
            "align_content": null,
            "align_items": null,
            "align_self": null,
            "border": null,
            "bottom": null,
            "display": null,
            "flex": null,
            "flex_flow": null,
            "grid_area": null,
            "grid_auto_columns": null,
            "grid_auto_flow": null,
            "grid_auto_rows": null,
            "grid_column": null,
            "grid_gap": null,
            "grid_row": null,
            "grid_template_areas": null,
            "grid_template_columns": null,
            "grid_template_rows": null,
            "height": null,
            "justify_content": null,
            "justify_items": null,
            "left": null,
            "margin": null,
            "max_height": null,
            "max_width": null,
            "min_height": null,
            "min_width": null,
            "object_fit": null,
            "object_position": null,
            "order": null,
            "overflow": null,
            "overflow_x": null,
            "overflow_y": null,
            "padding": null,
            "right": null,
            "top": null,
            "visibility": null,
            "width": null
          }
        },
        "3e018caab3a141eea063c649dde9bbf0": {
          "model_module": "@jupyter-widgets/base",
          "model_name": "LayoutModel",
          "model_module_version": "1.2.0",
          "state": {
            "_model_module": "@jupyter-widgets/base",
            "_model_module_version": "1.2.0",
            "_model_name": "LayoutModel",
            "_view_count": null,
            "_view_module": "@jupyter-widgets/base",
            "_view_module_version": "1.2.0",
            "_view_name": "LayoutView",
            "align_content": null,
            "align_items": null,
            "align_self": null,
            "border": null,
            "bottom": null,
            "display": null,
            "flex": null,
            "flex_flow": null,
            "grid_area": null,
            "grid_auto_columns": null,
            "grid_auto_flow": null,
            "grid_auto_rows": null,
            "grid_column": null,
            "grid_gap": null,
            "grid_row": null,
            "grid_template_areas": null,
            "grid_template_columns": null,
            "grid_template_rows": null,
            "height": null,
            "justify_content": null,
            "justify_items": null,
            "left": null,
            "margin": null,
            "max_height": null,
            "max_width": null,
            "min_height": null,
            "min_width": null,
            "object_fit": null,
            "object_position": null,
            "order": null,
            "overflow": null,
            "overflow_x": null,
            "overflow_y": null,
            "padding": null,
            "right": null,
            "top": null,
            "visibility": null,
            "width": null
          }
        },
        "3cb78537cae648da88395eaeb673102d": {
          "model_module": "@jupyter-widgets/controls",
          "model_name": "DescriptionStyleModel",
          "model_module_version": "1.5.0",
          "state": {
            "_model_module": "@jupyter-widgets/controls",
            "_model_module_version": "1.5.0",
            "_model_name": "DescriptionStyleModel",
            "_view_count": null,
            "_view_module": "@jupyter-widgets/base",
            "_view_module_version": "1.2.0",
            "_view_name": "StyleView",
            "description_width": ""
          }
        },
        "258228a57d6248aca8f27b41e5c139e2": {
          "model_module": "@jupyter-widgets/base",
          "model_name": "LayoutModel",
          "model_module_version": "1.2.0",
          "state": {
            "_model_module": "@jupyter-widgets/base",
            "_model_module_version": "1.2.0",
            "_model_name": "LayoutModel",
            "_view_count": null,
            "_view_module": "@jupyter-widgets/base",
            "_view_module_version": "1.2.0",
            "_view_name": "LayoutView",
            "align_content": null,
            "align_items": null,
            "align_self": null,
            "border": null,
            "bottom": null,
            "display": null,
            "flex": null,
            "flex_flow": null,
            "grid_area": null,
            "grid_auto_columns": null,
            "grid_auto_flow": null,
            "grid_auto_rows": null,
            "grid_column": null,
            "grid_gap": null,
            "grid_row": null,
            "grid_template_areas": null,
            "grid_template_columns": null,
            "grid_template_rows": null,
            "height": null,
            "justify_content": null,
            "justify_items": null,
            "left": null,
            "margin": null,
            "max_height": null,
            "max_width": null,
            "min_height": null,
            "min_width": null,
            "object_fit": null,
            "object_position": null,
            "order": null,
            "overflow": null,
            "overflow_x": null,
            "overflow_y": null,
            "padding": null,
            "right": null,
            "top": null,
            "visibility": null,
            "width": null
          }
        },
        "5355c120419a4cf59b542303ca3bbfc7": {
          "model_module": "@jupyter-widgets/controls",
          "model_name": "ProgressStyleModel",
          "model_module_version": "1.5.0",
          "state": {
            "_model_module": "@jupyter-widgets/controls",
            "_model_module_version": "1.5.0",
            "_model_name": "ProgressStyleModel",
            "_view_count": null,
            "_view_module": "@jupyter-widgets/base",
            "_view_module_version": "1.2.0",
            "_view_name": "StyleView",
            "bar_color": null,
            "description_width": ""
          }
        },
        "f4f31c389da64d91acceff1fd95005dc": {
          "model_module": "@jupyter-widgets/base",
          "model_name": "LayoutModel",
          "model_module_version": "1.2.0",
          "state": {
            "_model_module": "@jupyter-widgets/base",
            "_model_module_version": "1.2.0",
            "_model_name": "LayoutModel",
            "_view_count": null,
            "_view_module": "@jupyter-widgets/base",
            "_view_module_version": "1.2.0",
            "_view_name": "LayoutView",
            "align_content": null,
            "align_items": null,
            "align_self": null,
            "border": null,
            "bottom": null,
            "display": null,
            "flex": null,
            "flex_flow": null,
            "grid_area": null,
            "grid_auto_columns": null,
            "grid_auto_flow": null,
            "grid_auto_rows": null,
            "grid_column": null,
            "grid_gap": null,
            "grid_row": null,
            "grid_template_areas": null,
            "grid_template_columns": null,
            "grid_template_rows": null,
            "height": null,
            "justify_content": null,
            "justify_items": null,
            "left": null,
            "margin": null,
            "max_height": null,
            "max_width": null,
            "min_height": null,
            "min_width": null,
            "object_fit": null,
            "object_position": null,
            "order": null,
            "overflow": null,
            "overflow_x": null,
            "overflow_y": null,
            "padding": null,
            "right": null,
            "top": null,
            "visibility": null,
            "width": null
          }
        },
        "7274943873e941569dac37f8fa11fbe8": {
          "model_module": "@jupyter-widgets/controls",
          "model_name": "DescriptionStyleModel",
          "model_module_version": "1.5.0",
          "state": {
            "_model_module": "@jupyter-widgets/controls",
            "_model_module_version": "1.5.0",
            "_model_name": "DescriptionStyleModel",
            "_view_count": null,
            "_view_module": "@jupyter-widgets/base",
            "_view_module_version": "1.2.0",
            "_view_name": "StyleView",
            "description_width": ""
          }
        },
        "e2abcca13c89404bbc2f451ae4feab97": {
          "model_module": "@jupyter-widgets/controls",
          "model_name": "HBoxModel",
          "model_module_version": "1.5.0",
          "state": {
            "_dom_classes": [],
            "_model_module": "@jupyter-widgets/controls",
            "_model_module_version": "1.5.0",
            "_model_name": "HBoxModel",
            "_view_count": null,
            "_view_module": "@jupyter-widgets/controls",
            "_view_module_version": "1.5.0",
            "_view_name": "HBoxView",
            "box_style": "",
            "children": [
              "IPY_MODEL_12002400493e44329ec608ab15406e38",
              "IPY_MODEL_9b7764fd755a4fc9854eacb3304104ad",
              "IPY_MODEL_e48509a15f5f40228be07fcad12049d4"
            ],
            "layout": "IPY_MODEL_e1f01cd5eef34142910603d6ff7bc220"
          }
        },
        "12002400493e44329ec608ab15406e38": {
          "model_module": "@jupyter-widgets/controls",
          "model_name": "HTMLModel",
          "model_module_version": "1.5.0",
          "state": {
            "_dom_classes": [],
            "_model_module": "@jupyter-widgets/controls",
            "_model_module_version": "1.5.0",
            "_model_name": "HTMLModel",
            "_view_count": null,
            "_view_module": "@jupyter-widgets/controls",
            "_view_module_version": "1.5.0",
            "_view_name": "HTMLView",
            "description": "",
            "description_tooltip": null,
            "layout": "IPY_MODEL_7ffb746faeda4cacb95eb1035da440a4",
            "placeholder": "​",
            "style": "IPY_MODEL_19e8ec368e244535a1814b9042b7a77c",
            "value": "dailymail_stories.tgz: 100%"
          }
        },
        "9b7764fd755a4fc9854eacb3304104ad": {
          "model_module": "@jupyter-widgets/controls",
          "model_name": "FloatProgressModel",
          "model_module_version": "1.5.0",
          "state": {
            "_dom_classes": [],
            "_model_module": "@jupyter-widgets/controls",
            "_model_module_version": "1.5.0",
            "_model_name": "FloatProgressModel",
            "_view_count": null,
            "_view_module": "@jupyter-widgets/controls",
            "_view_module_version": "1.5.0",
            "_view_name": "ProgressView",
            "bar_style": "success",
            "description": "",
            "description_tooltip": null,
            "layout": "IPY_MODEL_cd113438e2e34ec28833e1bfc19355dc",
            "max": 375893739,
            "min": 0,
            "orientation": "horizontal",
            "style": "IPY_MODEL_650afeb82b004aa5912d97d29053899f",
            "value": 375893739
          }
        },
        "e48509a15f5f40228be07fcad12049d4": {
          "model_module": "@jupyter-widgets/controls",
          "model_name": "HTMLModel",
          "model_module_version": "1.5.0",
          "state": {
            "_dom_classes": [],
            "_model_module": "@jupyter-widgets/controls",
            "_model_module_version": "1.5.0",
            "_model_name": "HTMLModel",
            "_view_count": null,
            "_view_module": "@jupyter-widgets/controls",
            "_view_module_version": "1.5.0",
            "_view_name": "HTMLView",
            "description": "",
            "description_tooltip": null,
            "layout": "IPY_MODEL_3ca34067528a452fbb8536a99c4b6602",
            "placeholder": "​",
            "style": "IPY_MODEL_52ca75b56004412e99fe4a25647ecca7",
            "value": " 376M/376M [00:01&lt;00:00, 340MB/s]"
          }
        },
        "e1f01cd5eef34142910603d6ff7bc220": {
          "model_module": "@jupyter-widgets/base",
          "model_name": "LayoutModel",
          "model_module_version": "1.2.0",
          "state": {
            "_model_module": "@jupyter-widgets/base",
            "_model_module_version": "1.2.0",
            "_model_name": "LayoutModel",
            "_view_count": null,
            "_view_module": "@jupyter-widgets/base",
            "_view_module_version": "1.2.0",
            "_view_name": "LayoutView",
            "align_content": null,
            "align_items": null,
            "align_self": null,
            "border": null,
            "bottom": null,
            "display": null,
            "flex": null,
            "flex_flow": null,
            "grid_area": null,
            "grid_auto_columns": null,
            "grid_auto_flow": null,
            "grid_auto_rows": null,
            "grid_column": null,
            "grid_gap": null,
            "grid_row": null,
            "grid_template_areas": null,
            "grid_template_columns": null,
            "grid_template_rows": null,
            "height": null,
            "justify_content": null,
            "justify_items": null,
            "left": null,
            "margin": null,
            "max_height": null,
            "max_width": null,
            "min_height": null,
            "min_width": null,
            "object_fit": null,
            "object_position": null,
            "order": null,
            "overflow": null,
            "overflow_x": null,
            "overflow_y": null,
            "padding": null,
            "right": null,
            "top": null,
            "visibility": null,
            "width": null
          }
        },
        "7ffb746faeda4cacb95eb1035da440a4": {
          "model_module": "@jupyter-widgets/base",
          "model_name": "LayoutModel",
          "model_module_version": "1.2.0",
          "state": {
            "_model_module": "@jupyter-widgets/base",
            "_model_module_version": "1.2.0",
            "_model_name": "LayoutModel",
            "_view_count": null,
            "_view_module": "@jupyter-widgets/base",
            "_view_module_version": "1.2.0",
            "_view_name": "LayoutView",
            "align_content": null,
            "align_items": null,
            "align_self": null,
            "border": null,
            "bottom": null,
            "display": null,
            "flex": null,
            "flex_flow": null,
            "grid_area": null,
            "grid_auto_columns": null,
            "grid_auto_flow": null,
            "grid_auto_rows": null,
            "grid_column": null,
            "grid_gap": null,
            "grid_row": null,
            "grid_template_areas": null,
            "grid_template_columns": null,
            "grid_template_rows": null,
            "height": null,
            "justify_content": null,
            "justify_items": null,
            "left": null,
            "margin": null,
            "max_height": null,
            "max_width": null,
            "min_height": null,
            "min_width": null,
            "object_fit": null,
            "object_position": null,
            "order": null,
            "overflow": null,
            "overflow_x": null,
            "overflow_y": null,
            "padding": null,
            "right": null,
            "top": null,
            "visibility": null,
            "width": null
          }
        },
        "19e8ec368e244535a1814b9042b7a77c": {
          "model_module": "@jupyter-widgets/controls",
          "model_name": "DescriptionStyleModel",
          "model_module_version": "1.5.0",
          "state": {
            "_model_module": "@jupyter-widgets/controls",
            "_model_module_version": "1.5.0",
            "_model_name": "DescriptionStyleModel",
            "_view_count": null,
            "_view_module": "@jupyter-widgets/base",
            "_view_module_version": "1.2.0",
            "_view_name": "StyleView",
            "description_width": ""
          }
        },
        "cd113438e2e34ec28833e1bfc19355dc": {
          "model_module": "@jupyter-widgets/base",
          "model_name": "LayoutModel",
          "model_module_version": "1.2.0",
          "state": {
            "_model_module": "@jupyter-widgets/base",
            "_model_module_version": "1.2.0",
            "_model_name": "LayoutModel",
            "_view_count": null,
            "_view_module": "@jupyter-widgets/base",
            "_view_module_version": "1.2.0",
            "_view_name": "LayoutView",
            "align_content": null,
            "align_items": null,
            "align_self": null,
            "border": null,
            "bottom": null,
            "display": null,
            "flex": null,
            "flex_flow": null,
            "grid_area": null,
            "grid_auto_columns": null,
            "grid_auto_flow": null,
            "grid_auto_rows": null,
            "grid_column": null,
            "grid_gap": null,
            "grid_row": null,
            "grid_template_areas": null,
            "grid_template_columns": null,
            "grid_template_rows": null,
            "height": null,
            "justify_content": null,
            "justify_items": null,
            "left": null,
            "margin": null,
            "max_height": null,
            "max_width": null,
            "min_height": null,
            "min_width": null,
            "object_fit": null,
            "object_position": null,
            "order": null,
            "overflow": null,
            "overflow_x": null,
            "overflow_y": null,
            "padding": null,
            "right": null,
            "top": null,
            "visibility": null,
            "width": null
          }
        },
        "650afeb82b004aa5912d97d29053899f": {
          "model_module": "@jupyter-widgets/controls",
          "model_name": "ProgressStyleModel",
          "model_module_version": "1.5.0",
          "state": {
            "_model_module": "@jupyter-widgets/controls",
            "_model_module_version": "1.5.0",
            "_model_name": "ProgressStyleModel",
            "_view_count": null,
            "_view_module": "@jupyter-widgets/base",
            "_view_module_version": "1.2.0",
            "_view_name": "StyleView",
            "bar_color": null,
            "description_width": ""
          }
        },
        "3ca34067528a452fbb8536a99c4b6602": {
          "model_module": "@jupyter-widgets/base",
          "model_name": "LayoutModel",
          "model_module_version": "1.2.0",
          "state": {
            "_model_module": "@jupyter-widgets/base",
            "_model_module_version": "1.2.0",
            "_model_name": "LayoutModel",
            "_view_count": null,
            "_view_module": "@jupyter-widgets/base",
            "_view_module_version": "1.2.0",
            "_view_name": "LayoutView",
            "align_content": null,
            "align_items": null,
            "align_self": null,
            "border": null,
            "bottom": null,
            "display": null,
            "flex": null,
            "flex_flow": null,
            "grid_area": null,
            "grid_auto_columns": null,
            "grid_auto_flow": null,
            "grid_auto_rows": null,
            "grid_column": null,
            "grid_gap": null,
            "grid_row": null,
            "grid_template_areas": null,
            "grid_template_columns": null,
            "grid_template_rows": null,
            "height": null,
            "justify_content": null,
            "justify_items": null,
            "left": null,
            "margin": null,
            "max_height": null,
            "max_width": null,
            "min_height": null,
            "min_width": null,
            "object_fit": null,
            "object_position": null,
            "order": null,
            "overflow": null,
            "overflow_x": null,
            "overflow_y": null,
            "padding": null,
            "right": null,
            "top": null,
            "visibility": null,
            "width": null
          }
        },
        "52ca75b56004412e99fe4a25647ecca7": {
          "model_module": "@jupyter-widgets/controls",
          "model_name": "DescriptionStyleModel",
          "model_module_version": "1.5.0",
          "state": {
            "_model_module": "@jupyter-widgets/controls",
            "_model_module_version": "1.5.0",
            "_model_name": "DescriptionStyleModel",
            "_view_count": null,
            "_view_module": "@jupyter-widgets/base",
            "_view_module_version": "1.2.0",
            "_view_name": "StyleView",
            "description_width": ""
          }
        },
        "1800fe2f13e54941b9fb69a9d54e0088": {
          "model_module": "@jupyter-widgets/controls",
          "model_name": "HBoxModel",
          "model_module_version": "1.5.0",
          "state": {
            "_dom_classes": [],
            "_model_module": "@jupyter-widgets/controls",
            "_model_module_version": "1.5.0",
            "_model_name": "HBoxModel",
            "_view_count": null,
            "_view_module": "@jupyter-widgets/controls",
            "_view_module_version": "1.5.0",
            "_view_name": "HBoxView",
            "box_style": "",
            "children": [
              "IPY_MODEL_764d032319bd402e8c4b7f9d3f158385",
              "IPY_MODEL_700e252d061e4a5bb022d3102f7a657c",
              "IPY_MODEL_5a21b2f78248475182a7df88abe84b8c"
            ],
            "layout": "IPY_MODEL_ccb71b458c254e40844e9a9188b78b14"
          }
        },
        "764d032319bd402e8c4b7f9d3f158385": {
          "model_module": "@jupyter-widgets/controls",
          "model_name": "HTMLModel",
          "model_module_version": "1.5.0",
          "state": {
            "_dom_classes": [],
            "_model_module": "@jupyter-widgets/controls",
            "_model_module_version": "1.5.0",
            "_model_name": "HTMLModel",
            "_view_count": null,
            "_view_module": "@jupyter-widgets/controls",
            "_view_module_version": "1.5.0",
            "_view_name": "HTMLView",
            "description": "",
            "description_tooltip": null,
            "layout": "IPY_MODEL_99a60778f50e452998ad80ba8d814c2b",
            "placeholder": "​",
            "style": "IPY_MODEL_5e0a6ae526054390aff81f88f48f47a5",
            "value": "Downloading data: 100%"
          }
        },
        "700e252d061e4a5bb022d3102f7a657c": {
          "model_module": "@jupyter-widgets/controls",
          "model_name": "FloatProgressModel",
          "model_module_version": "1.5.0",
          "state": {
            "_dom_classes": [],
            "_model_module": "@jupyter-widgets/controls",
            "_model_module_version": "1.5.0",
            "_model_name": "FloatProgressModel",
            "_view_count": null,
            "_view_module": "@jupyter-widgets/controls",
            "_view_module_version": "1.5.0",
            "_view_name": "ProgressView",
            "bar_style": "success",
            "description": "",
            "description_tooltip": null,
            "layout": "IPY_MODEL_e9facef93cd6405c9317992e42234b29",
            "max": 2109547,
            "min": 0,
            "orientation": "horizontal",
            "style": "IPY_MODEL_1566e04187ea49febd9eb200b5e8fb9d",
            "value": 2109547
          }
        },
        "5a21b2f78248475182a7df88abe84b8c": {
          "model_module": "@jupyter-widgets/controls",
          "model_name": "HTMLModel",
          "model_module_version": "1.5.0",
          "state": {
            "_dom_classes": [],
            "_model_module": "@jupyter-widgets/controls",
            "_model_module_version": "1.5.0",
            "_model_name": "HTMLModel",
            "_view_count": null,
            "_view_module": "@jupyter-widgets/controls",
            "_view_module_version": "1.5.0",
            "_view_name": "HTMLView",
            "description": "",
            "description_tooltip": null,
            "layout": "IPY_MODEL_903a37982a1a4d60bb0c09e3eb2b05b4",
            "placeholder": "​",
            "style": "IPY_MODEL_0098500fc3c94434b9e2b09e0140ff27",
            "value": " 2.11M/2.11M [00:00&lt;00:00, 41.5MB/s]"
          }
        },
        "ccb71b458c254e40844e9a9188b78b14": {
          "model_module": "@jupyter-widgets/base",
          "model_name": "LayoutModel",
          "model_module_version": "1.2.0",
          "state": {
            "_model_module": "@jupyter-widgets/base",
            "_model_module_version": "1.2.0",
            "_model_name": "LayoutModel",
            "_view_count": null,
            "_view_module": "@jupyter-widgets/base",
            "_view_module_version": "1.2.0",
            "_view_name": "LayoutView",
            "align_content": null,
            "align_items": null,
            "align_self": null,
            "border": null,
            "bottom": null,
            "display": null,
            "flex": null,
            "flex_flow": null,
            "grid_area": null,
            "grid_auto_columns": null,
            "grid_auto_flow": null,
            "grid_auto_rows": null,
            "grid_column": null,
            "grid_gap": null,
            "grid_row": null,
            "grid_template_areas": null,
            "grid_template_columns": null,
            "grid_template_rows": null,
            "height": null,
            "justify_content": null,
            "justify_items": null,
            "left": null,
            "margin": null,
            "max_height": null,
            "max_width": null,
            "min_height": null,
            "min_width": null,
            "object_fit": null,
            "object_position": null,
            "order": null,
            "overflow": null,
            "overflow_x": null,
            "overflow_y": null,
            "padding": null,
            "right": null,
            "top": null,
            "visibility": null,
            "width": null
          }
        },
        "99a60778f50e452998ad80ba8d814c2b": {
          "model_module": "@jupyter-widgets/base",
          "model_name": "LayoutModel",
          "model_module_version": "1.2.0",
          "state": {
            "_model_module": "@jupyter-widgets/base",
            "_model_module_version": "1.2.0",
            "_model_name": "LayoutModel",
            "_view_count": null,
            "_view_module": "@jupyter-widgets/base",
            "_view_module_version": "1.2.0",
            "_view_name": "LayoutView",
            "align_content": null,
            "align_items": null,
            "align_self": null,
            "border": null,
            "bottom": null,
            "display": null,
            "flex": null,
            "flex_flow": null,
            "grid_area": null,
            "grid_auto_columns": null,
            "grid_auto_flow": null,
            "grid_auto_rows": null,
            "grid_column": null,
            "grid_gap": null,
            "grid_row": null,
            "grid_template_areas": null,
            "grid_template_columns": null,
            "grid_template_rows": null,
            "height": null,
            "justify_content": null,
            "justify_items": null,
            "left": null,
            "margin": null,
            "max_height": null,
            "max_width": null,
            "min_height": null,
            "min_width": null,
            "object_fit": null,
            "object_position": null,
            "order": null,
            "overflow": null,
            "overflow_x": null,
            "overflow_y": null,
            "padding": null,
            "right": null,
            "top": null,
            "visibility": null,
            "width": null
          }
        },
        "5e0a6ae526054390aff81f88f48f47a5": {
          "model_module": "@jupyter-widgets/controls",
          "model_name": "DescriptionStyleModel",
          "model_module_version": "1.5.0",
          "state": {
            "_model_module": "@jupyter-widgets/controls",
            "_model_module_version": "1.5.0",
            "_model_name": "DescriptionStyleModel",
            "_view_count": null,
            "_view_module": "@jupyter-widgets/base",
            "_view_module_version": "1.2.0",
            "_view_name": "StyleView",
            "description_width": ""
          }
        },
        "e9facef93cd6405c9317992e42234b29": {
          "model_module": "@jupyter-widgets/base",
          "model_name": "LayoutModel",
          "model_module_version": "1.2.0",
          "state": {
            "_model_module": "@jupyter-widgets/base",
            "_model_module_version": "1.2.0",
            "_model_name": "LayoutModel",
            "_view_count": null,
            "_view_module": "@jupyter-widgets/base",
            "_view_module_version": "1.2.0",
            "_view_name": "LayoutView",
            "align_content": null,
            "align_items": null,
            "align_self": null,
            "border": null,
            "bottom": null,
            "display": null,
            "flex": null,
            "flex_flow": null,
            "grid_area": null,
            "grid_auto_columns": null,
            "grid_auto_flow": null,
            "grid_auto_rows": null,
            "grid_column": null,
            "grid_gap": null,
            "grid_row": null,
            "grid_template_areas": null,
            "grid_template_columns": null,
            "grid_template_rows": null,
            "height": null,
            "justify_content": null,
            "justify_items": null,
            "left": null,
            "margin": null,
            "max_height": null,
            "max_width": null,
            "min_height": null,
            "min_width": null,
            "object_fit": null,
            "object_position": null,
            "order": null,
            "overflow": null,
            "overflow_x": null,
            "overflow_y": null,
            "padding": null,
            "right": null,
            "top": null,
            "visibility": null,
            "width": null
          }
        },
        "1566e04187ea49febd9eb200b5e8fb9d": {
          "model_module": "@jupyter-widgets/controls",
          "model_name": "ProgressStyleModel",
          "model_module_version": "1.5.0",
          "state": {
            "_model_module": "@jupyter-widgets/controls",
            "_model_module_version": "1.5.0",
            "_model_name": "ProgressStyleModel",
            "_view_count": null,
            "_view_module": "@jupyter-widgets/base",
            "_view_module_version": "1.2.0",
            "_view_name": "StyleView",
            "bar_color": null,
            "description_width": ""
          }
        },
        "903a37982a1a4d60bb0c09e3eb2b05b4": {
          "model_module": "@jupyter-widgets/base",
          "model_name": "LayoutModel",
          "model_module_version": "1.2.0",
          "state": {
            "_model_module": "@jupyter-widgets/base",
            "_model_module_version": "1.2.0",
            "_model_name": "LayoutModel",
            "_view_count": null,
            "_view_module": "@jupyter-widgets/base",
            "_view_module_version": "1.2.0",
            "_view_name": "LayoutView",
            "align_content": null,
            "align_items": null,
            "align_self": null,
            "border": null,
            "bottom": null,
            "display": null,
            "flex": null,
            "flex_flow": null,
            "grid_area": null,
            "grid_auto_columns": null,
            "grid_auto_flow": null,
            "grid_auto_rows": null,
            "grid_column": null,
            "grid_gap": null,
            "grid_row": null,
            "grid_template_areas": null,
            "grid_template_columns": null,
            "grid_template_rows": null,
            "height": null,
            "justify_content": null,
            "justify_items": null,
            "left": null,
            "margin": null,
            "max_height": null,
            "max_width": null,
            "min_height": null,
            "min_width": null,
            "object_fit": null,
            "object_position": null,
            "order": null,
            "overflow": null,
            "overflow_x": null,
            "overflow_y": null,
            "padding": null,
            "right": null,
            "top": null,
            "visibility": null,
            "width": null
          }
        },
        "0098500fc3c94434b9e2b09e0140ff27": {
          "model_module": "@jupyter-widgets/controls",
          "model_name": "DescriptionStyleModel",
          "model_module_version": "1.5.0",
          "state": {
            "_model_module": "@jupyter-widgets/controls",
            "_model_module_version": "1.5.0",
            "_model_name": "DescriptionStyleModel",
            "_view_count": null,
            "_view_module": "@jupyter-widgets/base",
            "_view_module_version": "1.2.0",
            "_view_name": "StyleView",
            "description_width": ""
          }
        },
        "afc34bf7c477401da49c257ba088e62d": {
          "model_module": "@jupyter-widgets/controls",
          "model_name": "HBoxModel",
          "model_module_version": "1.5.0",
          "state": {
            "_dom_classes": [],
            "_model_module": "@jupyter-widgets/controls",
            "_model_module_version": "1.5.0",
            "_model_name": "HBoxModel",
            "_view_count": null,
            "_view_module": "@jupyter-widgets/controls",
            "_view_module_version": "1.5.0",
            "_view_name": "HBoxView",
            "box_style": "",
            "children": [
              "IPY_MODEL_8d8559d44a41415fa2dc0abed45d130a",
              "IPY_MODEL_9f7c5c803c4543f08a362e9def781d08",
              "IPY_MODEL_42a7e1c1f6ba48b7983e5800ecf2feb9"
            ],
            "layout": "IPY_MODEL_e9ad545c97314bf3a7da28c6ba977a83"
          }
        },
        "8d8559d44a41415fa2dc0abed45d130a": {
          "model_module": "@jupyter-widgets/controls",
          "model_name": "HTMLModel",
          "model_module_version": "1.5.0",
          "state": {
            "_dom_classes": [],
            "_model_module": "@jupyter-widgets/controls",
            "_model_module_version": "1.5.0",
            "_model_name": "HTMLModel",
            "_view_count": null,
            "_view_module": "@jupyter-widgets/controls",
            "_view_module_version": "1.5.0",
            "_view_name": "HTMLView",
            "description": "",
            "description_tooltip": null,
            "layout": "IPY_MODEL_57c3150aa49647229b6e5143f37ab10b",
            "placeholder": "​",
            "style": "IPY_MODEL_1c433bbffb5e48fb9c0e406467292aef",
            "value": "Downloading data: 100%"
          }
        },
        "9f7c5c803c4543f08a362e9def781d08": {
          "model_module": "@jupyter-widgets/controls",
          "model_name": "FloatProgressModel",
          "model_module_version": "1.5.0",
          "state": {
            "_dom_classes": [],
            "_model_module": "@jupyter-widgets/controls",
            "_model_module_version": "1.5.0",
            "_model_name": "FloatProgressModel",
            "_view_count": null,
            "_view_module": "@jupyter-widgets/controls",
            "_view_module_version": "1.5.0",
            "_view_name": "ProgressView",
            "bar_style": "success",
            "description": "",
            "description_tooltip": null,
            "layout": "IPY_MODEL_77f34f8a880641d99adb038edff07945",
            "max": 46424688,
            "min": 0,
            "orientation": "horizontal",
            "style": "IPY_MODEL_d56fab91848444529c61f6ee49eda4fc",
            "value": 46424688
          }
        },
        "42a7e1c1f6ba48b7983e5800ecf2feb9": {
          "model_module": "@jupyter-widgets/controls",
          "model_name": "HTMLModel",
          "model_module_version": "1.5.0",
          "state": {
            "_dom_classes": [],
            "_model_module": "@jupyter-widgets/controls",
            "_model_module_version": "1.5.0",
            "_model_name": "HTMLModel",
            "_view_count": null,
            "_view_module": "@jupyter-widgets/controls",
            "_view_module_version": "1.5.0",
            "_view_name": "HTMLView",
            "description": "",
            "description_tooltip": null,
            "layout": "IPY_MODEL_973e71b0cdf443d3aa90aae92a079531",
            "placeholder": "​",
            "style": "IPY_MODEL_e6ef957b09484f668960958ffaeba81b",
            "value": " 46.4M/46.4M [00:00&lt;00:00, 417MB/s]"
          }
        },
        "e9ad545c97314bf3a7da28c6ba977a83": {
          "model_module": "@jupyter-widgets/base",
          "model_name": "LayoutModel",
          "model_module_version": "1.2.0",
          "state": {
            "_model_module": "@jupyter-widgets/base",
            "_model_module_version": "1.2.0",
            "_model_name": "LayoutModel",
            "_view_count": null,
            "_view_module": "@jupyter-widgets/base",
            "_view_module_version": "1.2.0",
            "_view_name": "LayoutView",
            "align_content": null,
            "align_items": null,
            "align_self": null,
            "border": null,
            "bottom": null,
            "display": null,
            "flex": null,
            "flex_flow": null,
            "grid_area": null,
            "grid_auto_columns": null,
            "grid_auto_flow": null,
            "grid_auto_rows": null,
            "grid_column": null,
            "grid_gap": null,
            "grid_row": null,
            "grid_template_areas": null,
            "grid_template_columns": null,
            "grid_template_rows": null,
            "height": null,
            "justify_content": null,
            "justify_items": null,
            "left": null,
            "margin": null,
            "max_height": null,
            "max_width": null,
            "min_height": null,
            "min_width": null,
            "object_fit": null,
            "object_position": null,
            "order": null,
            "overflow": null,
            "overflow_x": null,
            "overflow_y": null,
            "padding": null,
            "right": null,
            "top": null,
            "visibility": null,
            "width": null
          }
        },
        "57c3150aa49647229b6e5143f37ab10b": {
          "model_module": "@jupyter-widgets/base",
          "model_name": "LayoutModel",
          "model_module_version": "1.2.0",
          "state": {
            "_model_module": "@jupyter-widgets/base",
            "_model_module_version": "1.2.0",
            "_model_name": "LayoutModel",
            "_view_count": null,
            "_view_module": "@jupyter-widgets/base",
            "_view_module_version": "1.2.0",
            "_view_name": "LayoutView",
            "align_content": null,
            "align_items": null,
            "align_self": null,
            "border": null,
            "bottom": null,
            "display": null,
            "flex": null,
            "flex_flow": null,
            "grid_area": null,
            "grid_auto_columns": null,
            "grid_auto_flow": null,
            "grid_auto_rows": null,
            "grid_column": null,
            "grid_gap": null,
            "grid_row": null,
            "grid_template_areas": null,
            "grid_template_columns": null,
            "grid_template_rows": null,
            "height": null,
            "justify_content": null,
            "justify_items": null,
            "left": null,
            "margin": null,
            "max_height": null,
            "max_width": null,
            "min_height": null,
            "min_width": null,
            "object_fit": null,
            "object_position": null,
            "order": null,
            "overflow": null,
            "overflow_x": null,
            "overflow_y": null,
            "padding": null,
            "right": null,
            "top": null,
            "visibility": null,
            "width": null
          }
        },
        "1c433bbffb5e48fb9c0e406467292aef": {
          "model_module": "@jupyter-widgets/controls",
          "model_name": "DescriptionStyleModel",
          "model_module_version": "1.5.0",
          "state": {
            "_model_module": "@jupyter-widgets/controls",
            "_model_module_version": "1.5.0",
            "_model_name": "DescriptionStyleModel",
            "_view_count": null,
            "_view_module": "@jupyter-widgets/base",
            "_view_module_version": "1.2.0",
            "_view_name": "StyleView",
            "description_width": ""
          }
        },
        "77f34f8a880641d99adb038edff07945": {
          "model_module": "@jupyter-widgets/base",
          "model_name": "LayoutModel",
          "model_module_version": "1.2.0",
          "state": {
            "_model_module": "@jupyter-widgets/base",
            "_model_module_version": "1.2.0",
            "_model_name": "LayoutModel",
            "_view_count": null,
            "_view_module": "@jupyter-widgets/base",
            "_view_module_version": "1.2.0",
            "_view_name": "LayoutView",
            "align_content": null,
            "align_items": null,
            "align_self": null,
            "border": null,
            "bottom": null,
            "display": null,
            "flex": null,
            "flex_flow": null,
            "grid_area": null,
            "grid_auto_columns": null,
            "grid_auto_flow": null,
            "grid_auto_rows": null,
            "grid_column": null,
            "grid_gap": null,
            "grid_row": null,
            "grid_template_areas": null,
            "grid_template_columns": null,
            "grid_template_rows": null,
            "height": null,
            "justify_content": null,
            "justify_items": null,
            "left": null,
            "margin": null,
            "max_height": null,
            "max_width": null,
            "min_height": null,
            "min_width": null,
            "object_fit": null,
            "object_position": null,
            "order": null,
            "overflow": null,
            "overflow_x": null,
            "overflow_y": null,
            "padding": null,
            "right": null,
            "top": null,
            "visibility": null,
            "width": null
          }
        },
        "d56fab91848444529c61f6ee49eda4fc": {
          "model_module": "@jupyter-widgets/controls",
          "model_name": "ProgressStyleModel",
          "model_module_version": "1.5.0",
          "state": {
            "_model_module": "@jupyter-widgets/controls",
            "_model_module_version": "1.5.0",
            "_model_name": "ProgressStyleModel",
            "_view_count": null,
            "_view_module": "@jupyter-widgets/base",
            "_view_module_version": "1.2.0",
            "_view_name": "StyleView",
            "bar_color": null,
            "description_width": ""
          }
        },
        "973e71b0cdf443d3aa90aae92a079531": {
          "model_module": "@jupyter-widgets/base",
          "model_name": "LayoutModel",
          "model_module_version": "1.2.0",
          "state": {
            "_model_module": "@jupyter-widgets/base",
            "_model_module_version": "1.2.0",
            "_model_name": "LayoutModel",
            "_view_count": null,
            "_view_module": "@jupyter-widgets/base",
            "_view_module_version": "1.2.0",
            "_view_name": "LayoutView",
            "align_content": null,
            "align_items": null,
            "align_self": null,
            "border": null,
            "bottom": null,
            "display": null,
            "flex": null,
            "flex_flow": null,
            "grid_area": null,
            "grid_auto_columns": null,
            "grid_auto_flow": null,
            "grid_auto_rows": null,
            "grid_column": null,
            "grid_gap": null,
            "grid_row": null,
            "grid_template_areas": null,
            "grid_template_columns": null,
            "grid_template_rows": null,
            "height": null,
            "justify_content": null,
            "justify_items": null,
            "left": null,
            "margin": null,
            "max_height": null,
            "max_width": null,
            "min_height": null,
            "min_width": null,
            "object_fit": null,
            "object_position": null,
            "order": null,
            "overflow": null,
            "overflow_x": null,
            "overflow_y": null,
            "padding": null,
            "right": null,
            "top": null,
            "visibility": null,
            "width": null
          }
        },
        "e6ef957b09484f668960958ffaeba81b": {
          "model_module": "@jupyter-widgets/controls",
          "model_name": "DescriptionStyleModel",
          "model_module_version": "1.5.0",
          "state": {
            "_model_module": "@jupyter-widgets/controls",
            "_model_module_version": "1.5.0",
            "_model_name": "DescriptionStyleModel",
            "_view_count": null,
            "_view_module": "@jupyter-widgets/base",
            "_view_module_version": "1.2.0",
            "_view_name": "StyleView",
            "description_width": ""
          }
        },
        "c76c045426dd4cee8642192d7ab8716a": {
          "model_module": "@jupyter-widgets/controls",
          "model_name": "HBoxModel",
          "model_module_version": "1.5.0",
          "state": {
            "_dom_classes": [],
            "_model_module": "@jupyter-widgets/controls",
            "_model_module_version": "1.5.0",
            "_model_name": "HBoxModel",
            "_view_count": null,
            "_view_module": "@jupyter-widgets/controls",
            "_view_module_version": "1.5.0",
            "_view_name": "HBoxView",
            "box_style": "",
            "children": [
              "IPY_MODEL_4b8bafd131be42d0a42337865060bede",
              "IPY_MODEL_f95b40733a394410ad0e2af4222da661",
              "IPY_MODEL_a853585cdb9743b6a397a09a23b58d31"
            ],
            "layout": "IPY_MODEL_7787d27c32654c1d8b691ee707776430"
          }
        },
        "4b8bafd131be42d0a42337865060bede": {
          "model_module": "@jupyter-widgets/controls",
          "model_name": "HTMLModel",
          "model_module_version": "1.5.0",
          "state": {
            "_dom_classes": [],
            "_model_module": "@jupyter-widgets/controls",
            "_model_module_version": "1.5.0",
            "_model_name": "HTMLModel",
            "_view_count": null,
            "_view_module": "@jupyter-widgets/controls",
            "_view_module_version": "1.5.0",
            "_view_name": "HTMLView",
            "description": "",
            "description_tooltip": null,
            "layout": "IPY_MODEL_068593a4852343458ac0ec17cd96757c",
            "placeholder": "​",
            "style": "IPY_MODEL_931df97479eb4ddebb15ba485896ddea",
            "value": "Downloading data: 100%"
          }
        },
        "f95b40733a394410ad0e2af4222da661": {
          "model_module": "@jupyter-widgets/controls",
          "model_name": "FloatProgressModel",
          "model_module_version": "1.5.0",
          "state": {
            "_dom_classes": [],
            "_model_module": "@jupyter-widgets/controls",
            "_model_module_version": "1.5.0",
            "_model_name": "FloatProgressModel",
            "_view_count": null,
            "_view_module": "@jupyter-widgets/controls",
            "_view_module_version": "1.5.0",
            "_view_name": "ProgressView",
            "bar_style": "success",
            "description": "",
            "description_tooltip": null,
            "layout": "IPY_MODEL_9d3ec8b6150f4fb19a4954be9c476743",
            "max": 2433674,
            "min": 0,
            "orientation": "horizontal",
            "style": "IPY_MODEL_b21d96cbc2ba43a8a59d39d21adeaaf5",
            "value": 2433674
          }
        },
        "a853585cdb9743b6a397a09a23b58d31": {
          "model_module": "@jupyter-widgets/controls",
          "model_name": "HTMLModel",
          "model_module_version": "1.5.0",
          "state": {
            "_dom_classes": [],
            "_model_module": "@jupyter-widgets/controls",
            "_model_module_version": "1.5.0",
            "_model_name": "HTMLModel",
            "_view_count": null,
            "_view_module": "@jupyter-widgets/controls",
            "_view_module_version": "1.5.0",
            "_view_name": "HTMLView",
            "description": "",
            "description_tooltip": null,
            "layout": "IPY_MODEL_75fbab0855274118bdce8764bfe1dc27",
            "placeholder": "​",
            "style": "IPY_MODEL_3dffb9c48a9043f181112fe66d76c35e",
            "value": " 2.43M/2.43M [00:00&lt;00:00, 172MB/s]"
          }
        },
        "7787d27c32654c1d8b691ee707776430": {
          "model_module": "@jupyter-widgets/base",
          "model_name": "LayoutModel",
          "model_module_version": "1.2.0",
          "state": {
            "_model_module": "@jupyter-widgets/base",
            "_model_module_version": "1.2.0",
            "_model_name": "LayoutModel",
            "_view_count": null,
            "_view_module": "@jupyter-widgets/base",
            "_view_module_version": "1.2.0",
            "_view_name": "LayoutView",
            "align_content": null,
            "align_items": null,
            "align_self": null,
            "border": null,
            "bottom": null,
            "display": null,
            "flex": null,
            "flex_flow": null,
            "grid_area": null,
            "grid_auto_columns": null,
            "grid_auto_flow": null,
            "grid_auto_rows": null,
            "grid_column": null,
            "grid_gap": null,
            "grid_row": null,
            "grid_template_areas": null,
            "grid_template_columns": null,
            "grid_template_rows": null,
            "height": null,
            "justify_content": null,
            "justify_items": null,
            "left": null,
            "margin": null,
            "max_height": null,
            "max_width": null,
            "min_height": null,
            "min_width": null,
            "object_fit": null,
            "object_position": null,
            "order": null,
            "overflow": null,
            "overflow_x": null,
            "overflow_y": null,
            "padding": null,
            "right": null,
            "top": null,
            "visibility": null,
            "width": null
          }
        },
        "068593a4852343458ac0ec17cd96757c": {
          "model_module": "@jupyter-widgets/base",
          "model_name": "LayoutModel",
          "model_module_version": "1.2.0",
          "state": {
            "_model_module": "@jupyter-widgets/base",
            "_model_module_version": "1.2.0",
            "_model_name": "LayoutModel",
            "_view_count": null,
            "_view_module": "@jupyter-widgets/base",
            "_view_module_version": "1.2.0",
            "_view_name": "LayoutView",
            "align_content": null,
            "align_items": null,
            "align_self": null,
            "border": null,
            "bottom": null,
            "display": null,
            "flex": null,
            "flex_flow": null,
            "grid_area": null,
            "grid_auto_columns": null,
            "grid_auto_flow": null,
            "grid_auto_rows": null,
            "grid_column": null,
            "grid_gap": null,
            "grid_row": null,
            "grid_template_areas": null,
            "grid_template_columns": null,
            "grid_template_rows": null,
            "height": null,
            "justify_content": null,
            "justify_items": null,
            "left": null,
            "margin": null,
            "max_height": null,
            "max_width": null,
            "min_height": null,
            "min_width": null,
            "object_fit": null,
            "object_position": null,
            "order": null,
            "overflow": null,
            "overflow_x": null,
            "overflow_y": null,
            "padding": null,
            "right": null,
            "top": null,
            "visibility": null,
            "width": null
          }
        },
        "931df97479eb4ddebb15ba485896ddea": {
          "model_module": "@jupyter-widgets/controls",
          "model_name": "DescriptionStyleModel",
          "model_module_version": "1.5.0",
          "state": {
            "_model_module": "@jupyter-widgets/controls",
            "_model_module_version": "1.5.0",
            "_model_name": "DescriptionStyleModel",
            "_view_count": null,
            "_view_module": "@jupyter-widgets/base",
            "_view_module_version": "1.2.0",
            "_view_name": "StyleView",
            "description_width": ""
          }
        },
        "9d3ec8b6150f4fb19a4954be9c476743": {
          "model_module": "@jupyter-widgets/base",
          "model_name": "LayoutModel",
          "model_module_version": "1.2.0",
          "state": {
            "_model_module": "@jupyter-widgets/base",
            "_model_module_version": "1.2.0",
            "_model_name": "LayoutModel",
            "_view_count": null,
            "_view_module": "@jupyter-widgets/base",
            "_view_module_version": "1.2.0",
            "_view_name": "LayoutView",
            "align_content": null,
            "align_items": null,
            "align_self": null,
            "border": null,
            "bottom": null,
            "display": null,
            "flex": null,
            "flex_flow": null,
            "grid_area": null,
            "grid_auto_columns": null,
            "grid_auto_flow": null,
            "grid_auto_rows": null,
            "grid_column": null,
            "grid_gap": null,
            "grid_row": null,
            "grid_template_areas": null,
            "grid_template_columns": null,
            "grid_template_rows": null,
            "height": null,
            "justify_content": null,
            "justify_items": null,
            "left": null,
            "margin": null,
            "max_height": null,
            "max_width": null,
            "min_height": null,
            "min_width": null,
            "object_fit": null,
            "object_position": null,
            "order": null,
            "overflow": null,
            "overflow_x": null,
            "overflow_y": null,
            "padding": null,
            "right": null,
            "top": null,
            "visibility": null,
            "width": null
          }
        },
        "b21d96cbc2ba43a8a59d39d21adeaaf5": {
          "model_module": "@jupyter-widgets/controls",
          "model_name": "ProgressStyleModel",
          "model_module_version": "1.5.0",
          "state": {
            "_model_module": "@jupyter-widgets/controls",
            "_model_module_version": "1.5.0",
            "_model_name": "ProgressStyleModel",
            "_view_count": null,
            "_view_module": "@jupyter-widgets/base",
            "_view_module_version": "1.2.0",
            "_view_name": "StyleView",
            "bar_color": null,
            "description_width": ""
          }
        },
        "75fbab0855274118bdce8764bfe1dc27": {
          "model_module": "@jupyter-widgets/base",
          "model_name": "LayoutModel",
          "model_module_version": "1.2.0",
          "state": {
            "_model_module": "@jupyter-widgets/base",
            "_model_module_version": "1.2.0",
            "_model_name": "LayoutModel",
            "_view_count": null,
            "_view_module": "@jupyter-widgets/base",
            "_view_module_version": "1.2.0",
            "_view_name": "LayoutView",
            "align_content": null,
            "align_items": null,
            "align_self": null,
            "border": null,
            "bottom": null,
            "display": null,
            "flex": null,
            "flex_flow": null,
            "grid_area": null,
            "grid_auto_columns": null,
            "grid_auto_flow": null,
            "grid_auto_rows": null,
            "grid_column": null,
            "grid_gap": null,
            "grid_row": null,
            "grid_template_areas": null,
            "grid_template_columns": null,
            "grid_template_rows": null,
            "height": null,
            "justify_content": null,
            "justify_items": null,
            "left": null,
            "margin": null,
            "max_height": null,
            "max_width": null,
            "min_height": null,
            "min_width": null,
            "object_fit": null,
            "object_position": null,
            "order": null,
            "overflow": null,
            "overflow_x": null,
            "overflow_y": null,
            "padding": null,
            "right": null,
            "top": null,
            "visibility": null,
            "width": null
          }
        },
        "3dffb9c48a9043f181112fe66d76c35e": {
          "model_module": "@jupyter-widgets/controls",
          "model_name": "DescriptionStyleModel",
          "model_module_version": "1.5.0",
          "state": {
            "_model_module": "@jupyter-widgets/controls",
            "_model_module_version": "1.5.0",
            "_model_name": "DescriptionStyleModel",
            "_view_count": null,
            "_view_module": "@jupyter-widgets/base",
            "_view_module_version": "1.2.0",
            "_view_name": "StyleView",
            "description_width": ""
          }
        },
        "c67f47db7e704570b522f677439a2a93": {
          "model_module": "@jupyter-widgets/controls",
          "model_name": "HBoxModel",
          "model_module_version": "1.5.0",
          "state": {
            "_dom_classes": [],
            "_model_module": "@jupyter-widgets/controls",
            "_model_module_version": "1.5.0",
            "_model_name": "HBoxModel",
            "_view_count": null,
            "_view_module": "@jupyter-widgets/controls",
            "_view_module_version": "1.5.0",
            "_view_name": "HBoxView",
            "box_style": "",
            "children": [
              "IPY_MODEL_4333678965a447b490be3ba8a21a244c",
              "IPY_MODEL_a2252ad9d9d24e18af8e67e604b04515",
              "IPY_MODEL_e2c45a5d92e44f90a749c18e848b241f"
            ],
            "layout": "IPY_MODEL_33e8c7be2e964d0f886324c83a9a2826"
          }
        },
        "4333678965a447b490be3ba8a21a244c": {
          "model_module": "@jupyter-widgets/controls",
          "model_name": "HTMLModel",
          "model_module_version": "1.5.0",
          "state": {
            "_dom_classes": [],
            "_model_module": "@jupyter-widgets/controls",
            "_model_module_version": "1.5.0",
            "_model_name": "HTMLModel",
            "_view_count": null,
            "_view_module": "@jupyter-widgets/controls",
            "_view_module_version": "1.5.0",
            "_view_name": "HTMLView",
            "description": "",
            "description_tooltip": null,
            "layout": "IPY_MODEL_520b4a3a7cb04c8e81e35d4b2d00f1c8",
            "placeholder": "​",
            "style": "IPY_MODEL_c1ee91962b454fc1ab4d6bd2d93e6dda",
            "value": "Generating train split: "
          }
        },
        "a2252ad9d9d24e18af8e67e604b04515": {
          "model_module": "@jupyter-widgets/controls",
          "model_name": "FloatProgressModel",
          "model_module_version": "1.5.0",
          "state": {
            "_dom_classes": [],
            "_model_module": "@jupyter-widgets/controls",
            "_model_module_version": "1.5.0",
            "_model_name": "FloatProgressModel",
            "_view_count": null,
            "_view_module": "@jupyter-widgets/controls",
            "_view_module_version": "1.5.0",
            "_view_name": "ProgressView",
            "bar_style": "success",
            "description": "",
            "description_tooltip": null,
            "layout": "IPY_MODEL_876c8fe8b19346129a76378693d569af",
            "max": 1,
            "min": 0,
            "orientation": "horizontal",
            "style": "IPY_MODEL_c43a9beefd4b4f988d8ea136aa97fe05",
            "value": 1
          }
        },
        "e2c45a5d92e44f90a749c18e848b241f": {
          "model_module": "@jupyter-widgets/controls",
          "model_name": "HTMLModel",
          "model_module_version": "1.5.0",
          "state": {
            "_dom_classes": [],
            "_model_module": "@jupyter-widgets/controls",
            "_model_module_version": "1.5.0",
            "_model_name": "HTMLModel",
            "_view_count": null,
            "_view_module": "@jupyter-widgets/controls",
            "_view_module_version": "1.5.0",
            "_view_name": "HTMLView",
            "description": "",
            "description_tooltip": null,
            "layout": "IPY_MODEL_b65b9467d627402396a8f8e108533d06",
            "placeholder": "​",
            "style": "IPY_MODEL_fe790e7e8d4a4c828e58023e5ed813af",
            "value": " 287113/0 [00:50&lt;00:00, 5291.54 examples/s]"
          }
        },
        "33e8c7be2e964d0f886324c83a9a2826": {
          "model_module": "@jupyter-widgets/base",
          "model_name": "LayoutModel",
          "model_module_version": "1.2.0",
          "state": {
            "_model_module": "@jupyter-widgets/base",
            "_model_module_version": "1.2.0",
            "_model_name": "LayoutModel",
            "_view_count": null,
            "_view_module": "@jupyter-widgets/base",
            "_view_module_version": "1.2.0",
            "_view_name": "LayoutView",
            "align_content": null,
            "align_items": null,
            "align_self": null,
            "border": null,
            "bottom": null,
            "display": null,
            "flex": null,
            "flex_flow": null,
            "grid_area": null,
            "grid_auto_columns": null,
            "grid_auto_flow": null,
            "grid_auto_rows": null,
            "grid_column": null,
            "grid_gap": null,
            "grid_row": null,
            "grid_template_areas": null,
            "grid_template_columns": null,
            "grid_template_rows": null,
            "height": null,
            "justify_content": null,
            "justify_items": null,
            "left": null,
            "margin": null,
            "max_height": null,
            "max_width": null,
            "min_height": null,
            "min_width": null,
            "object_fit": null,
            "object_position": null,
            "order": null,
            "overflow": null,
            "overflow_x": null,
            "overflow_y": null,
            "padding": null,
            "right": null,
            "top": null,
            "visibility": null,
            "width": null
          }
        },
        "520b4a3a7cb04c8e81e35d4b2d00f1c8": {
          "model_module": "@jupyter-widgets/base",
          "model_name": "LayoutModel",
          "model_module_version": "1.2.0",
          "state": {
            "_model_module": "@jupyter-widgets/base",
            "_model_module_version": "1.2.0",
            "_model_name": "LayoutModel",
            "_view_count": null,
            "_view_module": "@jupyter-widgets/base",
            "_view_module_version": "1.2.0",
            "_view_name": "LayoutView",
            "align_content": null,
            "align_items": null,
            "align_self": null,
            "border": null,
            "bottom": null,
            "display": null,
            "flex": null,
            "flex_flow": null,
            "grid_area": null,
            "grid_auto_columns": null,
            "grid_auto_flow": null,
            "grid_auto_rows": null,
            "grid_column": null,
            "grid_gap": null,
            "grid_row": null,
            "grid_template_areas": null,
            "grid_template_columns": null,
            "grid_template_rows": null,
            "height": null,
            "justify_content": null,
            "justify_items": null,
            "left": null,
            "margin": null,
            "max_height": null,
            "max_width": null,
            "min_height": null,
            "min_width": null,
            "object_fit": null,
            "object_position": null,
            "order": null,
            "overflow": null,
            "overflow_x": null,
            "overflow_y": null,
            "padding": null,
            "right": null,
            "top": null,
            "visibility": null,
            "width": null
          }
        },
        "c1ee91962b454fc1ab4d6bd2d93e6dda": {
          "model_module": "@jupyter-widgets/controls",
          "model_name": "DescriptionStyleModel",
          "model_module_version": "1.5.0",
          "state": {
            "_model_module": "@jupyter-widgets/controls",
            "_model_module_version": "1.5.0",
            "_model_name": "DescriptionStyleModel",
            "_view_count": null,
            "_view_module": "@jupyter-widgets/base",
            "_view_module_version": "1.2.0",
            "_view_name": "StyleView",
            "description_width": ""
          }
        },
        "876c8fe8b19346129a76378693d569af": {
          "model_module": "@jupyter-widgets/base",
          "model_name": "LayoutModel",
          "model_module_version": "1.2.0",
          "state": {
            "_model_module": "@jupyter-widgets/base",
            "_model_module_version": "1.2.0",
            "_model_name": "LayoutModel",
            "_view_count": null,
            "_view_module": "@jupyter-widgets/base",
            "_view_module_version": "1.2.0",
            "_view_name": "LayoutView",
            "align_content": null,
            "align_items": null,
            "align_self": null,
            "border": null,
            "bottom": null,
            "display": null,
            "flex": null,
            "flex_flow": null,
            "grid_area": null,
            "grid_auto_columns": null,
            "grid_auto_flow": null,
            "grid_auto_rows": null,
            "grid_column": null,
            "grid_gap": null,
            "grid_row": null,
            "grid_template_areas": null,
            "grid_template_columns": null,
            "grid_template_rows": null,
            "height": null,
            "justify_content": null,
            "justify_items": null,
            "left": null,
            "margin": null,
            "max_height": null,
            "max_width": null,
            "min_height": null,
            "min_width": null,
            "object_fit": null,
            "object_position": null,
            "order": null,
            "overflow": null,
            "overflow_x": null,
            "overflow_y": null,
            "padding": null,
            "right": null,
            "top": null,
            "visibility": null,
            "width": "20px"
          }
        },
        "c43a9beefd4b4f988d8ea136aa97fe05": {
          "model_module": "@jupyter-widgets/controls",
          "model_name": "ProgressStyleModel",
          "model_module_version": "1.5.0",
          "state": {
            "_model_module": "@jupyter-widgets/controls",
            "_model_module_version": "1.5.0",
            "_model_name": "ProgressStyleModel",
            "_view_count": null,
            "_view_module": "@jupyter-widgets/base",
            "_view_module_version": "1.2.0",
            "_view_name": "StyleView",
            "bar_color": null,
            "description_width": ""
          }
        },
        "b65b9467d627402396a8f8e108533d06": {
          "model_module": "@jupyter-widgets/base",
          "model_name": "LayoutModel",
          "model_module_version": "1.2.0",
          "state": {
            "_model_module": "@jupyter-widgets/base",
            "_model_module_version": "1.2.0",
            "_model_name": "LayoutModel",
            "_view_count": null,
            "_view_module": "@jupyter-widgets/base",
            "_view_module_version": "1.2.0",
            "_view_name": "LayoutView",
            "align_content": null,
            "align_items": null,
            "align_self": null,
            "border": null,
            "bottom": null,
            "display": null,
            "flex": null,
            "flex_flow": null,
            "grid_area": null,
            "grid_auto_columns": null,
            "grid_auto_flow": null,
            "grid_auto_rows": null,
            "grid_column": null,
            "grid_gap": null,
            "grid_row": null,
            "grid_template_areas": null,
            "grid_template_columns": null,
            "grid_template_rows": null,
            "height": null,
            "justify_content": null,
            "justify_items": null,
            "left": null,
            "margin": null,
            "max_height": null,
            "max_width": null,
            "min_height": null,
            "min_width": null,
            "object_fit": null,
            "object_position": null,
            "order": null,
            "overflow": null,
            "overflow_x": null,
            "overflow_y": null,
            "padding": null,
            "right": null,
            "top": null,
            "visibility": null,
            "width": null
          }
        },
        "fe790e7e8d4a4c828e58023e5ed813af": {
          "model_module": "@jupyter-widgets/controls",
          "model_name": "DescriptionStyleModel",
          "model_module_version": "1.5.0",
          "state": {
            "_model_module": "@jupyter-widgets/controls",
            "_model_module_version": "1.5.0",
            "_model_name": "DescriptionStyleModel",
            "_view_count": null,
            "_view_module": "@jupyter-widgets/base",
            "_view_module_version": "1.2.0",
            "_view_name": "StyleView",
            "description_width": ""
          }
        },
        "f5a75f8f84c148bdb55dbdf24b74852e": {
          "model_module": "@jupyter-widgets/controls",
          "model_name": "HBoxModel",
          "model_module_version": "1.5.0",
          "state": {
            "_dom_classes": [],
            "_model_module": "@jupyter-widgets/controls",
            "_model_module_version": "1.5.0",
            "_model_name": "HBoxModel",
            "_view_count": null,
            "_view_module": "@jupyter-widgets/controls",
            "_view_module_version": "1.5.0",
            "_view_name": "HBoxView",
            "box_style": "",
            "children": [
              "IPY_MODEL_fbcddf227bb04c79960c0dbf1790e6cc",
              "IPY_MODEL_6ec454a19c5441fe8c1bd05772ce54d5",
              "IPY_MODEL_94d6a648482f4dbe8342fa082dca57a2"
            ],
            "layout": "IPY_MODEL_60c58a738c644f38b98b0df1fe23d2f2"
          }
        },
        "fbcddf227bb04c79960c0dbf1790e6cc": {
          "model_module": "@jupyter-widgets/controls",
          "model_name": "HTMLModel",
          "model_module_version": "1.5.0",
          "state": {
            "_dom_classes": [],
            "_model_module": "@jupyter-widgets/controls",
            "_model_module_version": "1.5.0",
            "_model_name": "HTMLModel",
            "_view_count": null,
            "_view_module": "@jupyter-widgets/controls",
            "_view_module_version": "1.5.0",
            "_view_name": "HTMLView",
            "description": "",
            "description_tooltip": null,
            "layout": "IPY_MODEL_f551277d572047b0aa4c4efb4c6dd2a7",
            "placeholder": "​",
            "style": "IPY_MODEL_73469842a27145babef4061996892f0d",
            "value": "Generating validation split: "
          }
        },
        "6ec454a19c5441fe8c1bd05772ce54d5": {
          "model_module": "@jupyter-widgets/controls",
          "model_name": "FloatProgressModel",
          "model_module_version": "1.5.0",
          "state": {
            "_dom_classes": [],
            "_model_module": "@jupyter-widgets/controls",
            "_model_module_version": "1.5.0",
            "_model_name": "FloatProgressModel",
            "_view_count": null,
            "_view_module": "@jupyter-widgets/controls",
            "_view_module_version": "1.5.0",
            "_view_name": "ProgressView",
            "bar_style": "success",
            "description": "",
            "description_tooltip": null,
            "layout": "IPY_MODEL_a124f9efb7204ca48e6b367947728d36",
            "max": 1,
            "min": 0,
            "orientation": "horizontal",
            "style": "IPY_MODEL_8bf28b1a234b43fbaff7f4f431c671a5",
            "value": 1
          }
        },
        "94d6a648482f4dbe8342fa082dca57a2": {
          "model_module": "@jupyter-widgets/controls",
          "model_name": "HTMLModel",
          "model_module_version": "1.5.0",
          "state": {
            "_dom_classes": [],
            "_model_module": "@jupyter-widgets/controls",
            "_model_module_version": "1.5.0",
            "_model_name": "HTMLModel",
            "_view_count": null,
            "_view_module": "@jupyter-widgets/controls",
            "_view_module_version": "1.5.0",
            "_view_name": "HTMLView",
            "description": "",
            "description_tooltip": null,
            "layout": "IPY_MODEL_40c32eabdcef4b6cb46a2ad3c4fc216d",
            "placeholder": "​",
            "style": "IPY_MODEL_4197131ce4f94b3dbf5ce1dcbcc01307",
            "value": " 13368/0 [00:02&lt;00:00, 5650.06 examples/s]"
          }
        },
        "60c58a738c644f38b98b0df1fe23d2f2": {
          "model_module": "@jupyter-widgets/base",
          "model_name": "LayoutModel",
          "model_module_version": "1.2.0",
          "state": {
            "_model_module": "@jupyter-widgets/base",
            "_model_module_version": "1.2.0",
            "_model_name": "LayoutModel",
            "_view_count": null,
            "_view_module": "@jupyter-widgets/base",
            "_view_module_version": "1.2.0",
            "_view_name": "LayoutView",
            "align_content": null,
            "align_items": null,
            "align_self": null,
            "border": null,
            "bottom": null,
            "display": null,
            "flex": null,
            "flex_flow": null,
            "grid_area": null,
            "grid_auto_columns": null,
            "grid_auto_flow": null,
            "grid_auto_rows": null,
            "grid_column": null,
            "grid_gap": null,
            "grid_row": null,
            "grid_template_areas": null,
            "grid_template_columns": null,
            "grid_template_rows": null,
            "height": null,
            "justify_content": null,
            "justify_items": null,
            "left": null,
            "margin": null,
            "max_height": null,
            "max_width": null,
            "min_height": null,
            "min_width": null,
            "object_fit": null,
            "object_position": null,
            "order": null,
            "overflow": null,
            "overflow_x": null,
            "overflow_y": null,
            "padding": null,
            "right": null,
            "top": null,
            "visibility": null,
            "width": null
          }
        },
        "f551277d572047b0aa4c4efb4c6dd2a7": {
          "model_module": "@jupyter-widgets/base",
          "model_name": "LayoutModel",
          "model_module_version": "1.2.0",
          "state": {
            "_model_module": "@jupyter-widgets/base",
            "_model_module_version": "1.2.0",
            "_model_name": "LayoutModel",
            "_view_count": null,
            "_view_module": "@jupyter-widgets/base",
            "_view_module_version": "1.2.0",
            "_view_name": "LayoutView",
            "align_content": null,
            "align_items": null,
            "align_self": null,
            "border": null,
            "bottom": null,
            "display": null,
            "flex": null,
            "flex_flow": null,
            "grid_area": null,
            "grid_auto_columns": null,
            "grid_auto_flow": null,
            "grid_auto_rows": null,
            "grid_column": null,
            "grid_gap": null,
            "grid_row": null,
            "grid_template_areas": null,
            "grid_template_columns": null,
            "grid_template_rows": null,
            "height": null,
            "justify_content": null,
            "justify_items": null,
            "left": null,
            "margin": null,
            "max_height": null,
            "max_width": null,
            "min_height": null,
            "min_width": null,
            "object_fit": null,
            "object_position": null,
            "order": null,
            "overflow": null,
            "overflow_x": null,
            "overflow_y": null,
            "padding": null,
            "right": null,
            "top": null,
            "visibility": null,
            "width": null
          }
        },
        "73469842a27145babef4061996892f0d": {
          "model_module": "@jupyter-widgets/controls",
          "model_name": "DescriptionStyleModel",
          "model_module_version": "1.5.0",
          "state": {
            "_model_module": "@jupyter-widgets/controls",
            "_model_module_version": "1.5.0",
            "_model_name": "DescriptionStyleModel",
            "_view_count": null,
            "_view_module": "@jupyter-widgets/base",
            "_view_module_version": "1.2.0",
            "_view_name": "StyleView",
            "description_width": ""
          }
        },
        "a124f9efb7204ca48e6b367947728d36": {
          "model_module": "@jupyter-widgets/base",
          "model_name": "LayoutModel",
          "model_module_version": "1.2.0",
          "state": {
            "_model_module": "@jupyter-widgets/base",
            "_model_module_version": "1.2.0",
            "_model_name": "LayoutModel",
            "_view_count": null,
            "_view_module": "@jupyter-widgets/base",
            "_view_module_version": "1.2.0",
            "_view_name": "LayoutView",
            "align_content": null,
            "align_items": null,
            "align_self": null,
            "border": null,
            "bottom": null,
            "display": null,
            "flex": null,
            "flex_flow": null,
            "grid_area": null,
            "grid_auto_columns": null,
            "grid_auto_flow": null,
            "grid_auto_rows": null,
            "grid_column": null,
            "grid_gap": null,
            "grid_row": null,
            "grid_template_areas": null,
            "grid_template_columns": null,
            "grid_template_rows": null,
            "height": null,
            "justify_content": null,
            "justify_items": null,
            "left": null,
            "margin": null,
            "max_height": null,
            "max_width": null,
            "min_height": null,
            "min_width": null,
            "object_fit": null,
            "object_position": null,
            "order": null,
            "overflow": null,
            "overflow_x": null,
            "overflow_y": null,
            "padding": null,
            "right": null,
            "top": null,
            "visibility": null,
            "width": "20px"
          }
        },
        "8bf28b1a234b43fbaff7f4f431c671a5": {
          "model_module": "@jupyter-widgets/controls",
          "model_name": "ProgressStyleModel",
          "model_module_version": "1.5.0",
          "state": {
            "_model_module": "@jupyter-widgets/controls",
            "_model_module_version": "1.5.0",
            "_model_name": "ProgressStyleModel",
            "_view_count": null,
            "_view_module": "@jupyter-widgets/base",
            "_view_module_version": "1.2.0",
            "_view_name": "StyleView",
            "bar_color": null,
            "description_width": ""
          }
        },
        "40c32eabdcef4b6cb46a2ad3c4fc216d": {
          "model_module": "@jupyter-widgets/base",
          "model_name": "LayoutModel",
          "model_module_version": "1.2.0",
          "state": {
            "_model_module": "@jupyter-widgets/base",
            "_model_module_version": "1.2.0",
            "_model_name": "LayoutModel",
            "_view_count": null,
            "_view_module": "@jupyter-widgets/base",
            "_view_module_version": "1.2.0",
            "_view_name": "LayoutView",
            "align_content": null,
            "align_items": null,
            "align_self": null,
            "border": null,
            "bottom": null,
            "display": null,
            "flex": null,
            "flex_flow": null,
            "grid_area": null,
            "grid_auto_columns": null,
            "grid_auto_flow": null,
            "grid_auto_rows": null,
            "grid_column": null,
            "grid_gap": null,
            "grid_row": null,
            "grid_template_areas": null,
            "grid_template_columns": null,
            "grid_template_rows": null,
            "height": null,
            "justify_content": null,
            "justify_items": null,
            "left": null,
            "margin": null,
            "max_height": null,
            "max_width": null,
            "min_height": null,
            "min_width": null,
            "object_fit": null,
            "object_position": null,
            "order": null,
            "overflow": null,
            "overflow_x": null,
            "overflow_y": null,
            "padding": null,
            "right": null,
            "top": null,
            "visibility": null,
            "width": null
          }
        },
        "4197131ce4f94b3dbf5ce1dcbcc01307": {
          "model_module": "@jupyter-widgets/controls",
          "model_name": "DescriptionStyleModel",
          "model_module_version": "1.5.0",
          "state": {
            "_model_module": "@jupyter-widgets/controls",
            "_model_module_version": "1.5.0",
            "_model_name": "DescriptionStyleModel",
            "_view_count": null,
            "_view_module": "@jupyter-widgets/base",
            "_view_module_version": "1.2.0",
            "_view_name": "StyleView",
            "description_width": ""
          }
        },
        "d7e5ca3243c74bb8a5091b9c96137a49": {
          "model_module": "@jupyter-widgets/controls",
          "model_name": "HBoxModel",
          "model_module_version": "1.5.0",
          "state": {
            "_dom_classes": [],
            "_model_module": "@jupyter-widgets/controls",
            "_model_module_version": "1.5.0",
            "_model_name": "HBoxModel",
            "_view_count": null,
            "_view_module": "@jupyter-widgets/controls",
            "_view_module_version": "1.5.0",
            "_view_name": "HBoxView",
            "box_style": "",
            "children": [
              "IPY_MODEL_3ab572cb9ecb435ba2e5bf437481bee2",
              "IPY_MODEL_5e57e791a9a64bc39df3b908ff4358e1",
              "IPY_MODEL_09b4be1a37b84ab491af93e97f70890d"
            ],
            "layout": "IPY_MODEL_d6f607d6b24f4f2ebccaac4a2e5fe1e2"
          }
        },
        "3ab572cb9ecb435ba2e5bf437481bee2": {
          "model_module": "@jupyter-widgets/controls",
          "model_name": "HTMLModel",
          "model_module_version": "1.5.0",
          "state": {
            "_dom_classes": [],
            "_model_module": "@jupyter-widgets/controls",
            "_model_module_version": "1.5.0",
            "_model_name": "HTMLModel",
            "_view_count": null,
            "_view_module": "@jupyter-widgets/controls",
            "_view_module_version": "1.5.0",
            "_view_name": "HTMLView",
            "description": "",
            "description_tooltip": null,
            "layout": "IPY_MODEL_4a9c742bde1349c7a1a1d5a4b16dd107",
            "placeholder": "​",
            "style": "IPY_MODEL_5e7e2f3f8f404e899fe2b42b69ddbac4",
            "value": "Generating test split: "
          }
        },
        "5e57e791a9a64bc39df3b908ff4358e1": {
          "model_module": "@jupyter-widgets/controls",
          "model_name": "FloatProgressModel",
          "model_module_version": "1.5.0",
          "state": {
            "_dom_classes": [],
            "_model_module": "@jupyter-widgets/controls",
            "_model_module_version": "1.5.0",
            "_model_name": "FloatProgressModel",
            "_view_count": null,
            "_view_module": "@jupyter-widgets/controls",
            "_view_module_version": "1.5.0",
            "_view_name": "ProgressView",
            "bar_style": "success",
            "description": "",
            "description_tooltip": null,
            "layout": "IPY_MODEL_e706509314e0401c832ae381362705dc",
            "max": 1,
            "min": 0,
            "orientation": "horizontal",
            "style": "IPY_MODEL_7e7dcb6f628c4b85865e04658e7942f8",
            "value": 1
          }
        },
        "09b4be1a37b84ab491af93e97f70890d": {
          "model_module": "@jupyter-widgets/controls",
          "model_name": "HTMLModel",
          "model_module_version": "1.5.0",
          "state": {
            "_dom_classes": [],
            "_model_module": "@jupyter-widgets/controls",
            "_model_module_version": "1.5.0",
            "_model_name": "HTMLModel",
            "_view_count": null,
            "_view_module": "@jupyter-widgets/controls",
            "_view_module_version": "1.5.0",
            "_view_name": "HTMLView",
            "description": "",
            "description_tooltip": null,
            "layout": "IPY_MODEL_12f13f91709f446e89d6441dcb4041a4",
            "placeholder": "​",
            "style": "IPY_MODEL_660c3fa9697549c696c28cf6d737703c",
            "value": " 11490/0 [00:02&lt;00:00, 5615.84 examples/s]"
          }
        },
        "d6f607d6b24f4f2ebccaac4a2e5fe1e2": {
          "model_module": "@jupyter-widgets/base",
          "model_name": "LayoutModel",
          "model_module_version": "1.2.0",
          "state": {
            "_model_module": "@jupyter-widgets/base",
            "_model_module_version": "1.2.0",
            "_model_name": "LayoutModel",
            "_view_count": null,
            "_view_module": "@jupyter-widgets/base",
            "_view_module_version": "1.2.0",
            "_view_name": "LayoutView",
            "align_content": null,
            "align_items": null,
            "align_self": null,
            "border": null,
            "bottom": null,
            "display": null,
            "flex": null,
            "flex_flow": null,
            "grid_area": null,
            "grid_auto_columns": null,
            "grid_auto_flow": null,
            "grid_auto_rows": null,
            "grid_column": null,
            "grid_gap": null,
            "grid_row": null,
            "grid_template_areas": null,
            "grid_template_columns": null,
            "grid_template_rows": null,
            "height": null,
            "justify_content": null,
            "justify_items": null,
            "left": null,
            "margin": null,
            "max_height": null,
            "max_width": null,
            "min_height": null,
            "min_width": null,
            "object_fit": null,
            "object_position": null,
            "order": null,
            "overflow": null,
            "overflow_x": null,
            "overflow_y": null,
            "padding": null,
            "right": null,
            "top": null,
            "visibility": null,
            "width": null
          }
        },
        "4a9c742bde1349c7a1a1d5a4b16dd107": {
          "model_module": "@jupyter-widgets/base",
          "model_name": "LayoutModel",
          "model_module_version": "1.2.0",
          "state": {
            "_model_module": "@jupyter-widgets/base",
            "_model_module_version": "1.2.0",
            "_model_name": "LayoutModel",
            "_view_count": null,
            "_view_module": "@jupyter-widgets/base",
            "_view_module_version": "1.2.0",
            "_view_name": "LayoutView",
            "align_content": null,
            "align_items": null,
            "align_self": null,
            "border": null,
            "bottom": null,
            "display": null,
            "flex": null,
            "flex_flow": null,
            "grid_area": null,
            "grid_auto_columns": null,
            "grid_auto_flow": null,
            "grid_auto_rows": null,
            "grid_column": null,
            "grid_gap": null,
            "grid_row": null,
            "grid_template_areas": null,
            "grid_template_columns": null,
            "grid_template_rows": null,
            "height": null,
            "justify_content": null,
            "justify_items": null,
            "left": null,
            "margin": null,
            "max_height": null,
            "max_width": null,
            "min_height": null,
            "min_width": null,
            "object_fit": null,
            "object_position": null,
            "order": null,
            "overflow": null,
            "overflow_x": null,
            "overflow_y": null,
            "padding": null,
            "right": null,
            "top": null,
            "visibility": null,
            "width": null
          }
        },
        "5e7e2f3f8f404e899fe2b42b69ddbac4": {
          "model_module": "@jupyter-widgets/controls",
          "model_name": "DescriptionStyleModel",
          "model_module_version": "1.5.0",
          "state": {
            "_model_module": "@jupyter-widgets/controls",
            "_model_module_version": "1.5.0",
            "_model_name": "DescriptionStyleModel",
            "_view_count": null,
            "_view_module": "@jupyter-widgets/base",
            "_view_module_version": "1.2.0",
            "_view_name": "StyleView",
            "description_width": ""
          }
        },
        "e706509314e0401c832ae381362705dc": {
          "model_module": "@jupyter-widgets/base",
          "model_name": "LayoutModel",
          "model_module_version": "1.2.0",
          "state": {
            "_model_module": "@jupyter-widgets/base",
            "_model_module_version": "1.2.0",
            "_model_name": "LayoutModel",
            "_view_count": null,
            "_view_module": "@jupyter-widgets/base",
            "_view_module_version": "1.2.0",
            "_view_name": "LayoutView",
            "align_content": null,
            "align_items": null,
            "align_self": null,
            "border": null,
            "bottom": null,
            "display": null,
            "flex": null,
            "flex_flow": null,
            "grid_area": null,
            "grid_auto_columns": null,
            "grid_auto_flow": null,
            "grid_auto_rows": null,
            "grid_column": null,
            "grid_gap": null,
            "grid_row": null,
            "grid_template_areas": null,
            "grid_template_columns": null,
            "grid_template_rows": null,
            "height": null,
            "justify_content": null,
            "justify_items": null,
            "left": null,
            "margin": null,
            "max_height": null,
            "max_width": null,
            "min_height": null,
            "min_width": null,
            "object_fit": null,
            "object_position": null,
            "order": null,
            "overflow": null,
            "overflow_x": null,
            "overflow_y": null,
            "padding": null,
            "right": null,
            "top": null,
            "visibility": null,
            "width": "20px"
          }
        },
        "7e7dcb6f628c4b85865e04658e7942f8": {
          "model_module": "@jupyter-widgets/controls",
          "model_name": "ProgressStyleModel",
          "model_module_version": "1.5.0",
          "state": {
            "_model_module": "@jupyter-widgets/controls",
            "_model_module_version": "1.5.0",
            "_model_name": "ProgressStyleModel",
            "_view_count": null,
            "_view_module": "@jupyter-widgets/base",
            "_view_module_version": "1.2.0",
            "_view_name": "StyleView",
            "bar_color": null,
            "description_width": ""
          }
        },
        "12f13f91709f446e89d6441dcb4041a4": {
          "model_module": "@jupyter-widgets/base",
          "model_name": "LayoutModel",
          "model_module_version": "1.2.0",
          "state": {
            "_model_module": "@jupyter-widgets/base",
            "_model_module_version": "1.2.0",
            "_model_name": "LayoutModel",
            "_view_count": null,
            "_view_module": "@jupyter-widgets/base",
            "_view_module_version": "1.2.0",
            "_view_name": "LayoutView",
            "align_content": null,
            "align_items": null,
            "align_self": null,
            "border": null,
            "bottom": null,
            "display": null,
            "flex": null,
            "flex_flow": null,
            "grid_area": null,
            "grid_auto_columns": null,
            "grid_auto_flow": null,
            "grid_auto_rows": null,
            "grid_column": null,
            "grid_gap": null,
            "grid_row": null,
            "grid_template_areas": null,
            "grid_template_columns": null,
            "grid_template_rows": null,
            "height": null,
            "justify_content": null,
            "justify_items": null,
            "left": null,
            "margin": null,
            "max_height": null,
            "max_width": null,
            "min_height": null,
            "min_width": null,
            "object_fit": null,
            "object_position": null,
            "order": null,
            "overflow": null,
            "overflow_x": null,
            "overflow_y": null,
            "padding": null,
            "right": null,
            "top": null,
            "visibility": null,
            "width": null
          }
        },
        "660c3fa9697549c696c28cf6d737703c": {
          "model_module": "@jupyter-widgets/controls",
          "model_name": "DescriptionStyleModel",
          "model_module_version": "1.5.0",
          "state": {
            "_model_module": "@jupyter-widgets/controls",
            "_model_module_version": "1.5.0",
            "_model_name": "DescriptionStyleModel",
            "_view_count": null,
            "_view_module": "@jupyter-widgets/base",
            "_view_module_version": "1.2.0",
            "_view_name": "StyleView",
            "description_width": ""
          }
        },
        "1fcf7a80d89e473f8d3601310e4bd4f9": {
          "model_module": "@jupyter-widgets/controls",
          "model_name": "HBoxModel",
          "model_module_version": "1.5.0",
          "state": {
            "_dom_classes": [],
            "_model_module": "@jupyter-widgets/controls",
            "_model_module_version": "1.5.0",
            "_model_name": "HBoxModel",
            "_view_count": null,
            "_view_module": "@jupyter-widgets/controls",
            "_view_module_version": "1.5.0",
            "_view_name": "HBoxView",
            "box_style": "",
            "children": [
              "IPY_MODEL_a6136730a16b414d9a150eec8e64f01d",
              "IPY_MODEL_7fc6eb373be54f4cb63cc61641e27d98",
              "IPY_MODEL_ae7f53d09c8343f98e7e98900425cda7"
            ],
            "layout": "IPY_MODEL_6ca3801ab75a4697922c6bbcc3acee16"
          }
        },
        "a6136730a16b414d9a150eec8e64f01d": {
          "model_module": "@jupyter-widgets/controls",
          "model_name": "HTMLModel",
          "model_module_version": "1.5.0",
          "state": {
            "_dom_classes": [],
            "_model_module": "@jupyter-widgets/controls",
            "_model_module_version": "1.5.0",
            "_model_name": "HTMLModel",
            "_view_count": null,
            "_view_module": "@jupyter-widgets/controls",
            "_view_module_version": "1.5.0",
            "_view_name": "HTMLView",
            "description": "",
            "description_tooltip": null,
            "layout": "IPY_MODEL_332cb8e0251144aab282cc969b821e09",
            "placeholder": "​",
            "style": "IPY_MODEL_f60b4e55e53c4ce3a52b8f80d4d281e5",
            "value": "Map: 100%"
          }
        },
        "7fc6eb373be54f4cb63cc61641e27d98": {
          "model_module": "@jupyter-widgets/controls",
          "model_name": "FloatProgressModel",
          "model_module_version": "1.5.0",
          "state": {
            "_dom_classes": [],
            "_model_module": "@jupyter-widgets/controls",
            "_model_module_version": "1.5.0",
            "_model_name": "FloatProgressModel",
            "_view_count": null,
            "_view_module": "@jupyter-widgets/controls",
            "_view_module_version": "1.5.0",
            "_view_name": "ProgressView",
            "bar_style": "success",
            "description": "",
            "description_tooltip": null,
            "layout": "IPY_MODEL_9b1635c77a4d4df8808a796091b2e2be",
            "max": 10,
            "min": 0,
            "orientation": "horizontal",
            "style": "IPY_MODEL_5e44050f897c4f54947dbd882f3241e8",
            "value": 10
          }
        },
        "ae7f53d09c8343f98e7e98900425cda7": {
          "model_module": "@jupyter-widgets/controls",
          "model_name": "HTMLModel",
          "model_module_version": "1.5.0",
          "state": {
            "_dom_classes": [],
            "_model_module": "@jupyter-widgets/controls",
            "_model_module_version": "1.5.0",
            "_model_name": "HTMLModel",
            "_view_count": null,
            "_view_module": "@jupyter-widgets/controls",
            "_view_module_version": "1.5.0",
            "_view_name": "HTMLView",
            "description": "",
            "description_tooltip": null,
            "layout": "IPY_MODEL_02a9950e4ca440528917fd0a95d352de",
            "placeholder": "​",
            "style": "IPY_MODEL_535b630bc25b47b7bdafbb4742ab3376",
            "value": " 10/10 [00:00&lt;00:00, 660.35 examples/s]"
          }
        },
        "6ca3801ab75a4697922c6bbcc3acee16": {
          "model_module": "@jupyter-widgets/base",
          "model_name": "LayoutModel",
          "model_module_version": "1.2.0",
          "state": {
            "_model_module": "@jupyter-widgets/base",
            "_model_module_version": "1.2.0",
            "_model_name": "LayoutModel",
            "_view_count": null,
            "_view_module": "@jupyter-widgets/base",
            "_view_module_version": "1.2.0",
            "_view_name": "LayoutView",
            "align_content": null,
            "align_items": null,
            "align_self": null,
            "border": null,
            "bottom": null,
            "display": null,
            "flex": null,
            "flex_flow": null,
            "grid_area": null,
            "grid_auto_columns": null,
            "grid_auto_flow": null,
            "grid_auto_rows": null,
            "grid_column": null,
            "grid_gap": null,
            "grid_row": null,
            "grid_template_areas": null,
            "grid_template_columns": null,
            "grid_template_rows": null,
            "height": null,
            "justify_content": null,
            "justify_items": null,
            "left": null,
            "margin": null,
            "max_height": null,
            "max_width": null,
            "min_height": null,
            "min_width": null,
            "object_fit": null,
            "object_position": null,
            "order": null,
            "overflow": null,
            "overflow_x": null,
            "overflow_y": null,
            "padding": null,
            "right": null,
            "top": null,
            "visibility": null,
            "width": null
          }
        },
        "332cb8e0251144aab282cc969b821e09": {
          "model_module": "@jupyter-widgets/base",
          "model_name": "LayoutModel",
          "model_module_version": "1.2.0",
          "state": {
            "_model_module": "@jupyter-widgets/base",
            "_model_module_version": "1.2.0",
            "_model_name": "LayoutModel",
            "_view_count": null,
            "_view_module": "@jupyter-widgets/base",
            "_view_module_version": "1.2.0",
            "_view_name": "LayoutView",
            "align_content": null,
            "align_items": null,
            "align_self": null,
            "border": null,
            "bottom": null,
            "display": null,
            "flex": null,
            "flex_flow": null,
            "grid_area": null,
            "grid_auto_columns": null,
            "grid_auto_flow": null,
            "grid_auto_rows": null,
            "grid_column": null,
            "grid_gap": null,
            "grid_row": null,
            "grid_template_areas": null,
            "grid_template_columns": null,
            "grid_template_rows": null,
            "height": null,
            "justify_content": null,
            "justify_items": null,
            "left": null,
            "margin": null,
            "max_height": null,
            "max_width": null,
            "min_height": null,
            "min_width": null,
            "object_fit": null,
            "object_position": null,
            "order": null,
            "overflow": null,
            "overflow_x": null,
            "overflow_y": null,
            "padding": null,
            "right": null,
            "top": null,
            "visibility": null,
            "width": null
          }
        },
        "f60b4e55e53c4ce3a52b8f80d4d281e5": {
          "model_module": "@jupyter-widgets/controls",
          "model_name": "DescriptionStyleModel",
          "model_module_version": "1.5.0",
          "state": {
            "_model_module": "@jupyter-widgets/controls",
            "_model_module_version": "1.5.0",
            "_model_name": "DescriptionStyleModel",
            "_view_count": null,
            "_view_module": "@jupyter-widgets/base",
            "_view_module_version": "1.2.0",
            "_view_name": "StyleView",
            "description_width": ""
          }
        },
        "9b1635c77a4d4df8808a796091b2e2be": {
          "model_module": "@jupyter-widgets/base",
          "model_name": "LayoutModel",
          "model_module_version": "1.2.0",
          "state": {
            "_model_module": "@jupyter-widgets/base",
            "_model_module_version": "1.2.0",
            "_model_name": "LayoutModel",
            "_view_count": null,
            "_view_module": "@jupyter-widgets/base",
            "_view_module_version": "1.2.0",
            "_view_name": "LayoutView",
            "align_content": null,
            "align_items": null,
            "align_self": null,
            "border": null,
            "bottom": null,
            "display": null,
            "flex": null,
            "flex_flow": null,
            "grid_area": null,
            "grid_auto_columns": null,
            "grid_auto_flow": null,
            "grid_auto_rows": null,
            "grid_column": null,
            "grid_gap": null,
            "grid_row": null,
            "grid_template_areas": null,
            "grid_template_columns": null,
            "grid_template_rows": null,
            "height": null,
            "justify_content": null,
            "justify_items": null,
            "left": null,
            "margin": null,
            "max_height": null,
            "max_width": null,
            "min_height": null,
            "min_width": null,
            "object_fit": null,
            "object_position": null,
            "order": null,
            "overflow": null,
            "overflow_x": null,
            "overflow_y": null,
            "padding": null,
            "right": null,
            "top": null,
            "visibility": null,
            "width": null
          }
        },
        "5e44050f897c4f54947dbd882f3241e8": {
          "model_module": "@jupyter-widgets/controls",
          "model_name": "ProgressStyleModel",
          "model_module_version": "1.5.0",
          "state": {
            "_model_module": "@jupyter-widgets/controls",
            "_model_module_version": "1.5.0",
            "_model_name": "ProgressStyleModel",
            "_view_count": null,
            "_view_module": "@jupyter-widgets/base",
            "_view_module_version": "1.2.0",
            "_view_name": "StyleView",
            "bar_color": null,
            "description_width": ""
          }
        },
        "02a9950e4ca440528917fd0a95d352de": {
          "model_module": "@jupyter-widgets/base",
          "model_name": "LayoutModel",
          "model_module_version": "1.2.0",
          "state": {
            "_model_module": "@jupyter-widgets/base",
            "_model_module_version": "1.2.0",
            "_model_name": "LayoutModel",
            "_view_count": null,
            "_view_module": "@jupyter-widgets/base",
            "_view_module_version": "1.2.0",
            "_view_name": "LayoutView",
            "align_content": null,
            "align_items": null,
            "align_self": null,
            "border": null,
            "bottom": null,
            "display": null,
            "flex": null,
            "flex_flow": null,
            "grid_area": null,
            "grid_auto_columns": null,
            "grid_auto_flow": null,
            "grid_auto_rows": null,
            "grid_column": null,
            "grid_gap": null,
            "grid_row": null,
            "grid_template_areas": null,
            "grid_template_columns": null,
            "grid_template_rows": null,
            "height": null,
            "justify_content": null,
            "justify_items": null,
            "left": null,
            "margin": null,
            "max_height": null,
            "max_width": null,
            "min_height": null,
            "min_width": null,
            "object_fit": null,
            "object_position": null,
            "order": null,
            "overflow": null,
            "overflow_x": null,
            "overflow_y": null,
            "padding": null,
            "right": null,
            "top": null,
            "visibility": null,
            "width": null
          }
        },
        "535b630bc25b47b7bdafbb4742ab3376": {
          "model_module": "@jupyter-widgets/controls",
          "model_name": "DescriptionStyleModel",
          "model_module_version": "1.5.0",
          "state": {
            "_model_module": "@jupyter-widgets/controls",
            "_model_module_version": "1.5.0",
            "_model_name": "DescriptionStyleModel",
            "_view_count": null,
            "_view_module": "@jupyter-widgets/base",
            "_view_module_version": "1.2.0",
            "_view_name": "StyleView",
            "description_width": ""
          }
        },
        "442baa085196495d9b34d52d44d652ed": {
          "model_module": "@jupyter-widgets/controls",
          "model_name": "HBoxModel",
          "model_module_version": "1.5.0",
          "state": {
            "_dom_classes": [],
            "_model_module": "@jupyter-widgets/controls",
            "_model_module_version": "1.5.0",
            "_model_name": "HBoxModel",
            "_view_count": null,
            "_view_module": "@jupyter-widgets/controls",
            "_view_module_version": "1.5.0",
            "_view_name": "HBoxView",
            "box_style": "",
            "children": [
              "IPY_MODEL_22bdc87da0db4516a058668f1c86d581",
              "IPY_MODEL_5d90929f540c451ca70e59e12f86f806",
              "IPY_MODEL_ce72b69e7d8c4874855581c3c2998c63"
            ],
            "layout": "IPY_MODEL_99295325e570452195ba580ea1e3dcf6"
          }
        },
        "22bdc87da0db4516a058668f1c86d581": {
          "model_module": "@jupyter-widgets/controls",
          "model_name": "HTMLModel",
          "model_module_version": "1.5.0",
          "state": {
            "_dom_classes": [],
            "_model_module": "@jupyter-widgets/controls",
            "_model_module_version": "1.5.0",
            "_model_name": "HTMLModel",
            "_view_count": null,
            "_view_module": "@jupyter-widgets/controls",
            "_view_module_version": "1.5.0",
            "_view_name": "HTMLView",
            "description": "",
            "description_tooltip": null,
            "layout": "IPY_MODEL_0e9e236c4fe24901b6cbeeb89a34acf0",
            "placeholder": "​",
            "style": "IPY_MODEL_9ba098c5dd4845e09996aeead02d3208",
            "value": "Creating CSV from Arrow format: 100%"
          }
        },
        "5d90929f540c451ca70e59e12f86f806": {
          "model_module": "@jupyter-widgets/controls",
          "model_name": "FloatProgressModel",
          "model_module_version": "1.5.0",
          "state": {
            "_dom_classes": [],
            "_model_module": "@jupyter-widgets/controls",
            "_model_module_version": "1.5.0",
            "_model_name": "FloatProgressModel",
            "_view_count": null,
            "_view_module": "@jupyter-widgets/controls",
            "_view_module_version": "1.5.0",
            "_view_name": "ProgressView",
            "bar_style": "success",
            "description": "",
            "description_tooltip": null,
            "layout": "IPY_MODEL_e7a90af8f6104d68a750fe4aae172af0",
            "max": 1,
            "min": 0,
            "orientation": "horizontal",
            "style": "IPY_MODEL_550e4bba0b0c4b6793fa4aa42f64479c",
            "value": 1
          }
        },
        "ce72b69e7d8c4874855581c3c2998c63": {
          "model_module": "@jupyter-widgets/controls",
          "model_name": "HTMLModel",
          "model_module_version": "1.5.0",
          "state": {
            "_dom_classes": [],
            "_model_module": "@jupyter-widgets/controls",
            "_model_module_version": "1.5.0",
            "_model_name": "HTMLModel",
            "_view_count": null,
            "_view_module": "@jupyter-widgets/controls",
            "_view_module_version": "1.5.0",
            "_view_name": "HTMLView",
            "description": "",
            "description_tooltip": null,
            "layout": "IPY_MODEL_8dbed2801e8046da87b3d4b4c191dad4",
            "placeholder": "​",
            "style": "IPY_MODEL_6290cb35b89c40c0b0d2b2503934f134",
            "value": " 1/1 [00:00&lt;00:00, 48.98ba/s]"
          }
        },
        "99295325e570452195ba580ea1e3dcf6": {
          "model_module": "@jupyter-widgets/base",
          "model_name": "LayoutModel",
          "model_module_version": "1.2.0",
          "state": {
            "_model_module": "@jupyter-widgets/base",
            "_model_module_version": "1.2.0",
            "_model_name": "LayoutModel",
            "_view_count": null,
            "_view_module": "@jupyter-widgets/base",
            "_view_module_version": "1.2.0",
            "_view_name": "LayoutView",
            "align_content": null,
            "align_items": null,
            "align_self": null,
            "border": null,
            "bottom": null,
            "display": null,
            "flex": null,
            "flex_flow": null,
            "grid_area": null,
            "grid_auto_columns": null,
            "grid_auto_flow": null,
            "grid_auto_rows": null,
            "grid_column": null,
            "grid_gap": null,
            "grid_row": null,
            "grid_template_areas": null,
            "grid_template_columns": null,
            "grid_template_rows": null,
            "height": null,
            "justify_content": null,
            "justify_items": null,
            "left": null,
            "margin": null,
            "max_height": null,
            "max_width": null,
            "min_height": null,
            "min_width": null,
            "object_fit": null,
            "object_position": null,
            "order": null,
            "overflow": null,
            "overflow_x": null,
            "overflow_y": null,
            "padding": null,
            "right": null,
            "top": null,
            "visibility": null,
            "width": null
          }
        },
        "0e9e236c4fe24901b6cbeeb89a34acf0": {
          "model_module": "@jupyter-widgets/base",
          "model_name": "LayoutModel",
          "model_module_version": "1.2.0",
          "state": {
            "_model_module": "@jupyter-widgets/base",
            "_model_module_version": "1.2.0",
            "_model_name": "LayoutModel",
            "_view_count": null,
            "_view_module": "@jupyter-widgets/base",
            "_view_module_version": "1.2.0",
            "_view_name": "LayoutView",
            "align_content": null,
            "align_items": null,
            "align_self": null,
            "border": null,
            "bottom": null,
            "display": null,
            "flex": null,
            "flex_flow": null,
            "grid_area": null,
            "grid_auto_columns": null,
            "grid_auto_flow": null,
            "grid_auto_rows": null,
            "grid_column": null,
            "grid_gap": null,
            "grid_row": null,
            "grid_template_areas": null,
            "grid_template_columns": null,
            "grid_template_rows": null,
            "height": null,
            "justify_content": null,
            "justify_items": null,
            "left": null,
            "margin": null,
            "max_height": null,
            "max_width": null,
            "min_height": null,
            "min_width": null,
            "object_fit": null,
            "object_position": null,
            "order": null,
            "overflow": null,
            "overflow_x": null,
            "overflow_y": null,
            "padding": null,
            "right": null,
            "top": null,
            "visibility": null,
            "width": null
          }
        },
        "9ba098c5dd4845e09996aeead02d3208": {
          "model_module": "@jupyter-widgets/controls",
          "model_name": "DescriptionStyleModel",
          "model_module_version": "1.5.0",
          "state": {
            "_model_module": "@jupyter-widgets/controls",
            "_model_module_version": "1.5.0",
            "_model_name": "DescriptionStyleModel",
            "_view_count": null,
            "_view_module": "@jupyter-widgets/base",
            "_view_module_version": "1.2.0",
            "_view_name": "StyleView",
            "description_width": ""
          }
        },
        "e7a90af8f6104d68a750fe4aae172af0": {
          "model_module": "@jupyter-widgets/base",
          "model_name": "LayoutModel",
          "model_module_version": "1.2.0",
          "state": {
            "_model_module": "@jupyter-widgets/base",
            "_model_module_version": "1.2.0",
            "_model_name": "LayoutModel",
            "_view_count": null,
            "_view_module": "@jupyter-widgets/base",
            "_view_module_version": "1.2.0",
            "_view_name": "LayoutView",
            "align_content": null,
            "align_items": null,
            "align_self": null,
            "border": null,
            "bottom": null,
            "display": null,
            "flex": null,
            "flex_flow": null,
            "grid_area": null,
            "grid_auto_columns": null,
            "grid_auto_flow": null,
            "grid_auto_rows": null,
            "grid_column": null,
            "grid_gap": null,
            "grid_row": null,
            "grid_template_areas": null,
            "grid_template_columns": null,
            "grid_template_rows": null,
            "height": null,
            "justify_content": null,
            "justify_items": null,
            "left": null,
            "margin": null,
            "max_height": null,
            "max_width": null,
            "min_height": null,
            "min_width": null,
            "object_fit": null,
            "object_position": null,
            "order": null,
            "overflow": null,
            "overflow_x": null,
            "overflow_y": null,
            "padding": null,
            "right": null,
            "top": null,
            "visibility": null,
            "width": null
          }
        },
        "550e4bba0b0c4b6793fa4aa42f64479c": {
          "model_module": "@jupyter-widgets/controls",
          "model_name": "ProgressStyleModel",
          "model_module_version": "1.5.0",
          "state": {
            "_model_module": "@jupyter-widgets/controls",
            "_model_module_version": "1.5.0",
            "_model_name": "ProgressStyleModel",
            "_view_count": null,
            "_view_module": "@jupyter-widgets/base",
            "_view_module_version": "1.2.0",
            "_view_name": "StyleView",
            "bar_color": null,
            "description_width": ""
          }
        },
        "8dbed2801e8046da87b3d4b4c191dad4": {
          "model_module": "@jupyter-widgets/base",
          "model_name": "LayoutModel",
          "model_module_version": "1.2.0",
          "state": {
            "_model_module": "@jupyter-widgets/base",
            "_model_module_version": "1.2.0",
            "_model_name": "LayoutModel",
            "_view_count": null,
            "_view_module": "@jupyter-widgets/base",
            "_view_module_version": "1.2.0",
            "_view_name": "LayoutView",
            "align_content": null,
            "align_items": null,
            "align_self": null,
            "border": null,
            "bottom": null,
            "display": null,
            "flex": null,
            "flex_flow": null,
            "grid_area": null,
            "grid_auto_columns": null,
            "grid_auto_flow": null,
            "grid_auto_rows": null,
            "grid_column": null,
            "grid_gap": null,
            "grid_row": null,
            "grid_template_areas": null,
            "grid_template_columns": null,
            "grid_template_rows": null,
            "height": null,
            "justify_content": null,
            "justify_items": null,
            "left": null,
            "margin": null,
            "max_height": null,
            "max_width": null,
            "min_height": null,
            "min_width": null,
            "object_fit": null,
            "object_position": null,
            "order": null,
            "overflow": null,
            "overflow_x": null,
            "overflow_y": null,
            "padding": null,
            "right": null,
            "top": null,
            "visibility": null,
            "width": null
          }
        },
        "6290cb35b89c40c0b0d2b2503934f134": {
          "model_module": "@jupyter-widgets/controls",
          "model_name": "DescriptionStyleModel",
          "model_module_version": "1.5.0",
          "state": {
            "_model_module": "@jupyter-widgets/controls",
            "_model_module_version": "1.5.0",
            "_model_name": "DescriptionStyleModel",
            "_view_count": null,
            "_view_module": "@jupyter-widgets/base",
            "_view_module_version": "1.2.0",
            "_view_name": "StyleView",
            "description_width": ""
          }
        }
      }
    },
    "accelerator": "GPU"
  },
  "nbformat": 4,
  "nbformat_minor": 5
}